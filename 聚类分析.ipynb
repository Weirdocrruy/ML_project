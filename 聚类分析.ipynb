{
 "cells": [
  {
   "cell_type": "code",
   "execution_count": 174,
   "id": "61162037",
   "metadata": {},
   "outputs": [],
   "source": [
    "import pandas as pd\n",
    "import numpy as np\n",
    "import matplotlib.pyplot as plt\n",
    "from sklearn.cluster import KMeans\n",
    "from sklearn.metrics import silhouette_score\n",
    "plt.rcParams[\"font.family\"] = 'Arial Unicode MS'\n",
    "plt.rcParams['axes.unicode_minus']=False\n",
    "from sklearn.datasets import load_wine"
   ]
  },
  {
   "cell_type": "code",
   "execution_count": 360,
   "id": "59da02df",
   "metadata": {},
   "outputs": [],
   "source": [
    "data1 = pd.read_csv('/Users/yangzhou/R语言/统计分析/SZ#000001.txt',sep = '\\t',encoding='gbk',header=1) # 平安银行"
   ]
  },
  {
   "cell_type": "code",
   "execution_count": 361,
   "id": "c30cd2b8",
   "metadata": {},
   "outputs": [
    {
     "data": {
      "text/html": [
       "<div>\n",
       "<style scoped>\n",
       "    .dataframe tbody tr th:only-of-type {\n",
       "        vertical-align: middle;\n",
       "    }\n",
       "\n",
       "    .dataframe tbody tr th {\n",
       "        vertical-align: top;\n",
       "    }\n",
       "\n",
       "    .dataframe thead th {\n",
       "        text-align: right;\n",
       "    }\n",
       "</style>\n",
       "<table border=\"1\" class=\"dataframe\">\n",
       "  <thead>\n",
       "    <tr style=\"text-align: right;\">\n",
       "      <th></th>\n",
       "      <th>日期</th>\n",
       "      <th>开盘</th>\n",
       "      <th>最高</th>\n",
       "      <th>最低</th>\n",
       "      <th>收盘</th>\n",
       "      <th>成交量</th>\n",
       "      <th>成交额</th>\n",
       "    </tr>\n",
       "  </thead>\n",
       "  <tbody>\n",
       "    <tr>\n",
       "      <th>0</th>\n",
       "      <td>2021/07/22</td>\n",
       "      <td>20.45</td>\n",
       "      <td>20.66</td>\n",
       "      <td>20.24</td>\n",
       "      <td>20.38</td>\n",
       "      <td>86864809.0</td>\n",
       "      <td>1.773999e+09</td>\n",
       "    </tr>\n",
       "    <tr>\n",
       "      <th>1</th>\n",
       "      <td>2021/07/23</td>\n",
       "      <td>20.38</td>\n",
       "      <td>20.38</td>\n",
       "      <td>20.00</td>\n",
       "      <td>20.10</td>\n",
       "      <td>72740433.0</td>\n",
       "      <td>1.461468e+09</td>\n",
       "    </tr>\n",
       "    <tr>\n",
       "      <th>2</th>\n",
       "      <td>2021/07/26</td>\n",
       "      <td>19.96</td>\n",
       "      <td>19.99</td>\n",
       "      <td>18.43</td>\n",
       "      <td>18.80</td>\n",
       "      <td>145130394.0</td>\n",
       "      <td>2.770237e+09</td>\n",
       "    </tr>\n",
       "    <tr>\n",
       "      <th>3</th>\n",
       "      <td>2021/07/27</td>\n",
       "      <td>18.87</td>\n",
       "      <td>18.99</td>\n",
       "      <td>17.60</td>\n",
       "      <td>17.76</td>\n",
       "      <td>135755148.0</td>\n",
       "      <td>2.461708e+09</td>\n",
       "    </tr>\n",
       "    <tr>\n",
       "      <th>4</th>\n",
       "      <td>2021/07/28</td>\n",
       "      <td>17.85</td>\n",
       "      <td>18.07</td>\n",
       "      <td>17.68</td>\n",
       "      <td>17.75</td>\n",
       "      <td>106299421.0</td>\n",
       "      <td>1.898563e+09</td>\n",
       "    </tr>\n",
       "    <tr>\n",
       "      <th>...</th>\n",
       "      <td>...</td>\n",
       "      <td>...</td>\n",
       "      <td>...</td>\n",
       "      <td>...</td>\n",
       "      <td>...</td>\n",
       "      <td>...</td>\n",
       "      <td>...</td>\n",
       "    </tr>\n",
       "    <tr>\n",
       "      <th>136</th>\n",
       "      <td>2022/02/16</td>\n",
       "      <td>16.35</td>\n",
       "      <td>16.53</td>\n",
       "      <td>16.21</td>\n",
       "      <td>16.41</td>\n",
       "      <td>78239959.0</td>\n",
       "      <td>1.282234e+09</td>\n",
       "    </tr>\n",
       "    <tr>\n",
       "      <th>137</th>\n",
       "      <td>2022/02/17</td>\n",
       "      <td>16.39</td>\n",
       "      <td>16.55</td>\n",
       "      <td>16.32</td>\n",
       "      <td>16.42</td>\n",
       "      <td>79450184.0</td>\n",
       "      <td>1.306514e+09</td>\n",
       "    </tr>\n",
       "    <tr>\n",
       "      <th>138</th>\n",
       "      <td>2022/02/18</td>\n",
       "      <td>16.32</td>\n",
       "      <td>16.77</td>\n",
       "      <td>16.31</td>\n",
       "      <td>16.77</td>\n",
       "      <td>80249940.0</td>\n",
       "      <td>1.330233e+09</td>\n",
       "    </tr>\n",
       "    <tr>\n",
       "      <th>139</th>\n",
       "      <td>2022/04/08</td>\n",
       "      <td>16.28</td>\n",
       "      <td>16.28</td>\n",
       "      <td>16.28</td>\n",
       "      <td>16.28</td>\n",
       "      <td>0.0</td>\n",
       "      <td>0.000000e+00</td>\n",
       "    </tr>\n",
       "    <tr>\n",
       "      <th>140</th>\n",
       "      <td>数据来源:通达信</td>\n",
       "      <td>NaN</td>\n",
       "      <td>NaN</td>\n",
       "      <td>NaN</td>\n",
       "      <td>NaN</td>\n",
       "      <td>NaN</td>\n",
       "      <td>NaN</td>\n",
       "    </tr>\n",
       "  </tbody>\n",
       "</table>\n",
       "<p>141 rows × 7 columns</p>\n",
       "</div>"
      ],
      "text/plain": [
       "             日期      开盘      最高      最低      收盘          成交量           成交额\n",
       "0    2021/07/22   20.45   20.66   20.24   20.38   86864809.0  1.773999e+09\n",
       "1    2021/07/23   20.38   20.38   20.00   20.10   72740433.0  1.461468e+09\n",
       "2    2021/07/26   19.96   19.99   18.43   18.80  145130394.0  2.770237e+09\n",
       "3    2021/07/27   18.87   18.99   17.60   17.76  135755148.0  2.461708e+09\n",
       "4    2021/07/28   17.85   18.07   17.68   17.75  106299421.0  1.898563e+09\n",
       "..          ...     ...     ...     ...     ...          ...           ...\n",
       "136  2022/02/16   16.35   16.53   16.21   16.41   78239959.0  1.282234e+09\n",
       "137  2022/02/17   16.39   16.55   16.32   16.42   79450184.0  1.306514e+09\n",
       "138  2022/02/18   16.32   16.77   16.31   16.77   80249940.0  1.330233e+09\n",
       "139  2022/04/08   16.28   16.28   16.28   16.28          0.0  0.000000e+00\n",
       "140    数据来源:通达信     NaN     NaN     NaN     NaN          NaN           NaN\n",
       "\n",
       "[141 rows x 7 columns]"
      ]
     },
     "execution_count": 361,
     "metadata": {},
     "output_type": "execute_result"
    }
   ],
   "source": [
    "data1"
   ]
  },
  {
   "cell_type": "code",
   "execution_count": 362,
   "id": "92bb6bf9",
   "metadata": {},
   "outputs": [],
   "source": [
    "data2 = pd.read_csv('/Users/yangzhou/R语言/统计分析/SH#600031.txt',sep='\\t',encoding='gbk',header=1) # 三一重工"
   ]
  },
  {
   "cell_type": "code",
   "execution_count": 363,
   "id": "1b9b1a40",
   "metadata": {},
   "outputs": [
    {
     "data": {
      "text/html": [
       "<div>\n",
       "<style scoped>\n",
       "    .dataframe tbody tr th:only-of-type {\n",
       "        vertical-align: middle;\n",
       "    }\n",
       "\n",
       "    .dataframe tbody tr th {\n",
       "        vertical-align: top;\n",
       "    }\n",
       "\n",
       "    .dataframe thead th {\n",
       "        text-align: right;\n",
       "    }\n",
       "</style>\n",
       "<table border=\"1\" class=\"dataframe\">\n",
       "  <thead>\n",
       "    <tr style=\"text-align: right;\">\n",
       "      <th></th>\n",
       "      <th>日期</th>\n",
       "      <th>开盘</th>\n",
       "      <th>最高</th>\n",
       "      <th>最低</th>\n",
       "      <th>收盘</th>\n",
       "      <th>成交量</th>\n",
       "      <th>成交额</th>\n",
       "    </tr>\n",
       "  </thead>\n",
       "  <tbody>\n",
       "    <tr>\n",
       "      <th>0</th>\n",
       "      <td>2021/07/22</td>\n",
       "      <td>25.80</td>\n",
       "      <td>27.90</td>\n",
       "      <td>25.71</td>\n",
       "      <td>27.65</td>\n",
       "      <td>345683996.0</td>\n",
       "      <td>9.477014e+09</td>\n",
       "    </tr>\n",
       "    <tr>\n",
       "      <th>1</th>\n",
       "      <td>2021/07/23</td>\n",
       "      <td>27.72</td>\n",
       "      <td>28.59</td>\n",
       "      <td>27.33</td>\n",
       "      <td>27.37</td>\n",
       "      <td>250461455.0</td>\n",
       "      <td>6.981093e+09</td>\n",
       "    </tr>\n",
       "    <tr>\n",
       "      <th>2</th>\n",
       "      <td>2021/07/26</td>\n",
       "      <td>27.15</td>\n",
       "      <td>27.28</td>\n",
       "      <td>26.33</td>\n",
       "      <td>26.50</td>\n",
       "      <td>175358585.0</td>\n",
       "      <td>4.683601e+09</td>\n",
       "    </tr>\n",
       "    <tr>\n",
       "      <th>3</th>\n",
       "      <td>2021/07/27</td>\n",
       "      <td>26.78</td>\n",
       "      <td>26.96</td>\n",
       "      <td>25.05</td>\n",
       "      <td>25.10</td>\n",
       "      <td>180743177.0</td>\n",
       "      <td>4.666158e+09</td>\n",
       "    </tr>\n",
       "    <tr>\n",
       "      <th>4</th>\n",
       "      <td>2021/07/28</td>\n",
       "      <td>24.93</td>\n",
       "      <td>25.38</td>\n",
       "      <td>24.52</td>\n",
       "      <td>24.94</td>\n",
       "      <td>114037944.0</td>\n",
       "      <td>2.842062e+09</td>\n",
       "    </tr>\n",
       "    <tr>\n",
       "      <th>...</th>\n",
       "      <td>...</td>\n",
       "      <td>...</td>\n",
       "      <td>...</td>\n",
       "      <td>...</td>\n",
       "      <td>...</td>\n",
       "      <td>...</td>\n",
       "      <td>...</td>\n",
       "    </tr>\n",
       "    <tr>\n",
       "      <th>136</th>\n",
       "      <td>2022/02/16</td>\n",
       "      <td>20.92</td>\n",
       "      <td>21.00</td>\n",
       "      <td>20.68</td>\n",
       "      <td>20.82</td>\n",
       "      <td>50258999.0</td>\n",
       "      <td>1.047139e+09</td>\n",
       "    </tr>\n",
       "    <tr>\n",
       "      <th>137</th>\n",
       "      <td>2022/02/17</td>\n",
       "      <td>20.84</td>\n",
       "      <td>20.89</td>\n",
       "      <td>20.60</td>\n",
       "      <td>20.75</td>\n",
       "      <td>49515075.0</td>\n",
       "      <td>1.024836e+09</td>\n",
       "    </tr>\n",
       "    <tr>\n",
       "      <th>138</th>\n",
       "      <td>2022/02/18</td>\n",
       "      <td>20.55</td>\n",
       "      <td>20.90</td>\n",
       "      <td>20.49</td>\n",
       "      <td>20.89</td>\n",
       "      <td>58997368.0</td>\n",
       "      <td>1.220990e+09</td>\n",
       "    </tr>\n",
       "    <tr>\n",
       "      <th>139</th>\n",
       "      <td>2022/04/08</td>\n",
       "      <td>17.66</td>\n",
       "      <td>17.66</td>\n",
       "      <td>17.66</td>\n",
       "      <td>17.66</td>\n",
       "      <td>0.0</td>\n",
       "      <td>0.000000e+00</td>\n",
       "    </tr>\n",
       "    <tr>\n",
       "      <th>140</th>\n",
       "      <td>数据来源:通达信</td>\n",
       "      <td>NaN</td>\n",
       "      <td>NaN</td>\n",
       "      <td>NaN</td>\n",
       "      <td>NaN</td>\n",
       "      <td>NaN</td>\n",
       "      <td>NaN</td>\n",
       "    </tr>\n",
       "  </tbody>\n",
       "</table>\n",
       "<p>141 rows × 7 columns</p>\n",
       "</div>"
      ],
      "text/plain": [
       "             日期      开盘      最高      最低      收盘          成交量           成交额\n",
       "0    2021/07/22   25.80   27.90   25.71   27.65  345683996.0  9.477014e+09\n",
       "1    2021/07/23   27.72   28.59   27.33   27.37  250461455.0  6.981093e+09\n",
       "2    2021/07/26   27.15   27.28   26.33   26.50  175358585.0  4.683601e+09\n",
       "3    2021/07/27   26.78   26.96   25.05   25.10  180743177.0  4.666158e+09\n",
       "4    2021/07/28   24.93   25.38   24.52   24.94  114037944.0  2.842062e+09\n",
       "..          ...     ...     ...     ...     ...          ...           ...\n",
       "136  2022/02/16   20.92   21.00   20.68   20.82   50258999.0  1.047139e+09\n",
       "137  2022/02/17   20.84   20.89   20.60   20.75   49515075.0  1.024836e+09\n",
       "138  2022/02/18   20.55   20.90   20.49   20.89   58997368.0  1.220990e+09\n",
       "139  2022/04/08   17.66   17.66   17.66   17.66          0.0  0.000000e+00\n",
       "140    数据来源:通达信     NaN     NaN     NaN     NaN          NaN           NaN\n",
       "\n",
       "[141 rows x 7 columns]"
      ]
     },
     "execution_count": 363,
     "metadata": {},
     "output_type": "execute_result"
    }
   ],
   "source": [
    "data2"
   ]
  },
  {
   "cell_type": "code",
   "execution_count": 593,
   "id": "db814a8e",
   "metadata": {},
   "outputs": [],
   "source": [
    "data = pd.concat([data1.iloc[:,[1,5]],data2.iloc[:,[1,5]]],axis=0)"
   ]
  },
  {
   "cell_type": "code",
   "execution_count": 594,
   "id": "120353b2",
   "metadata": {},
   "outputs": [
    {
     "data": {
      "text/html": [
       "<div>\n",
       "<style scoped>\n",
       "    .dataframe tbody tr th:only-of-type {\n",
       "        vertical-align: middle;\n",
       "    }\n",
       "\n",
       "    .dataframe tbody tr th {\n",
       "        vertical-align: top;\n",
       "    }\n",
       "\n",
       "    .dataframe thead th {\n",
       "        text-align: right;\n",
       "    }\n",
       "</style>\n",
       "<table border=\"1\" class=\"dataframe\">\n",
       "  <thead>\n",
       "    <tr style=\"text-align: right;\">\n",
       "      <th></th>\n",
       "      <th>开盘</th>\n",
       "      <th>成交量</th>\n",
       "    </tr>\n",
       "  </thead>\n",
       "  <tbody>\n",
       "    <tr>\n",
       "      <th>0</th>\n",
       "      <td>20.45</td>\n",
       "      <td>86864809.0</td>\n",
       "    </tr>\n",
       "    <tr>\n",
       "      <th>1</th>\n",
       "      <td>20.38</td>\n",
       "      <td>72740433.0</td>\n",
       "    </tr>\n",
       "    <tr>\n",
       "      <th>2</th>\n",
       "      <td>19.96</td>\n",
       "      <td>145130394.0</td>\n",
       "    </tr>\n",
       "    <tr>\n",
       "      <th>3</th>\n",
       "      <td>18.87</td>\n",
       "      <td>135755148.0</td>\n",
       "    </tr>\n",
       "    <tr>\n",
       "      <th>4</th>\n",
       "      <td>17.85</td>\n",
       "      <td>106299421.0</td>\n",
       "    </tr>\n",
       "    <tr>\n",
       "      <th>...</th>\n",
       "      <td>...</td>\n",
       "      <td>...</td>\n",
       "    </tr>\n",
       "    <tr>\n",
       "      <th>136</th>\n",
       "      <td>20.92</td>\n",
       "      <td>50258999.0</td>\n",
       "    </tr>\n",
       "    <tr>\n",
       "      <th>137</th>\n",
       "      <td>20.84</td>\n",
       "      <td>49515075.0</td>\n",
       "    </tr>\n",
       "    <tr>\n",
       "      <th>138</th>\n",
       "      <td>20.55</td>\n",
       "      <td>58997368.0</td>\n",
       "    </tr>\n",
       "    <tr>\n",
       "      <th>139</th>\n",
       "      <td>17.66</td>\n",
       "      <td>0.0</td>\n",
       "    </tr>\n",
       "    <tr>\n",
       "      <th>140</th>\n",
       "      <td>NaN</td>\n",
       "      <td>NaN</td>\n",
       "    </tr>\n",
       "  </tbody>\n",
       "</table>\n",
       "<p>282 rows × 2 columns</p>\n",
       "</div>"
      ],
      "text/plain": [
       "         开盘          成交量\n",
       "0     20.45   86864809.0\n",
       "1     20.38   72740433.0\n",
       "2     19.96  145130394.0\n",
       "3     18.87  135755148.0\n",
       "4     17.85  106299421.0\n",
       "..      ...          ...\n",
       "136   20.92   50258999.0\n",
       "137   20.84   49515075.0\n",
       "138   20.55   58997368.0\n",
       "139   17.66          0.0\n",
       "140     NaN          NaN\n",
       "\n",
       "[282 rows x 2 columns]"
      ]
     },
     "execution_count": 594,
     "metadata": {},
     "output_type": "execute_result"
    }
   ],
   "source": [
    "data"
   ]
  },
  {
   "cell_type": "code",
   "execution_count": 595,
   "id": "5468ca2e",
   "metadata": {},
   "outputs": [
    {
     "data": {
      "text/plain": [
       "Index(['    开盘', '    成交量'], dtype='object')"
      ]
     },
     "execution_count": 595,
     "metadata": {},
     "output_type": "execute_result"
    }
   ],
   "source": [
    "data.columns"
   ]
  },
  {
   "cell_type": "code",
   "execution_count": 596,
   "id": "a5597d31",
   "metadata": {},
   "outputs": [],
   "source": [
    "data = data.dropna()"
   ]
  },
  {
   "cell_type": "code",
   "execution_count": 597,
   "id": "abc37dfd",
   "metadata": {},
   "outputs": [
    {
     "name": "stderr",
     "output_type": "stream",
     "text": [
      "/Users/yangzhou/opt/anaconda3/lib/python3.7/site-packages/ipykernel_launcher.py:1: SettingWithCopyWarning: \n",
      "A value is trying to be set on a copy of a slice from a DataFrame.\n",
      "Try using .loc[row_indexer,col_indexer] = value instead\n",
      "\n",
      "See the caveats in the documentation: https://pandas.pydata.org/pandas-docs/stable/user_guide/indexing.html#returning-a-view-versus-a-copy\n",
      "  \"\"\"Entry point for launching an IPython kernel.\n"
     ]
    }
   ],
   "source": [
    "data['label'] = [0 for _ in range(140)]+[1 for _ in range(140)]"
   ]
  },
  {
   "cell_type": "code",
   "execution_count": 598,
   "id": "fa5605c9",
   "metadata": {},
   "outputs": [],
   "source": [
    "data = data.reset_index(drop=True)"
   ]
  },
  {
   "cell_type": "code",
   "execution_count": 599,
   "id": "252bd58b",
   "metadata": {},
   "outputs": [
    {
     "data": {
      "text/html": [
       "<div>\n",
       "<style scoped>\n",
       "    .dataframe tbody tr th:only-of-type {\n",
       "        vertical-align: middle;\n",
       "    }\n",
       "\n",
       "    .dataframe tbody tr th {\n",
       "        vertical-align: top;\n",
       "    }\n",
       "\n",
       "    .dataframe thead th {\n",
       "        text-align: right;\n",
       "    }\n",
       "</style>\n",
       "<table border=\"1\" class=\"dataframe\">\n",
       "  <thead>\n",
       "    <tr style=\"text-align: right;\">\n",
       "      <th></th>\n",
       "      <th>开盘</th>\n",
       "      <th>成交量</th>\n",
       "      <th>label</th>\n",
       "    </tr>\n",
       "  </thead>\n",
       "  <tbody>\n",
       "    <tr>\n",
       "      <th>0</th>\n",
       "      <td>20.45</td>\n",
       "      <td>86864809.0</td>\n",
       "      <td>0</td>\n",
       "    </tr>\n",
       "    <tr>\n",
       "      <th>1</th>\n",
       "      <td>20.38</td>\n",
       "      <td>72740433.0</td>\n",
       "      <td>0</td>\n",
       "    </tr>\n",
       "    <tr>\n",
       "      <th>2</th>\n",
       "      <td>19.96</td>\n",
       "      <td>145130394.0</td>\n",
       "      <td>0</td>\n",
       "    </tr>\n",
       "    <tr>\n",
       "      <th>3</th>\n",
       "      <td>18.87</td>\n",
       "      <td>135755148.0</td>\n",
       "      <td>0</td>\n",
       "    </tr>\n",
       "    <tr>\n",
       "      <th>4</th>\n",
       "      <td>17.85</td>\n",
       "      <td>106299421.0</td>\n",
       "      <td>0</td>\n",
       "    </tr>\n",
       "    <tr>\n",
       "      <th>...</th>\n",
       "      <td>...</td>\n",
       "      <td>...</td>\n",
       "      <td>...</td>\n",
       "    </tr>\n",
       "    <tr>\n",
       "      <th>275</th>\n",
       "      <td>20.40</td>\n",
       "      <td>57676212.0</td>\n",
       "      <td>1</td>\n",
       "    </tr>\n",
       "    <tr>\n",
       "      <th>276</th>\n",
       "      <td>20.92</td>\n",
       "      <td>50258999.0</td>\n",
       "      <td>1</td>\n",
       "    </tr>\n",
       "    <tr>\n",
       "      <th>277</th>\n",
       "      <td>20.84</td>\n",
       "      <td>49515075.0</td>\n",
       "      <td>1</td>\n",
       "    </tr>\n",
       "    <tr>\n",
       "      <th>278</th>\n",
       "      <td>20.55</td>\n",
       "      <td>58997368.0</td>\n",
       "      <td>1</td>\n",
       "    </tr>\n",
       "    <tr>\n",
       "      <th>279</th>\n",
       "      <td>17.66</td>\n",
       "      <td>0.0</td>\n",
       "      <td>1</td>\n",
       "    </tr>\n",
       "  </tbody>\n",
       "</table>\n",
       "<p>280 rows × 3 columns</p>\n",
       "</div>"
      ],
      "text/plain": [
       "         开盘          成交量  label\n",
       "0     20.45   86864809.0      0\n",
       "1     20.38   72740433.0      0\n",
       "2     19.96  145130394.0      0\n",
       "3     18.87  135755148.0      0\n",
       "4     17.85  106299421.0      0\n",
       "..      ...          ...    ...\n",
       "275   20.40   57676212.0      1\n",
       "276   20.92   50258999.0      1\n",
       "277   20.84   49515075.0      1\n",
       "278   20.55   58997368.0      1\n",
       "279   17.66          0.0      1\n",
       "\n",
       "[280 rows x 3 columns]"
      ]
     },
     "execution_count": 599,
     "metadata": {},
     "output_type": "execute_result"
    }
   ],
   "source": [
    "data"
   ]
  },
  {
   "cell_type": "code",
   "execution_count": 600,
   "id": "566a4071",
   "metadata": {},
   "outputs": [],
   "source": [
    "# X = data.iloc[:,[0,1]]"
   ]
  },
  {
   "cell_type": "code",
   "execution_count": 601,
   "id": "6668d94c",
   "metadata": {},
   "outputs": [
    {
     "data": {
      "text/plain": [
       "Text(0.5, 1.0, '原始数据分布')"
      ]
     },
     "execution_count": 601,
     "metadata": {},
     "output_type": "execute_result"
    },
    {
     "data": {
      "image/png": "[encoded data removed]",
      "text/plain": [
       "<Figure size 432x288 with 1 Axes>"
      ]
     },
     "metadata": {
      "needs_background": "light"
     },
     "output_type": "display_data"
    }
   ],
   "source": [
    "ax = plt.subplot(1,1,1)\n",
    "ax.scatter(data[data.label==0].iloc[:,0],data[data.label==0].iloc[:,1],c = 'green',label = '平安银行')\n",
    "ax.scatter(data[data.label==1].iloc[:,0],data[data.label==1].iloc[:,1],c = 'red',label = '三一重工')\n",
    "ax.legend()\n",
    "ax.set_title('原始数据分布')"
   ]
  },
  {
   "cell_type": "code",
   "execution_count": 513,
   "id": "f47c8f61",
   "metadata": {},
   "outputs": [],
   "source": [
    "# 计算评估指标\n",
    "def evalution(centers,X):\n",
    "    E_in_list = []\n",
    "    for num,center in enumerate(centers):\n",
    "        E_in_list.append((np.sum((X[X.iloc[:,-1]==num].iloc[:,[0,1]].values-np.median(X[X.iloc[:,-1]==num].iloc[:,[0,1]].values,axis=0))**2,axis=1).sum())/X[X.iloc[:,-1]==num].iloc[:,[0,1]].shape[0])\n",
    "    E_in = np.array(E_in_list).sum()\n",
    "    E_out = np.sum((centers-centers.mean(axis=0).reshape(-1,2))**2)/centers.shape[0]+1e-6\n",
    "    return E_in/E_out"
   ]
  },
  {
   "cell_type": "code",
   "execution_count": 426,
   "id": "b8ffe730",
   "metadata": {},
   "outputs": [],
   "source": [
    "data = pd.DataFrame(columns=[0,1,2])"
   ]
  },
  {
   "cell_type": "code",
   "execution_count": 428,
   "id": "403468c6",
   "metadata": {},
   "outputs": [],
   "source": [
    "data[0] = [1,2,3]\n",
    "data[1] = [4,5,6]\n",
    "data[2] = [0,0,0]"
   ]
  },
  {
   "cell_type": "code",
   "execution_count": 489,
   "id": "9c194c6c",
   "metadata": {},
   "outputs": [],
   "source": [
    "centers = np.array([[1,2],[3,4]])"
   ]
  },
  {
   "cell_type": "code",
   "execution_count": 492,
   "id": "24d40505",
   "metadata": {},
   "outputs": [
    {
     "data": {
      "text/plain": [
       "array([2., 3.])"
      ]
     },
     "execution_count": 492,
     "metadata": {},
     "output_type": "execute_result"
    }
   ],
   "source": [
    "centers.mean(axis=0)"
   ]
  },
  {
   "cell_type": "code",
   "execution_count": 490,
   "id": "24c33edc",
   "metadata": {},
   "outputs": [
    {
     "data": {
      "text/plain": [
       "0.5"
      ]
     },
     "execution_count": 490,
     "metadata": {},
     "output_type": "execute_result"
    }
   ],
   "source": [
    "np.sum((centers-centers.mean(axis=0).reshape(-1,1))**2)/centers.shape[0]"
   ]
  },
  {
   "cell_type": "code",
   "execution_count": 446,
   "id": "1f2d4fb7",
   "metadata": {},
   "outputs": [
    {
     "data": {
      "text/html": [
       "<div>\n",
       "<style scoped>\n",
       "    .dataframe tbody tr th:only-of-type {\n",
       "        vertical-align: middle;\n",
       "    }\n",
       "\n",
       "    .dataframe tbody tr th {\n",
       "        vertical-align: top;\n",
       "    }\n",
       "\n",
       "    .dataframe thead th {\n",
       "        text-align: right;\n",
       "    }\n",
       "</style>\n",
       "<table border=\"1\" class=\"dataframe\">\n",
       "  <thead>\n",
       "    <tr style=\"text-align: right;\">\n",
       "      <th></th>\n",
       "      <th>开盘</th>\n",
       "      <th>成交量</th>\n",
       "      <th>label</th>\n",
       "    </tr>\n",
       "  </thead>\n",
       "  <tbody>\n",
       "    <tr>\n",
       "      <th>0</th>\n",
       "      <td>20.45</td>\n",
       "      <td>86864809.0</td>\n",
       "      <td>0</td>\n",
       "    </tr>\n",
       "    <tr>\n",
       "      <th>1</th>\n",
       "      <td>20.38</td>\n",
       "      <td>72740433.0</td>\n",
       "      <td>0</td>\n",
       "    </tr>\n",
       "    <tr>\n",
       "      <th>2</th>\n",
       "      <td>19.96</td>\n",
       "      <td>145130394.0</td>\n",
       "      <td>0</td>\n",
       "    </tr>\n",
       "    <tr>\n",
       "      <th>3</th>\n",
       "      <td>18.87</td>\n",
       "      <td>135755148.0</td>\n",
       "      <td>0</td>\n",
       "    </tr>\n",
       "    <tr>\n",
       "      <th>4</th>\n",
       "      <td>17.85</td>\n",
       "      <td>106299421.0</td>\n",
       "      <td>0</td>\n",
       "    </tr>\n",
       "    <tr>\n",
       "      <th>...</th>\n",
       "      <td>...</td>\n",
       "      <td>...</td>\n",
       "      <td>...</td>\n",
       "    </tr>\n",
       "    <tr>\n",
       "      <th>275</th>\n",
       "      <td>20.40</td>\n",
       "      <td>57676212.0</td>\n",
       "      <td>1</td>\n",
       "    </tr>\n",
       "    <tr>\n",
       "      <th>276</th>\n",
       "      <td>20.92</td>\n",
       "      <td>50258999.0</td>\n",
       "      <td>1</td>\n",
       "    </tr>\n",
       "    <tr>\n",
       "      <th>277</th>\n",
       "      <td>20.84</td>\n",
       "      <td>49515075.0</td>\n",
       "      <td>1</td>\n",
       "    </tr>\n",
       "    <tr>\n",
       "      <th>278</th>\n",
       "      <td>20.55</td>\n",
       "      <td>58997368.0</td>\n",
       "      <td>1</td>\n",
       "    </tr>\n",
       "    <tr>\n",
       "      <th>279</th>\n",
       "      <td>17.66</td>\n",
       "      <td>0.0</td>\n",
       "      <td>1</td>\n",
       "    </tr>\n",
       "  </tbody>\n",
       "</table>\n",
       "<p>280 rows × 3 columns</p>\n",
       "</div>"
      ],
      "text/plain": [
       "         开盘          成交量  label\n",
       "0     20.45   86864809.0      0\n",
       "1     20.38   72740433.0      0\n",
       "2     19.96  145130394.0      0\n",
       "3     18.87  135755148.0      0\n",
       "4     17.85  106299421.0      0\n",
       "..      ...          ...    ...\n",
       "275   20.40   57676212.0      1\n",
       "276   20.92   50258999.0      1\n",
       "277   20.84   49515075.0      1\n",
       "278   20.55   58997368.0      1\n",
       "279   17.66          0.0      1\n",
       "\n",
       "[280 rows x 3 columns]"
      ]
     },
     "execution_count": 446,
     "metadata": {},
     "output_type": "execute_result"
    }
   ],
   "source": [
    "data"
   ]
  },
  {
   "cell_type": "code",
   "execution_count": 433,
   "id": "b344dff4",
   "metadata": {},
   "outputs": [
    {
     "data": {
      "text/plain": [
       "1.3333333333333333"
      ]
     },
     "execution_count": 433,
     "metadata": {},
     "output_type": "execute_result"
    }
   ],
   "source": [
    "np.sum(((data[data.iloc[:,-1]==0].iloc[:,[0,1]].values-np.median(data[data.iloc[:,-1]==0].iloc[:,[0,1]].values,axis=0))**2),axis=1).sum()/data[data.iloc[:,-1]==0].iloc[:,[0,1]].shape[0]"
   ]
  },
  {
   "cell_type": "code",
   "execution_count": 536,
   "id": "a58e6cfc",
   "metadata": {},
   "outputs": [],
   "source": [
    "evss = []\n",
    "for i in range(10):\n",
    "    kmeans_ = KMeans(n_clusters=i+1,init='random').fit(data.iloc[:,[0,1]])\n",
    "    centers = kmeans_.cluster_centers_\n",
    "    data['predict'] = kmeans_.predict(data.iloc[:,[0,1]])\n",
    "    evss.append(evalution(centers,data))"
   ]
  },
  {
   "cell_type": "code",
   "execution_count": 537,
   "id": "77daa5a8",
   "metadata": {},
   "outputs": [
    {
     "data": {
      "text/plain": [
       "[5.329514545248637e+21,\n",
       " 1.356685259488241,\n",
       " 0.5033616544806874,\n",
       " 0.5157889801346898,\n",
       " 0.5322473679215861,\n",
       " 0.5544284933742398,\n",
       " 0.2170214340513542,\n",
       " 0.4493686480068148,\n",
       " 0.23766443695925935,\n",
       " 0.5124314672245531]"
      ]
     },
     "execution_count": 537,
     "metadata": {},
     "output_type": "execute_result"
    }
   ],
   "source": [
    "evss"
   ]
  },
  {
   "cell_type": "code",
   "execution_count": 560,
   "id": "758ebe1c",
   "metadata": {},
   "outputs": [],
   "source": [
    "evsss = []\n",
    "for i in range(30):\n",
    "    kmeans_ = KMeans(n_clusters=i+1,init='random',random_state=0).fit(data.iloc[:,[0,1]])\n",
    "    centers = kmeans_.cluster_centers_\n",
    "    data['predict'] = kmeans_.predict(data.iloc[:,[0,1]])\n",
    "    evsss.append(evalution(centers,data))"
   ]
  },
  {
   "cell_type": "code",
   "execution_count": 561,
   "id": "4b7ff26c",
   "metadata": {},
   "outputs": [
    {
     "data": {
      "text/plain": [
       "[5.329514545248637e+21,\n",
       " 1.356685259488241,\n",
       " 0.6144140326516325,\n",
       " 0.5183749031883231,\n",
       " 0.5328914268824545,\n",
       " 0.23710675151129745,\n",
       " 0.21702143405135424,\n",
       " 0.22505498671261287,\n",
       " 0.2278208237223163,\n",
       " 0.23894017160753545,\n",
       " 0.2568691642868505,\n",
       " 0.2084834594380413,\n",
       " 0.21590363190450562,\n",
       " 0.22633720507646443,\n",
       " 0.23441021404045423,\n",
       " 0.2492784175969798,\n",
       " 0.2590485581846311,\n",
       " 0.26773303737501863,\n",
       " 0.27281005029851546,\n",
       " 0.28422223241167116,\n",
       " 0.2663810694498728,\n",
       " 0.2776416868065053,\n",
       " 0.28896387408287433,\n",
       " 0.2943548761141205,\n",
       " 0.29450546243702014,\n",
       " 0.3051225943987222,\n",
       " 0.3099239874752977,\n",
       " 0.3198564161918027,\n",
       " 0.32866792015130375,\n",
       " 0.3164421814189567]"
      ]
     },
     "execution_count": 561,
     "metadata": {},
     "output_type": "execute_result"
    }
   ],
   "source": [
    "evsss"
   ]
  },
  {
   "cell_type": "code",
   "execution_count": 602,
   "id": "a549376b",
   "metadata": {},
   "outputs": [
    {
     "data": {
      "text/plain": [
       "[5.329514545248637e+21,\n",
       " 1.356685259488241,\n",
       " 0.6144140326516325,\n",
       " 0.5183749031883231,\n",
       " 0.5328914268824545,\n",
       " 0.23710675151129745,\n",
       " 0.21702143405135424,\n",
       " 0.22505498671261287,\n",
       " 0.2278208237223163,\n",
       " 0.23894017160753545,\n",
       " 0.2568691642868505,\n",
       " 0.2084834594380413,\n",
       " 0.21590363190450562,\n",
       " 0.22633720507646443,\n",
       " 0.23441021404045423,\n",
       " 0.2492784175969798,\n",
       " 0.2590485581846311,\n",
       " 0.26773303737501863,\n",
       " 0.27281005029851546,\n",
       " 0.28422223241167116,\n",
       " 0.2663810694498728,\n",
       " 0.2776416868065053,\n",
       " 0.28896387408287433,\n",
       " 0.2943548761141205,\n",
       " 0.29450546243702014,\n",
       " 0.3051225943987222,\n",
       " 0.3099239874752977,\n",
       " 0.3198564161918027,\n",
       " 0.32866792015130375,\n",
       " 0.3164421814189567]"
      ]
     },
     "execution_count": 602,
     "metadata": {},
     "output_type": "execute_result"
    }
   ],
   "source": [
    "evsss"
   ]
  },
  {
   "cell_type": "code",
   "execution_count": 605,
   "id": "1d490385",
   "metadata": {},
   "outputs": [
    {
     "data": {
      "text/plain": [
       "0.2084834594380413"
      ]
     },
     "execution_count": 605,
     "metadata": {},
     "output_type": "execute_result"
    }
   ],
   "source": [
    "evsss[11]"
   ]
  },
  {
   "cell_type": "code",
   "execution_count": 609,
   "id": "1dd91ab2",
   "metadata": {},
   "outputs": [
    {
     "data": {
      "text/plain": [
       "Text(0.5, 1.0, 'EE值随着聚类数目K值[1，30]的变化')"
      ]
     },
     "execution_count": 609,
     "metadata": {},
     "output_type": "execute_result"
    },
    {
     "data": {
      "image/png": "[encoded data removed]",
      "text/plain": [
       "<Figure size 432x288 with 1 Axes>"
      ]
     },
     "metadata": {
      "needs_background": "light"
     },
     "output_type": "display_data"
    }
   ],
   "source": [
    "ax = plt.subplot(1,1,1)\n",
    "ax.plot(evsss,label='EE值')\n",
    "ax.annotate((12,evsss[11]),(11,evsss[11]),(11,evsss[11]))\n",
    "ax.scatter(11,evsss[11],c='red')\n",
    "ax.set_ylim(0.1,0.6)\n",
    "ax.legend()\n",
    "ax.set_title('EE值随着聚类数目K值[1，30]的变化')"
   ]
  },
  {
   "cell_type": "code",
   "execution_count": 591,
   "id": "361f1eab",
   "metadata": {},
   "outputs": [],
   "source": [
    "evssss = []\n",
    "for i in range(30):\n",
    "    kmeans_ = KMeans(n_clusters=i+1,init='random').fit(data.iloc[:,[0,1]])\n",
    "    centers = kmeans_.cluster_centers_\n",
    "    data['predict'] = kmeans_.predict(data.iloc[:,[0,1]])\n",
    "    evssss.append(evalution(centers,data))"
   ]
  },
  {
   "cell_type": "code",
   "execution_count": 592,
   "id": "88e50c64",
   "metadata": {},
   "outputs": [
    {
     "data": {
      "text/plain": [
       "[5.329514545248637e+21,\n",
       " 1.356685259488241,\n",
       " 0.6144140326516325,\n",
       " 0.5183749031883231,\n",
       " 0.5322473679215859,\n",
       " 0.5278776221084646,\n",
       " 0.5577568123878477,\n",
       " 0.22446262490377442,\n",
       " 0.2278810481200952,\n",
       " 0.18996292646076193,\n",
       " 0.20251319205556623,\n",
       " 0.2073644117502179,\n",
       " 0.1841972185021802,\n",
       " 0.22271658201567618,\n",
       " 0.23196326753428412,\n",
       " 0.21907516111530154,\n",
       " 0.183756892286872,\n",
       " 0.25476590242040764,\n",
       " 0.2549679814026924,\n",
       " 0.09584849822590093,\n",
       " 0.10063199027426892,\n",
       " 0.2945439590144743,\n",
       " 0.284167368748211,\n",
       " 0.307151317949865,\n",
       " 0.061853596196671384,\n",
       " 0.35650094425209683,\n",
       " 0.2602027345973647,\n",
       " 0.2834756702465037,\n",
       " 0.28938145690201866,\n",
       " 0.3560106362264834]"
      ]
     },
     "execution_count": 592,
     "metadata": {},
     "output_type": "execute_result"
    }
   ],
   "source": [
    "evssss"
   ]
  },
  {
   "cell_type": "code",
   "execution_count": null,
   "id": "3e3ecfeb",
   "metadata": {},
   "outputs": [],
   "source": []
  },
  {
   "cell_type": "code",
   "execution_count": 473,
   "id": "6b616dcf",
   "metadata": {},
   "outputs": [
    {
     "data": {
      "text/plain": [
       "2.846774001762682e+16"
      ]
     },
     "execution_count": 473,
     "metadata": {},
     "output_type": "execute_result"
    }
   ],
   "source": [
    "np.sum((centers-centers.mean(axis=1).reshape(-1,1))**2)/centers.shape[0]"
   ]
  },
  {
   "cell_type": "code",
   "execution_count": 470,
   "id": "79e6d8a4",
   "metadata": {},
   "outputs": [
    {
     "data": {
      "text/plain": [
       "(5, 1)"
      ]
     },
     "execution_count": 470,
     "metadata": {},
     "output_type": "execute_result"
    }
   ],
   "source": [
    "centers.mean(axis=1).reshape(-1,1).shape"
   ]
  },
  {
   "cell_type": "code",
   "execution_count": 410,
   "id": "68a23976",
   "metadata": {},
   "outputs": [
    {
     "data": {
      "text/plain": [
       "[5.329514545248637e+16,\n",
       " 0.6783426297441205,\n",
       " 0.1687417605236016,\n",
       " 0.12959372579708076,\n",
       " 0.10644947358431721,\n",
       " 0.06923276722074777,\n",
       " 0.03056127112696184,\n",
       " 0.05617108100085187,\n",
       " 0.052739532974057785,\n",
       " 0.01884885123296887]"
      ]
     },
     "execution_count": 410,
     "metadata": {},
     "output_type": "execute_result"
    }
   ],
   "source": [
    "evss"
   ]
  },
  {
   "cell_type": "code",
   "execution_count": null,
   "id": "45f819b1",
   "metadata": {},
   "outputs": [],
   "source": [
    "# 计算评估指标\n",
    "def evalution(centers,X):\n",
    "    E_in_list = []\n",
    "    for num,center in enumerate(centers):\n",
    "        E_in_list.append(np.sum((X[X.iloc[:,-1]==num].iloc[:,[0,1]].values-center)**2)/X[X.iloc[:,-1]==num].iloc[:,[0,1]].shape[0])\n",
    "    E_in = np.array(E_in_list).sum()\n",
    "    E_out = np.sum((centers-centers.mean(axis=0))**2)+0.001\n",
    "    return E_in/E_out"
   ]
  },
  {
   "cell_type": "code",
   "execution_count": 373,
   "id": "a6195ac8",
   "metadata": {},
   "outputs": [
    {
     "data": {
      "text/html": [
       "<div>\n",
       "<style scoped>\n",
       "    .dataframe tbody tr th:only-of-type {\n",
       "        vertical-align: middle;\n",
       "    }\n",
       "\n",
       "    .dataframe tbody tr th {\n",
       "        vertical-align: top;\n",
       "    }\n",
       "\n",
       "    .dataframe thead th {\n",
       "        text-align: right;\n",
       "    }\n",
       "</style>\n",
       "<table border=\"1\" class=\"dataframe\">\n",
       "  <thead>\n",
       "    <tr style=\"text-align: right;\">\n",
       "      <th></th>\n",
       "      <th>开盘</th>\n",
       "      <th>成交量</th>\n",
       "      <th>label</th>\n",
       "    </tr>\n",
       "  </thead>\n",
       "  <tbody>\n",
       "    <tr>\n",
       "      <th>0</th>\n",
       "      <td>20.45</td>\n",
       "      <td>86864809.0</td>\n",
       "      <td>0</td>\n",
       "    </tr>\n",
       "    <tr>\n",
       "      <th>1</th>\n",
       "      <td>20.38</td>\n",
       "      <td>72740433.0</td>\n",
       "      <td>0</td>\n",
       "    </tr>\n",
       "    <tr>\n",
       "      <th>2</th>\n",
       "      <td>19.96</td>\n",
       "      <td>145130394.0</td>\n",
       "      <td>0</td>\n",
       "    </tr>\n",
       "    <tr>\n",
       "      <th>3</th>\n",
       "      <td>18.87</td>\n",
       "      <td>135755148.0</td>\n",
       "      <td>0</td>\n",
       "    </tr>\n",
       "    <tr>\n",
       "      <th>4</th>\n",
       "      <td>17.85</td>\n",
       "      <td>106299421.0</td>\n",
       "      <td>0</td>\n",
       "    </tr>\n",
       "    <tr>\n",
       "      <th>...</th>\n",
       "      <td>...</td>\n",
       "      <td>...</td>\n",
       "      <td>...</td>\n",
       "    </tr>\n",
       "    <tr>\n",
       "      <th>275</th>\n",
       "      <td>20.40</td>\n",
       "      <td>57676212.0</td>\n",
       "      <td>1</td>\n",
       "    </tr>\n",
       "    <tr>\n",
       "      <th>276</th>\n",
       "      <td>20.92</td>\n",
       "      <td>50258999.0</td>\n",
       "      <td>1</td>\n",
       "    </tr>\n",
       "    <tr>\n",
       "      <th>277</th>\n",
       "      <td>20.84</td>\n",
       "      <td>49515075.0</td>\n",
       "      <td>1</td>\n",
       "    </tr>\n",
       "    <tr>\n",
       "      <th>278</th>\n",
       "      <td>20.55</td>\n",
       "      <td>58997368.0</td>\n",
       "      <td>1</td>\n",
       "    </tr>\n",
       "    <tr>\n",
       "      <th>279</th>\n",
       "      <td>17.66</td>\n",
       "      <td>0.0</td>\n",
       "      <td>1</td>\n",
       "    </tr>\n",
       "  </tbody>\n",
       "</table>\n",
       "<p>280 rows × 3 columns</p>\n",
       "</div>"
      ],
      "text/plain": [
       "         开盘          成交量  label\n",
       "0     20.45   86864809.0      0\n",
       "1     20.38   72740433.0      0\n",
       "2     19.96  145130394.0      0\n",
       "3     18.87  135755148.0      0\n",
       "4     17.85  106299421.0      0\n",
       "..      ...          ...    ...\n",
       "275   20.40   57676212.0      1\n",
       "276   20.92   50258999.0      1\n",
       "277   20.84   49515075.0      1\n",
       "278   20.55   58997368.0      1\n",
       "279   17.66          0.0      1\n",
       "\n",
       "[280 rows x 3 columns]"
      ]
     },
     "execution_count": 373,
     "metadata": {},
     "output_type": "execute_result"
    }
   ],
   "source": [
    "data"
   ]
  },
  {
   "cell_type": "code",
   "execution_count": 389,
   "id": "a5e10bce",
   "metadata": {},
   "outputs": [],
   "source": [
    "ev = []\n",
    "for i in range(10):\n",
    "    kmeans_ = KMeans(n_clusters=i+1,init='random').fit(data.iloc[:,[0,1]])\n",
    "    centers = kmeans_.cluster_centers_\n",
    "    data['predict'] = kmeans_.predict(data.iloc[:,[0,1]])\n",
    "    ev.append(evalution(centers,data))"
   ]
  },
  {
   "cell_type": "code",
   "execution_count": 390,
   "id": "ce2a33b1",
   "metadata": {},
   "outputs": [
    {
     "data": {
      "text/plain": [
       "[5.050035745293029e+18,\n",
       " 0.6216895265027623,\n",
       " 0.1579632312770516,\n",
       " 0.12191633731631608,\n",
       " 0.09194635486483334,\n",
       " 0.07518431419206098,\n",
       " 0.030261706499663556,\n",
       " 0.0476623217484002,\n",
       " 0.023978172747731636,\n",
       " 0.01845443441753847]"
      ]
     },
     "execution_count": 390,
     "metadata": {},
     "output_type": "execute_result"
    }
   ],
   "source": [
    "ev"
   ]
  },
  {
   "cell_type": "code",
   "execution_count": 398,
   "id": "b7dca882",
   "metadata": {},
   "outputs": [],
   "source": [
    "evs = []\n",
    "for i in range(10):\n",
    "    kmeans_ = KMeans(n_clusters=i+1,init='random').fit(data.iloc[:,[0,1]])\n",
    "    centers = kmeans_.cluster_centers_\n",
    "    data['predict'] = kmeans_.predict(data.iloc[:,[0,1]])\n",
    "    evs.append(evalution(centers,data))"
   ]
  },
  {
   "cell_type": "code",
   "execution_count": 399,
   "id": "7e2725db",
   "metadata": {},
   "outputs": [
    {
     "data": {
      "text/plain": [
       "[5.050035745293029e+18,\n",
       " 0.6216895265027623,\n",
       " 0.19360209123147826,\n",
       " 0.12191633731631608,\n",
       " 0.04684374124013255,\n",
       " 0.07607244026642197,\n",
       " 0.06540198966031918,\n",
       " 0.027245635495671095,\n",
       " 0.019794620920724926,\n",
       " 0.04346425256068578]"
      ]
     },
     "execution_count": 399,
     "metadata": {},
     "output_type": "execute_result"
    }
   ],
   "source": [
    "evs"
   ]
  },
  {
   "cell_type": "code",
   "execution_count": 380,
   "id": "c42d5068",
   "metadata": {},
   "outputs": [
    {
     "data": {
      "text/plain": [
       "(0.01, 0.1)"
      ]
     },
     "execution_count": 380,
     "metadata": {},
     "output_type": "execute_result"
    },
    {
     "data": {
      "image/png": "[encoded data removed]",
      "text/plain": [
       "<Figure size 1440x720 with 1 Axes>"
      ]
     },
     "metadata": {
      "needs_background": "light"
     },
     "output_type": "display_data"
    }
   ],
   "source": [
    "plt.figure(figsize=(20,10))\n",
    "plt.plot(ev)\n",
    "plt.ylim(0.01,0.1)"
   ]
  },
  {
   "cell_type": "code",
   "execution_count": 247,
   "id": "8c9238e5",
   "metadata": {},
   "outputs": [],
   "source": [
    "kmeans = KMeans(n_clusters=2,init='random',max_iter=1)"
   ]
  },
  {
   "cell_type": "code",
   "execution_count": 226,
   "id": "9e39bcfc",
   "metadata": {},
   "outputs": [],
   "source": [
    "kmeans_ = kmeans.fit(data.iloc[:,[0,1]])"
   ]
  },
  {
   "cell_type": "code",
   "execution_count": 227,
   "id": "2e2b9776",
   "metadata": {},
   "outputs": [
    {
     "data": {
      "text/plain": [
       "array([1, 1, 1, 1, 1, 1, 1, 1, 1, 1, 1, 1, 1, 1, 1, 1, 1, 1, 1, 1, 1, 1,\n",
       "       1, 1, 1, 1, 1, 1, 1, 0, 0, 1, 1, 1, 1, 1, 0, 1, 1, 1, 1, 1, 1, 1,\n",
       "       1, 1, 1, 1, 1, 1, 1, 1, 1, 1, 1, 1, 1, 1, 1, 1, 1, 1, 1, 1, 1, 1,\n",
       "       0, 1, 1, 1, 1, 1, 1, 0, 1, 1, 1, 1, 1, 1, 1, 1, 1, 1, 1, 1, 1, 1,\n",
       "       1, 1, 0, 1, 1, 1, 1, 1, 0, 1, 1, 1, 1, 1, 1, 1, 1, 1, 1, 1, 1, 1,\n",
       "       1, 0, 1, 1, 1, 1, 1, 1, 0, 1, 1, 1, 0, 1, 1, 1, 1, 1, 1, 1, 1, 1,\n",
       "       1, 1, 1, 1, 1, 1, 1, 1, 0, 0, 1, 0, 1, 1, 1, 0, 0, 0, 0, 0, 0, 0,\n",
       "       0, 0, 1, 0, 0, 1, 0, 1, 0, 0, 0, 1, 0, 0, 0, 0, 0, 0, 0, 0, 0, 1,\n",
       "       1, 1, 1, 1, 1, 1, 1, 1, 1, 1, 1, 1, 1, 1, 1, 1, 1, 1, 1, 1, 1, 1,\n",
       "       1, 1, 1, 1, 1, 0, 1, 1, 1, 1, 1, 1, 1, 1, 1, 1, 1, 1, 1, 1, 1, 1,\n",
       "       1, 0, 1, 1, 1, 1, 1, 1, 1, 1, 1, 0, 0, 0, 1, 0, 1, 1, 1, 1, 1, 1,\n",
       "       1, 1, 1, 1, 1, 1, 1, 1, 1, 1, 0, 0, 1, 1, 1, 1, 1, 1, 1, 0, 1, 1,\n",
       "       1, 1, 1, 1, 1, 1, 1, 1, 1, 1, 1, 1, 1, 1, 1, 1], dtype=int32)"
      ]
     },
     "execution_count": 227,
     "metadata": {},
     "output_type": "execute_result"
    }
   ],
   "source": [
    "kmeans_.predict(data.iloc[:,[0,1]])"
   ]
  },
  {
   "cell_type": "code",
   "execution_count": 228,
   "id": "090bf7b3",
   "metadata": {},
   "outputs": [
    {
     "data": {
      "text/plain": [
       "array([[2.51676087e+01, 2.55110732e+08],\n",
       "       [2.06550427e+01, 1.03862236e+08]])"
      ]
     },
     "execution_count": 228,
     "metadata": {},
     "output_type": "execute_result"
    }
   ],
   "source": [
    "kmeans_.cluster_centers_"
   ]
  },
  {
   "cell_type": "code",
   "execution_count": 229,
   "id": "5eccc8f3",
   "metadata": {},
   "outputs": [],
   "source": [
    "# X['predict'] = kmeans_.predict(data.iloc[:,[0,1]])\n",
    "data['predict'] = kmeans_.predict(data.iloc[:,[0,1]])"
   ]
  },
  {
   "cell_type": "code",
   "execution_count": 230,
   "id": "cf8a5bd7",
   "metadata": {},
   "outputs": [
    {
     "data": {
      "image/png": "[encoded data removed]",
      "text/plain": [
       "<Figure size 432x288 with 1 Axes>"
      ]
     },
     "metadata": {
      "needs_background": "light"
     },
     "output_type": "display_data"
    }
   ],
   "source": [
    "ax = plt.subplot(1,1,1)\n",
    "for i in range(data['predict'].nunique()):\n",
    "    ax.scatter(data[data.predict==i].iloc[:,0],data[data.predict==i].iloc[:,1])\n",
    "#     ax.scatter(data[data.label==1].iloc[:,0],data[data.label==1].iloc[:,1],c = 'red')"
   ]
  },
  {
   "cell_type": "code",
   "execution_count": 231,
   "id": "4f88b971",
   "metadata": {},
   "outputs": [
    {
     "data": {
      "text/html": [
       "<div>\n",
       "<style scoped>\n",
       "    .dataframe tbody tr th:only-of-type {\n",
       "        vertical-align: middle;\n",
       "    }\n",
       "\n",
       "    .dataframe tbody tr th {\n",
       "        vertical-align: top;\n",
       "    }\n",
       "\n",
       "    .dataframe thead th {\n",
       "        text-align: right;\n",
       "    }\n",
       "</style>\n",
       "<table border=\"1\" class=\"dataframe\">\n",
       "  <thead>\n",
       "    <tr style=\"text-align: right;\">\n",
       "      <th></th>\n",
       "      <th>开盘</th>\n",
       "      <th>成交量</th>\n",
       "      <th>label</th>\n",
       "      <th>predict</th>\n",
       "    </tr>\n",
       "  </thead>\n",
       "  <tbody>\n",
       "    <tr>\n",
       "      <th>0</th>\n",
       "      <td>20.45</td>\n",
       "      <td>86864809.0</td>\n",
       "      <td>0</td>\n",
       "      <td>1</td>\n",
       "    </tr>\n",
       "    <tr>\n",
       "      <th>1</th>\n",
       "      <td>20.38</td>\n",
       "      <td>72740433.0</td>\n",
       "      <td>0</td>\n",
       "      <td>1</td>\n",
       "    </tr>\n",
       "    <tr>\n",
       "      <th>2</th>\n",
       "      <td>19.96</td>\n",
       "      <td>145130394.0</td>\n",
       "      <td>0</td>\n",
       "      <td>1</td>\n",
       "    </tr>\n",
       "    <tr>\n",
       "      <th>3</th>\n",
       "      <td>18.87</td>\n",
       "      <td>135755148.0</td>\n",
       "      <td>0</td>\n",
       "      <td>1</td>\n",
       "    </tr>\n",
       "    <tr>\n",
       "      <th>4</th>\n",
       "      <td>17.85</td>\n",
       "      <td>106299421.0</td>\n",
       "      <td>0</td>\n",
       "      <td>1</td>\n",
       "    </tr>\n",
       "    <tr>\n",
       "      <th>...</th>\n",
       "      <td>...</td>\n",
       "      <td>...</td>\n",
       "      <td>...</td>\n",
       "      <td>...</td>\n",
       "    </tr>\n",
       "    <tr>\n",
       "      <th>275</th>\n",
       "      <td>20.40</td>\n",
       "      <td>57676212.0</td>\n",
       "      <td>1</td>\n",
       "      <td>1</td>\n",
       "    </tr>\n",
       "    <tr>\n",
       "      <th>276</th>\n",
       "      <td>20.92</td>\n",
       "      <td>50258999.0</td>\n",
       "      <td>1</td>\n",
       "      <td>1</td>\n",
       "    </tr>\n",
       "    <tr>\n",
       "      <th>277</th>\n",
       "      <td>20.84</td>\n",
       "      <td>49515075.0</td>\n",
       "      <td>1</td>\n",
       "      <td>1</td>\n",
       "    </tr>\n",
       "    <tr>\n",
       "      <th>278</th>\n",
       "      <td>20.55</td>\n",
       "      <td>58997368.0</td>\n",
       "      <td>1</td>\n",
       "      <td>1</td>\n",
       "    </tr>\n",
       "    <tr>\n",
       "      <th>279</th>\n",
       "      <td>17.66</td>\n",
       "      <td>0.0</td>\n",
       "      <td>1</td>\n",
       "      <td>1</td>\n",
       "    </tr>\n",
       "  </tbody>\n",
       "</table>\n",
       "<p>280 rows × 4 columns</p>\n",
       "</div>"
      ],
      "text/plain": [
       "         开盘          成交量  label  predict\n",
       "0     20.45   86864809.0      0        1\n",
       "1     20.38   72740433.0      0        1\n",
       "2     19.96  145130394.0      0        1\n",
       "3     18.87  135755148.0      0        1\n",
       "4     17.85  106299421.0      0        1\n",
       "..      ...          ...    ...      ...\n",
       "275   20.40   57676212.0      1        1\n",
       "276   20.92   50258999.0      1        1\n",
       "277   20.84   49515075.0      1        1\n",
       "278   20.55   58997368.0      1        1\n",
       "279   17.66          0.0      1        1\n",
       "\n",
       "[280 rows x 4 columns]"
      ]
     },
     "execution_count": 231,
     "metadata": {},
     "output_type": "execute_result"
    }
   ],
   "source": [
    "data"
   ]
  },
  {
   "cell_type": "code",
   "execution_count": 232,
   "id": "7b6e053b",
   "metadata": {},
   "outputs": [],
   "source": [
    "# silhouette_score(X.iloc[:,[0,1]],X.iloc[:,-1])\n",
    "\n",
    "# np.median(X[X.iloc[:,-1]==0].iloc[:,[0,1]].values,axis=0)\n",
    "\n",
    "# X[X.iloc[:,-1]==1].iloc[:,[0,1]].values.mean(axis=0)\n",
    "\n",
    "# kmeans_.cluster_centers_"
   ]
  },
  {
   "cell_type": "code",
   "execution_count": 610,
   "id": "78e283a6",
   "metadata": {},
   "outputs": [],
   "source": [
    "def random_select_point(data):\n",
    "    indexs = np.random.choice(data.index,2)\n",
    "    return data.iloc[indexs,]"
   ]
  },
  {
   "cell_type": "code",
   "execution_count": 611,
   "id": "47f2f700",
   "metadata": {},
   "outputs": [],
   "source": [
    "select_point = random_select_point(data)"
   ]
  },
  {
   "cell_type": "code",
   "execution_count": 613,
   "id": "604367e4",
   "metadata": {},
   "outputs": [
    {
     "data": {
      "text/html": [
       "<div>\n",
       "<style scoped>\n",
       "    .dataframe tbody tr th:only-of-type {\n",
       "        vertical-align: middle;\n",
       "    }\n",
       "\n",
       "    .dataframe tbody tr th {\n",
       "        vertical-align: top;\n",
       "    }\n",
       "\n",
       "    .dataframe thead th {\n",
       "        text-align: right;\n",
       "    }\n",
       "</style>\n",
       "<table border=\"1\" class=\"dataframe\">\n",
       "  <thead>\n",
       "    <tr style=\"text-align: right;\">\n",
       "      <th></th>\n",
       "      <th>开盘</th>\n",
       "      <th>成交量</th>\n",
       "      <th>label</th>\n",
       "    </tr>\n",
       "  </thead>\n",
       "  <tbody>\n",
       "    <tr>\n",
       "      <th>160</th>\n",
       "      <td>28.7</td>\n",
       "      <td>191840564.0</td>\n",
       "      <td>1</td>\n",
       "    </tr>\n",
       "    <tr>\n",
       "      <th>99</th>\n",
       "      <td>17.7</td>\n",
       "      <td>60236967.0</td>\n",
       "      <td>0</td>\n",
       "    </tr>\n",
       "  </tbody>\n",
       "</table>\n",
       "</div>"
      ],
      "text/plain": [
       "         开盘          成交量  label\n",
       "160    28.7  191840564.0      1\n",
       "99     17.7   60236967.0      0"
      ]
     },
     "execution_count": 613,
     "metadata": {},
     "output_type": "execute_result"
    }
   ],
   "source": [
    "select_point"
   ]
  },
  {
   "cell_type": "code",
   "execution_count": 616,
   "id": "6bd4af80",
   "metadata": {},
   "outputs": [],
   "source": [
    "def select_init(data,select_point):\n",
    "    dis = [np.sum((np.array(data.iloc[:,[0,1]])-point)**2,axis=1) for point in np.array(select_point.iloc[:,[0,1]])]\n",
    "    datas = data.copy()\n",
    "    datas['dis1'] = dis[0]\n",
    "    datas['dis2'] = dis[1]\n",
    "    datas['pre'] = (datas['dis1']>datas['dis2']).astype(int)\n",
    "    dis1 = datas[datas['pre']==0].sort_values('dis1').loc[:,['    开盘', '    成交量','dis1']]\n",
    "    dis2 = datas[datas['pre']==1].sort_values('dis2').loc[:,['    开盘', '    成交量','dis2']]\n",
    "    dis1['p'] = sorted(dis1['dis1']/(dis1['dis1'].sum()),reverse=True)\n",
    "    dis2['p'] = sorted(dis2['dis2']/(dis2['dis2'].sum()),reverse=True)\n",
    "    # 按概率选择\n",
    "    def random_pick(some_list, probabilities): \n",
    "        x = np.random.uniform(0,1) \n",
    "        cumulative_probability = 0.0 \n",
    "        for item, item_probability in zip(some_list, probabilities): \n",
    "            cumulative_probability += item_probability \n",
    "            if x < cumulative_probability:\n",
    "                break \n",
    "        return item\n",
    "    center1 = dis1.loc[random_pick(dis1.index,dis1['p']),:]\n",
    "    center2 = dis2.loc[random_pick(dis2.index,dis2['p']),:]\n",
    "    return center1,center2"
   ]
  },
  {
   "cell_type": "code",
   "execution_count": 617,
   "id": "238d5bcc",
   "metadata": {},
   "outputs": [],
   "source": [
    "centers = select_init(data,select_point)"
   ]
  },
  {
   "cell_type": "code",
   "execution_count": 621,
   "id": "742a8313",
   "metadata": {},
   "outputs": [
    {
     "data": {
      "text/plain": [
       "array([[1.8160000e+01, 1.9372089e+08],\n",
       "       [2.3550000e+01, 6.5416366e+07]])"
      ]
     },
     "execution_count": 621,
     "metadata": {},
     "output_type": "execute_result"
    }
   ],
   "source": [
    "np.array(centers)[:,:2]"
   ]
  },
  {
   "cell_type": "code",
   "execution_count": 238,
   "id": "2ae0e5bb",
   "metadata": {},
   "outputs": [
    {
     "data": {
      "text/html": [
       "<div>\n",
       "<style scoped>\n",
       "    .dataframe tbody tr th:only-of-type {\n",
       "        vertical-align: middle;\n",
       "    }\n",
       "\n",
       "    .dataframe tbody tr th {\n",
       "        vertical-align: top;\n",
       "    }\n",
       "\n",
       "    .dataframe thead th {\n",
       "        text-align: right;\n",
       "    }\n",
       "</style>\n",
       "<table border=\"1\" class=\"dataframe\">\n",
       "  <thead>\n",
       "    <tr style=\"text-align: right;\">\n",
       "      <th></th>\n",
       "      <th>开盘</th>\n",
       "      <th>成交量</th>\n",
       "      <th>label</th>\n",
       "      <th>predict</th>\n",
       "    </tr>\n",
       "  </thead>\n",
       "  <tbody>\n",
       "    <tr>\n",
       "      <th>0</th>\n",
       "      <td>20.45</td>\n",
       "      <td>86864809.0</td>\n",
       "      <td>0</td>\n",
       "      <td>1</td>\n",
       "    </tr>\n",
       "    <tr>\n",
       "      <th>1</th>\n",
       "      <td>20.38</td>\n",
       "      <td>72740433.0</td>\n",
       "      <td>0</td>\n",
       "      <td>1</td>\n",
       "    </tr>\n",
       "    <tr>\n",
       "      <th>2</th>\n",
       "      <td>19.96</td>\n",
       "      <td>145130394.0</td>\n",
       "      <td>0</td>\n",
       "      <td>1</td>\n",
       "    </tr>\n",
       "    <tr>\n",
       "      <th>3</th>\n",
       "      <td>18.87</td>\n",
       "      <td>135755148.0</td>\n",
       "      <td>0</td>\n",
       "      <td>1</td>\n",
       "    </tr>\n",
       "    <tr>\n",
       "      <th>4</th>\n",
       "      <td>17.85</td>\n",
       "      <td>106299421.0</td>\n",
       "      <td>0</td>\n",
       "      <td>1</td>\n",
       "    </tr>\n",
       "    <tr>\n",
       "      <th>...</th>\n",
       "      <td>...</td>\n",
       "      <td>...</td>\n",
       "      <td>...</td>\n",
       "      <td>...</td>\n",
       "    </tr>\n",
       "    <tr>\n",
       "      <th>275</th>\n",
       "      <td>20.40</td>\n",
       "      <td>57676212.0</td>\n",
       "      <td>1</td>\n",
       "      <td>1</td>\n",
       "    </tr>\n",
       "    <tr>\n",
       "      <th>276</th>\n",
       "      <td>20.92</td>\n",
       "      <td>50258999.0</td>\n",
       "      <td>1</td>\n",
       "      <td>1</td>\n",
       "    </tr>\n",
       "    <tr>\n",
       "      <th>277</th>\n",
       "      <td>20.84</td>\n",
       "      <td>49515075.0</td>\n",
       "      <td>1</td>\n",
       "      <td>1</td>\n",
       "    </tr>\n",
       "    <tr>\n",
       "      <th>278</th>\n",
       "      <td>20.55</td>\n",
       "      <td>58997368.0</td>\n",
       "      <td>1</td>\n",
       "      <td>1</td>\n",
       "    </tr>\n",
       "    <tr>\n",
       "      <th>279</th>\n",
       "      <td>17.66</td>\n",
       "      <td>0.0</td>\n",
       "      <td>1</td>\n",
       "      <td>1</td>\n",
       "    </tr>\n",
       "  </tbody>\n",
       "</table>\n",
       "<p>280 rows × 4 columns</p>\n",
       "</div>"
      ],
      "text/plain": [
       "         开盘          成交量  label  predict\n",
       "0     20.45   86864809.0      0        1\n",
       "1     20.38   72740433.0      0        1\n",
       "2     19.96  145130394.0      0        1\n",
       "3     18.87  135755148.0      0        1\n",
       "4     17.85  106299421.0      0        1\n",
       "..      ...          ...    ...      ...\n",
       "275   20.40   57676212.0      1        1\n",
       "276   20.92   50258999.0      1        1\n",
       "277   20.84   49515075.0      1        1\n",
       "278   20.55   58997368.0      1        1\n",
       "279   17.66          0.0      1        1\n",
       "\n",
       "[280 rows x 4 columns]"
      ]
     },
     "execution_count": 238,
     "metadata": {},
     "output_type": "execute_result"
    }
   ],
   "source": [
    "data"
   ]
  },
  {
   "cell_type": "code",
   "execution_count": 239,
   "id": "64fcbc92",
   "metadata": {},
   "outputs": [],
   "source": [
    "centers = np.array(centers)[:,:2]"
   ]
  },
  {
   "cell_type": "code",
   "execution_count": 240,
   "id": "a61106f9",
   "metadata": {},
   "outputs": [],
   "source": [
    "kmeans_f = KMeans(n_clusters=2,init=centers,n_init=1).fit(data.iloc[:,[0,1]]).predict(data.iloc[:,[0,1]])"
   ]
  },
  {
   "cell_type": "code",
   "execution_count": 241,
   "id": "c440e9cb",
   "metadata": {},
   "outputs": [],
   "source": [
    "data['predict_f'] = kmeans_f"
   ]
  },
  {
   "cell_type": "code",
   "execution_count": 242,
   "id": "02ea7a3f",
   "metadata": {},
   "outputs": [
    {
     "data": {
      "text/html": [
       "<div>\n",
       "<style scoped>\n",
       "    .dataframe tbody tr th:only-of-type {\n",
       "        vertical-align: middle;\n",
       "    }\n",
       "\n",
       "    .dataframe tbody tr th {\n",
       "        vertical-align: top;\n",
       "    }\n",
       "\n",
       "    .dataframe thead th {\n",
       "        text-align: right;\n",
       "    }\n",
       "</style>\n",
       "<table border=\"1\" class=\"dataframe\">\n",
       "  <thead>\n",
       "    <tr style=\"text-align: right;\">\n",
       "      <th></th>\n",
       "      <th>开盘</th>\n",
       "      <th>成交量</th>\n",
       "      <th>label</th>\n",
       "      <th>predict</th>\n",
       "      <th>predict_f</th>\n",
       "    </tr>\n",
       "  </thead>\n",
       "  <tbody>\n",
       "    <tr>\n",
       "      <th>0</th>\n",
       "      <td>20.45</td>\n",
       "      <td>86864809.0</td>\n",
       "      <td>0</td>\n",
       "      <td>1</td>\n",
       "      <td>1</td>\n",
       "    </tr>\n",
       "    <tr>\n",
       "      <th>1</th>\n",
       "      <td>20.38</td>\n",
       "      <td>72740433.0</td>\n",
       "      <td>0</td>\n",
       "      <td>1</td>\n",
       "      <td>1</td>\n",
       "    </tr>\n",
       "    <tr>\n",
       "      <th>2</th>\n",
       "      <td>19.96</td>\n",
       "      <td>145130394.0</td>\n",
       "      <td>0</td>\n",
       "      <td>1</td>\n",
       "      <td>1</td>\n",
       "    </tr>\n",
       "    <tr>\n",
       "      <th>3</th>\n",
       "      <td>18.87</td>\n",
       "      <td>135755148.0</td>\n",
       "      <td>0</td>\n",
       "      <td>1</td>\n",
       "      <td>1</td>\n",
       "    </tr>\n",
       "    <tr>\n",
       "      <th>4</th>\n",
       "      <td>17.85</td>\n",
       "      <td>106299421.0</td>\n",
       "      <td>0</td>\n",
       "      <td>1</td>\n",
       "      <td>1</td>\n",
       "    </tr>\n",
       "    <tr>\n",
       "      <th>...</th>\n",
       "      <td>...</td>\n",
       "      <td>...</td>\n",
       "      <td>...</td>\n",
       "      <td>...</td>\n",
       "      <td>...</td>\n",
       "    </tr>\n",
       "    <tr>\n",
       "      <th>275</th>\n",
       "      <td>20.40</td>\n",
       "      <td>57676212.0</td>\n",
       "      <td>1</td>\n",
       "      <td>1</td>\n",
       "      <td>1</td>\n",
       "    </tr>\n",
       "    <tr>\n",
       "      <th>276</th>\n",
       "      <td>20.92</td>\n",
       "      <td>50258999.0</td>\n",
       "      <td>1</td>\n",
       "      <td>1</td>\n",
       "      <td>1</td>\n",
       "    </tr>\n",
       "    <tr>\n",
       "      <th>277</th>\n",
       "      <td>20.84</td>\n",
       "      <td>49515075.0</td>\n",
       "      <td>1</td>\n",
       "      <td>1</td>\n",
       "      <td>1</td>\n",
       "    </tr>\n",
       "    <tr>\n",
       "      <th>278</th>\n",
       "      <td>20.55</td>\n",
       "      <td>58997368.0</td>\n",
       "      <td>1</td>\n",
       "      <td>1</td>\n",
       "      <td>1</td>\n",
       "    </tr>\n",
       "    <tr>\n",
       "      <th>279</th>\n",
       "      <td>17.66</td>\n",
       "      <td>0.0</td>\n",
       "      <td>1</td>\n",
       "      <td>1</td>\n",
       "      <td>1</td>\n",
       "    </tr>\n",
       "  </tbody>\n",
       "</table>\n",
       "<p>280 rows × 5 columns</p>\n",
       "</div>"
      ],
      "text/plain": [
       "         开盘          成交量  label  predict  predict_f\n",
       "0     20.45   86864809.0      0        1          1\n",
       "1     20.38   72740433.0      0        1          1\n",
       "2     19.96  145130394.0      0        1          1\n",
       "3     18.87  135755148.0      0        1          1\n",
       "4     17.85  106299421.0      0        1          1\n",
       "..      ...          ...    ...      ...        ...\n",
       "275   20.40   57676212.0      1        1          1\n",
       "276   20.92   50258999.0      1        1          1\n",
       "277   20.84   49515075.0      1        1          1\n",
       "278   20.55   58997368.0      1        1          1\n",
       "279   17.66          0.0      1        1          1\n",
       "\n",
       "[280 rows x 5 columns]"
      ]
     },
     "execution_count": 242,
     "metadata": {},
     "output_type": "execute_result"
    }
   ],
   "source": [
    "data"
   ]
  },
  {
   "cell_type": "code",
   "execution_count": 243,
   "id": "a09f4301",
   "metadata": {},
   "outputs": [
    {
     "data": {
      "text/plain": [
       "280"
      ]
     },
     "execution_count": 243,
     "metadata": {},
     "output_type": "execute_result"
    }
   ],
   "source": [
    "(kmeans_f==data['predict']).sum()"
   ]
  },
  {
   "cell_type": "code",
   "execution_count": 244,
   "id": "ffc08778",
   "metadata": {},
   "outputs": [
    {
     "data": {
      "text/plain": [
       "<matplotlib.collections.PathCollection at 0x7f77a3e96ad0>"
      ]
     },
     "execution_count": 244,
     "metadata": {},
     "output_type": "execute_result"
    },
    {
     "data": {
      "image/png": "[encoded data removed]",
      "text/plain": [
       "<Figure size 432x288 with 1 Axes>"
      ]
     },
     "metadata": {
      "needs_background": "light"
     },
     "output_type": "display_data"
    }
   ],
   "source": [
    "ax = plt.subplot(1,1,1)\n",
    "ax.scatter(data[data.predict_f==0].iloc[:,0],data[data.predict_f==0].iloc[:,1],c = 'green')\n",
    "ax.scatter(data[data.predict_f==1].iloc[:,0],data[data.predict_f==1].iloc[:,1],c = 'red')"
   ]
  },
  {
   "cell_type": "code",
   "execution_count": 245,
   "id": "970947e4",
   "metadata": {},
   "outputs": [
    {
     "data": {
      "text/plain": [
       "0.40714285714285714"
      ]
     },
     "execution_count": 245,
     "metadata": {},
     "output_type": "execute_result"
    }
   ],
   "source": [
    "(data['predict']==data['label']).mean()"
   ]
  },
  {
   "cell_type": "code",
   "execution_count": 246,
   "id": "cde1ce5c",
   "metadata": {},
   "outputs": [
    {
     "data": {
      "text/plain": [
       "0.40714285714285714"
      ]
     },
     "execution_count": 246,
     "metadata": {},
     "output_type": "execute_result"
    }
   ],
   "source": [
    "(data['predict_f']==data['label']).mean()"
   ]
  },
  {
   "cell_type": "code",
   "execution_count": 626,
   "id": "89fcf009",
   "metadata": {},
   "outputs": [],
   "source": [
    "def train():\n",
    "    data1 = pd.read_csv('/Users/yangzhou/R语言/统计分析/SZ#000001.txt',sep = '\\t',encoding='gbk',header=1) # 平安银行\n",
    "    data2 = pd.read_csv('/Users/yangzhou/R语言/统计分析/SH#600031.txt',sep='\\t',encoding='gbk',header=1) # 三一重工\n",
    "    data = pd.concat([data1.iloc[:,[1,5]],data2.iloc[:,[1,5]]],axis=0)\n",
    "    data = data.dropna()\n",
    "    data['label'] = [0 for _ in range(140)]+[1 for _ in range(140)]\n",
    "    data = data.reset_index(drop=True)\n",
    "    color = ['blue','orange']\n",
    "    ax = plt.subplot(1,1,1)\n",
    "    for i in range(data['label'].nunique()):\n",
    "        ax.scatter(data[data.label==i].iloc[:,0],data[data.label==i].iloc[:,1],c=color[i])\n",
    "    plt.show()    \n",
    "    \n",
    "    kmeans = KMeans(n_clusters=2,init='random',max_iter=2)\n",
    "    kmeans_ = kmeans.fit(data.iloc[:,[0,1]])\n",
    "    data['predict'] = kmeans_.predict(data.iloc[:,[0,1]])\n",
    "    ax = plt.subplot(1,1,1)\n",
    "    for i in range(data['predict'].nunique()):\n",
    "        ax.scatter(data[data.predict==i].iloc[:,0],data[data.predict==i].iloc[:,1],c=color[i])\n",
    "    plt.show()\n",
    "    \n",
    "    select_point = random_select_point(data)\n",
    "    centers = select_init(data,select_point)\n",
    "    centers = np.array(centers)[:,:2]\n",
    "    kmeans_f = KMeans(n_clusters=2,init=centers,n_init=1,max_iter=2).fit(data.iloc[:,[0,1]]).predict(data.iloc[:,[0,1]])\n",
    "    data['predict_f'] = kmeans_f\n",
    "    ax = plt.subplot(1,1,1)\n",
    "    for i in range(data['predict_f'].nunique()):\n",
    "        ax.scatter(data[data.predict_f==i].iloc[:,0],data[data.predict_f==i].iloc[:,1],c=color[i])\n",
    "    plt.show()\n",
    "    \n",
    "    return (kmeans_f==data['predict']).sum(),(data['predict']==data['label']).mean(),(data['predict_f']==data['label']).mean()"
   ]
  },
  {
   "cell_type": "code",
   "execution_count": 627,
   "id": "8e99655e",
   "metadata": {},
   "outputs": [
    {
     "data": {
      "image/png": "[encoded data removed]",
      "text/plain": [
       "<Figure size 432x288 with 1 Axes>"
      ]
     },
     "metadata": {
      "needs_background": "light"
     },
     "output_type": "display_data"
    },
    {
     "data": {
      "image/png": "[encoded data removed]",
      "text/plain": [
       "<Figure size 432x288 with 1 Axes>"
      ]
     },
     "metadata": {
      "needs_background": "light"
     },
     "output_type": "display_data"
    },
    {
     "data": {
      "image/png": "[encoded data removed]",
      "text/plain": [
       "<Figure size 432x288 with 1 Axes>"
      ]
     },
     "metadata": {
      "needs_background": "light"
     },
     "output_type": "display_data"
    },
    {
     "data": {
      "text/plain": [
       "(236, 0.5928571428571429, 0.6)"
      ]
     },
     "execution_count": 627,
     "metadata": {},
     "output_type": "execute_result"
    }
   ],
   "source": [
    "train()"
   ]
  },
  {
   "cell_type": "code",
   "execution_count": null,
   "id": "fec38598",
   "metadata": {},
   "outputs": [],
   "source": []
  },
  {
   "cell_type": "code",
   "execution_count": null,
   "id": "0fe18d99",
   "metadata": {},
   "outputs": [],
   "source": []
  },
  {
   "cell_type": "code",
   "execution_count": null,
   "id": "cc6c43e3",
   "metadata": {},
   "outputs": [],
   "source": []
  },
  {
   "cell_type": "code",
   "execution_count": 281,
   "id": "008ec609",
   "metadata": {
    "collapsed": true
   },
   "outputs": [
    {
     "data": {
      "text/plain": [
       "[0.05593221044803968,\n",
       " 0.04500676773516834,\n",
       " 0.041803947519928664,\n",
       " 0.04155625372823,\n",
       " 0.040471865475863074,\n",
       " 0.03493501542110535,\n",
       " 0.034887480964633934,\n",
       " 0.03431019462752977,\n",
       " 0.03406622504538372,\n",
       " 0.026077084569587516,\n",
       " 0.024946516118768296,\n",
       " 0.02417773769775934,\n",
       " 0.02323341358102081,\n",
       " 0.02233716562396135,\n",
       " 0.021655973840339557,\n",
       " 0.021304103750519412,\n",
       " 0.020577273471652956,\n",
       " 0.02001610280497645,\n",
       " 0.019704792742829203,\n",
       " 0.01932018346539664,\n",
       " 0.019072726668851306,\n",
       " 0.018146278757965286,\n",
       " 0.01762031879978612,\n",
       " 0.01689399636767685,\n",
       " 0.01581191035394244,\n",
       " 0.013493048204238637,\n",
       " 0.013313033457045933,\n",
       " 0.01268929606988568,\n",
       " 0.010775052359847083,\n",
       " 0.010378525611846151,\n",
       " 0.010344703017818412,\n",
       " 0.009950072231044273,\n",
       " 0.008800815019561073,\n",
       " 0.008800815019561073,\n",
       " 0.007967438491039668,\n",
       " 0.00781518603323911,\n",
       " 0.006804401704211834,\n",
       " 0.006743019959494816,\n",
       " 0.006595033414454521,\n",
       " 0.0065289456231210335,\n",
       " 0.006494005766227512,\n",
       " 0.006244653008455412,\n",
       " 0.0056952643865453255,\n",
       " 0.005663642461798669,\n",
       " 0.004773251670671939,\n",
       " 0.004753513360043137,\n",
       " 0.0045703838194064445,\n",
       " 0.004405469049127026,\n",
       " 0.0043375530094677235,\n",
       " 0.0043245859889345616,\n",
       " 0.004261342139441241,\n",
       " 0.004134414306598397,\n",
       " 0.004046590674057889,\n",
       " 0.004036840016320167,\n",
       " 0.003965606044513986,\n",
       " 0.003939604290546708,\n",
       " 0.003908456356106752,\n",
       " 0.0038202603026109856,\n",
       " 0.0038076995594835635,\n",
       " 0.0037553913434947165,\n",
       " 0.003528180704335379,\n",
       " 0.003386863880039279,\n",
       " 0.003102774404076532,\n",
       " 0.002738106575975618,\n",
       " 0.002702320307820142,\n",
       " 0.00269636157253597,\n",
       " 0.002669411837955307,\n",
       " 0.0026501813740836782,\n",
       " 0.0025900523180343595,\n",
       " 0.0025748507717696413,\n",
       " 0.0024937645728742974,\n",
       " 0.002457335032159733,\n",
       " 0.0024183324012088236,\n",
       " 0.00228087521226725,\n",
       " 0.002220339878812189,\n",
       " 0.002220035170757887,\n",
       " 0.0021891919443722263,\n",
       " 0.0020234307628308546,\n",
       " 0.001920879574332331,\n",
       " 0.0015237095537723214,\n",
       " 0.0013754183006777125,\n",
       " 0.0012432427180107419,\n",
       " 0.0010924122311302673,\n",
       " 0.0010856070845841467,\n",
       " 0.0010241576269661738,\n",
       " 0.0009686330481818956,\n",
       " 0.0009271927527965512,\n",
       " 0.0009271927527965482,\n",
       " 0.0008754262400153516,\n",
       " 0.000847934802227037,\n",
       " 0.0007443340637636811,\n",
       " 0.0007403051461567746,\n",
       " 0.0006202501727610015,\n",
       " 0.0005940114236403824,\n",
       " 0.0005936051462346438,\n",
       " 0.000565064158481503,\n",
       " 0.0005536883911208216,\n",
       " 0.0004950151624420648,\n",
       " 0.00047791765495056314,\n",
       " 0.00047673267918382534,\n",
       " 0.00045723136370836936,\n",
       " 0.0004462618737534264,\n",
       " 0.00043783161758435076,\n",
       " 0.0004307894758848788,\n",
       " 0.0003971023076590508,\n",
       " 0.00039209155298827237,\n",
       " 0.00035210708497349536,\n",
       " 0.0003413068772709428,\n",
       " 0.00033186092758752,\n",
       " 0.00030728114454033057,\n",
       " 0.0003014916915085543,\n",
       " 0.00027152873283533077,\n",
       " 0.00026983591031141783,\n",
       " 0.0002619812138004708,\n",
       " 0.00023567475177889522,\n",
       " 0.00022839561492607666,\n",
       " 0.00020814945754010124,\n",
       " 0.00019894050301002376,\n",
       " 0.0001976201014413752,\n",
       " 0.0001636620816117189,\n",
       " 0.00014846053534699752,\n",
       " 0.00014778340633743323,\n",
       " 0.00014656457412021718,\n",
       " 0.0001227296329835493,\n",
       " 9.767585962966655e-05,\n",
       " 8.504740360129102e-05,\n",
       " 8.349000687929207e-05,\n",
       " 7.753127159512536e-05,\n",
       " 7.126782825665481e-05,\n",
       " 6.557994457631383e-05,\n",
       " 6.0806185058883995e-05,\n",
       " 5.7860673867278443e-05,\n",
       " 4.340396951307885e-05,\n",
       " 3.588783750691348e-05,\n",
       " 2.928582966366108e-05,\n",
       " 2.8879552257922263e-05,\n",
       " 2.505377335388314e-05,\n",
       " 9.818370638684201e-06,\n",
       " 9.818370638683864e-06,\n",
       " 1.963674127736763e-06,\n",
       " 1.3542580191287689e-06,\n",
       " 0.0]"
      ]
     },
     "execution_count": 281,
     "metadata": {},
     "output_type": "execute_result"
    }
   ],
   "source": [
    "sorted(dis1['dis1']/(dis1['dis1'].sum()),reverse=True)"
   ]
  },
  {
   "cell_type": "code",
   "execution_count": 250,
   "id": "ff732c0e",
   "metadata": {},
   "outputs": [],
   "source": [
    "a = select_init(data,select_point)"
   ]
  },
  {
   "cell_type": "code",
   "execution_count": 254,
   "id": "ea28d8e8",
   "metadata": {},
   "outputs": [
    {
     "data": {
      "text/plain": [
       "0      0\n",
       "1      1\n",
       "2      1\n",
       "3      1\n",
       "4      1\n",
       "      ..\n",
       "275    0\n",
       "276    0\n",
       "277    0\n",
       "278    0\n",
       "279    1\n",
       "Length: 280, dtype: int64"
      ]
     },
     "execution_count": 254,
     "metadata": {},
     "output_type": "execute_result"
    }
   ],
   "source": [
    "(a['dis1']>a['dis2']).astype(int)"
   ]
  },
  {
   "cell_type": "code",
   "execution_count": 247,
   "id": "8b209d5a",
   "metadata": {},
   "outputs": [
    {
     "data": {
      "text/html": [
       "<div>\n",
       "<style scoped>\n",
       "    .dataframe tbody tr th:only-of-type {\n",
       "        vertical-align: middle;\n",
       "    }\n",
       "\n",
       "    .dataframe tbody tr th {\n",
       "        vertical-align: top;\n",
       "    }\n",
       "\n",
       "    .dataframe thead th {\n",
       "        text-align: right;\n",
       "    }\n",
       "</style>\n",
       "<table border=\"1\" class=\"dataframe\">\n",
       "  <thead>\n",
       "    <tr style=\"text-align: right;\">\n",
       "      <th></th>\n",
       "      <th>最低</th>\n",
       "      <th>最高</th>\n",
       "      <th>label</th>\n",
       "    </tr>\n",
       "  </thead>\n",
       "  <tbody>\n",
       "    <tr>\n",
       "      <th>0</th>\n",
       "      <td>20.24</td>\n",
       "      <td>20.66</td>\n",
       "      <td>0</td>\n",
       "    </tr>\n",
       "    <tr>\n",
       "      <th>1</th>\n",
       "      <td>20.00</td>\n",
       "      <td>20.38</td>\n",
       "      <td>0</td>\n",
       "    </tr>\n",
       "    <tr>\n",
       "      <th>2</th>\n",
       "      <td>18.43</td>\n",
       "      <td>19.99</td>\n",
       "      <td>0</td>\n",
       "    </tr>\n",
       "    <tr>\n",
       "      <th>3</th>\n",
       "      <td>17.60</td>\n",
       "      <td>18.99</td>\n",
       "      <td>0</td>\n",
       "    </tr>\n",
       "    <tr>\n",
       "      <th>4</th>\n",
       "      <td>17.68</td>\n",
       "      <td>18.07</td>\n",
       "      <td>0</td>\n",
       "    </tr>\n",
       "    <tr>\n",
       "      <th>...</th>\n",
       "      <td>...</td>\n",
       "      <td>...</td>\n",
       "      <td>...</td>\n",
       "    </tr>\n",
       "    <tr>\n",
       "      <th>275</th>\n",
       "      <td>20.35</td>\n",
       "      <td>20.78</td>\n",
       "      <td>1</td>\n",
       "    </tr>\n",
       "    <tr>\n",
       "      <th>276</th>\n",
       "      <td>20.68</td>\n",
       "      <td>21.00</td>\n",
       "      <td>1</td>\n",
       "    </tr>\n",
       "    <tr>\n",
       "      <th>277</th>\n",
       "      <td>20.60</td>\n",
       "      <td>20.89</td>\n",
       "      <td>1</td>\n",
       "    </tr>\n",
       "    <tr>\n",
       "      <th>278</th>\n",
       "      <td>20.49</td>\n",
       "      <td>20.90</td>\n",
       "      <td>1</td>\n",
       "    </tr>\n",
       "    <tr>\n",
       "      <th>279</th>\n",
       "      <td>17.66</td>\n",
       "      <td>17.66</td>\n",
       "      <td>1</td>\n",
       "    </tr>\n",
       "  </tbody>\n",
       "</table>\n",
       "<p>280 rows × 3 columns</p>\n",
       "</div>"
      ],
      "text/plain": [
       "         最低      最高  label\n",
       "0     20.24   20.66      0\n",
       "1     20.00   20.38      0\n",
       "2     18.43   19.99      0\n",
       "3     17.60   18.99      0\n",
       "4     17.68   18.07      0\n",
       "..      ...     ...    ...\n",
       "275   20.35   20.78      1\n",
       "276   20.68   21.00      1\n",
       "277   20.60   20.89      1\n",
       "278   20.49   20.90      1\n",
       "279   17.66   17.66      1\n",
       "\n",
       "[280 rows x 3 columns]"
      ]
     },
     "execution_count": 247,
     "metadata": {},
     "output_type": "execute_result"
    }
   ],
   "source": [
    "data['dis1'] = dis[0]\n",
    "data['dis2'] = dis[1]"
   ]
  },
  {
   "cell_type": "code",
   "execution_count": 217,
   "id": "54fe14a4",
   "metadata": {},
   "outputs": [
    {
     "name": "stdout",
     "output_type": "stream",
     "text": [
      "[20.24 20.66]\n"
     ]
    }
   ],
   "source": [
    "for i in np.array(data.iloc[:,[0,1]]):\n",
    "    print(i)\n",
    "    break"
   ]
  },
  {
   "cell_type": "code",
   "execution_count": 220,
   "id": "4517dafb",
   "metadata": {},
   "outputs": [
    {
     "name": "stdout",
     "output_type": "stream",
     "text": [
      "[22.66 23.29]\n",
      "[17.36 17.57]\n"
     ]
    }
   ],
   "source": [
    "for point in np.array(select_point.iloc[:,[0,1]]):\n",
    "    print(point)"
   ]
  },
  {
   "cell_type": "code",
   "execution_count": 236,
   "id": "9b2b6a94",
   "metadata": {},
   "outputs": [
    {
     "data": {
      "text/plain": [
       "(280,)"
      ]
     },
     "execution_count": 236,
     "metadata": {},
     "output_type": "execute_result"
    }
   ],
   "source": [
    "((np.array(data.iloc[:,[0,1]])-np.array(select_point.iloc[:,[0,1]])[0])**2).sum(axis=1).shape"
   ]
  },
  {
   "cell_type": "code",
   "execution_count": null,
   "id": "2389cc7e",
   "metadata": {},
   "outputs": [],
   "source": []
  },
  {
   "cell_type": "code",
   "execution_count": null,
   "id": "2441d930",
   "metadata": {},
   "outputs": [],
   "source": []
  },
  {
   "cell_type": "code",
   "execution_count": 196,
   "id": "d2a4d4dd",
   "metadata": {},
   "outputs": [],
   "source": [
    "def train(X,K):\n",
    "    evalutions = []\n",
    "    for i in range(K):\n",
    "        kmeans = KMeans(n_clusters=i+1,init='random')\n",
    "        kmeans_ = kmeans.fit(X.iloc[:,[0,1]])\n",
    "        predict = kmeans_.predict(X.iloc[:,[0,1]])\n",
    "        centers = kmeans_.cluster_centers_\n",
    "        X['predict'] = predict\n",
    "        evalutions.append(silhouette_score(X.iloc[:,[0,1]],X.iloc[:,-1]))\n",
    "    return evalutions"
   ]
  },
  {
   "cell_type": "code",
   "execution_count": 197,
   "id": "035a9382",
   "metadata": {},
   "outputs": [
    {
     "ename": "ValueError",
     "evalue": "Number of labels is 1. Valid values are 2 to n_samples - 1 (inclusive)",
     "output_type": "error",
     "traceback": [
      "\u001b[0;31m---------------------------------------------------------------------------\u001b[0m",
      "\u001b[0;31mValueError\u001b[0m                                Traceback (most recent call last)",
      "\u001b[0;32m/var/folders/l_/mgw1wg3d2s7dfjn12nnskp240000gn/T/ipykernel_1007/1299022520.py\u001b[0m in \u001b[0;36m<module>\u001b[0;34m\u001b[0m\n\u001b[0;32m----> 1\u001b[0;31m \u001b[0me\u001b[0m \u001b[0;34m=\u001b[0m \u001b[0mtrain\u001b[0m\u001b[0;34m(\u001b[0m\u001b[0mX\u001b[0m\u001b[0;34m,\u001b[0m\u001b[0;36m100\u001b[0m\u001b[0;34m)\u001b[0m\u001b[0;34m\u001b[0m\u001b[0;34m\u001b[0m\u001b[0m\n\u001b[0m",
      "\u001b[0;32m/var/folders/l_/mgw1wg3d2s7dfjn12nnskp240000gn/T/ipykernel_1007/1086614680.py\u001b[0m in \u001b[0;36mtrain\u001b[0;34m(X, K)\u001b[0m\n\u001b[1;32m      7\u001b[0m         \u001b[0mcenters\u001b[0m \u001b[0;34m=\u001b[0m \u001b[0mkmeans_\u001b[0m\u001b[0;34m.\u001b[0m\u001b[0mcluster_centers_\u001b[0m\u001b[0;34m\u001b[0m\u001b[0;34m\u001b[0m\u001b[0m\n\u001b[1;32m      8\u001b[0m         \u001b[0mX\u001b[0m\u001b[0;34m[\u001b[0m\u001b[0;34m'predict'\u001b[0m\u001b[0;34m]\u001b[0m \u001b[0;34m=\u001b[0m \u001b[0mpredict\u001b[0m\u001b[0;34m\u001b[0m\u001b[0;34m\u001b[0m\u001b[0m\n\u001b[0;32m----> 9\u001b[0;31m         \u001b[0mevalutions\u001b[0m\u001b[0;34m.\u001b[0m\u001b[0mappend\u001b[0m\u001b[0;34m(\u001b[0m\u001b[0msilhouette_score\u001b[0m\u001b[0;34m(\u001b[0m\u001b[0mX\u001b[0m\u001b[0;34m.\u001b[0m\u001b[0miloc\u001b[0m\u001b[0;34m[\u001b[0m\u001b[0;34m:\u001b[0m\u001b[0;34m,\u001b[0m\u001b[0;34m[\u001b[0m\u001b[0;36m0\u001b[0m\u001b[0;34m,\u001b[0m\u001b[0;36m1\u001b[0m\u001b[0;34m]\u001b[0m\u001b[0;34m]\u001b[0m\u001b[0;34m,\u001b[0m\u001b[0mX\u001b[0m\u001b[0;34m.\u001b[0m\u001b[0miloc\u001b[0m\u001b[0;34m[\u001b[0m\u001b[0;34m:\u001b[0m\u001b[0;34m,\u001b[0m\u001b[0;34m-\u001b[0m\u001b[0;36m1\u001b[0m\u001b[0;34m]\u001b[0m\u001b[0;34m)\u001b[0m\u001b[0;34m)\u001b[0m\u001b[0;34m\u001b[0m\u001b[0;34m\u001b[0m\u001b[0m\n\u001b[0m\u001b[1;32m     10\u001b[0m     \u001b[0;32mreturn\u001b[0m \u001b[0mevalutions\u001b[0m\u001b[0;34m\u001b[0m\u001b[0;34m\u001b[0m\u001b[0m\n",
      "\u001b[0;32m~/.local/lib/python3.7/site-packages/sklearn/metrics/cluster/_unsupervised.py\u001b[0m in \u001b[0;36msilhouette_score\u001b[0;34m(X, labels, metric, sample_size, random_state, **kwds)\u001b[0m\n\u001b[1;32m    115\u001b[0m         \u001b[0;32melse\u001b[0m\u001b[0;34m:\u001b[0m\u001b[0;34m\u001b[0m\u001b[0;34m\u001b[0m\u001b[0m\n\u001b[1;32m    116\u001b[0m             \u001b[0mX\u001b[0m\u001b[0;34m,\u001b[0m \u001b[0mlabels\u001b[0m \u001b[0;34m=\u001b[0m \u001b[0mX\u001b[0m\u001b[0;34m[\u001b[0m\u001b[0mindices\u001b[0m\u001b[0;34m]\u001b[0m\u001b[0;34m,\u001b[0m \u001b[0mlabels\u001b[0m\u001b[0;34m[\u001b[0m\u001b[0mindices\u001b[0m\u001b[0;34m]\u001b[0m\u001b[0;34m\u001b[0m\u001b[0;34m\u001b[0m\u001b[0m\n\u001b[0;32m--> 117\u001b[0;31m     \u001b[0;32mreturn\u001b[0m \u001b[0mnp\u001b[0m\u001b[0;34m.\u001b[0m\u001b[0mmean\u001b[0m\u001b[0;34m(\u001b[0m\u001b[0msilhouette_samples\u001b[0m\u001b[0;34m(\u001b[0m\u001b[0mX\u001b[0m\u001b[0;34m,\u001b[0m \u001b[0mlabels\u001b[0m\u001b[0;34m,\u001b[0m \u001b[0mmetric\u001b[0m\u001b[0;34m=\u001b[0m\u001b[0mmetric\u001b[0m\u001b[0;34m,\u001b[0m \u001b[0;34m**\u001b[0m\u001b[0mkwds\u001b[0m\u001b[0;34m)\u001b[0m\u001b[0;34m)\u001b[0m\u001b[0;34m\u001b[0m\u001b[0;34m\u001b[0m\u001b[0m\n\u001b[0m\u001b[1;32m    118\u001b[0m \u001b[0;34m\u001b[0m\u001b[0m\n\u001b[1;32m    119\u001b[0m \u001b[0;34m\u001b[0m\u001b[0m\n",
      "\u001b[0;32m~/.local/lib/python3.7/site-packages/sklearn/metrics/cluster/_unsupervised.py\u001b[0m in \u001b[0;36msilhouette_samples\u001b[0;34m(X, labels, metric, **kwds)\u001b[0m\n\u001b[1;32m    225\u001b[0m     \u001b[0mn_samples\u001b[0m \u001b[0;34m=\u001b[0m \u001b[0mlen\u001b[0m\u001b[0;34m(\u001b[0m\u001b[0mlabels\u001b[0m\u001b[0;34m)\u001b[0m\u001b[0;34m\u001b[0m\u001b[0;34m\u001b[0m\u001b[0m\n\u001b[1;32m    226\u001b[0m     \u001b[0mlabel_freqs\u001b[0m \u001b[0;34m=\u001b[0m \u001b[0mnp\u001b[0m\u001b[0;34m.\u001b[0m\u001b[0mbincount\u001b[0m\u001b[0;34m(\u001b[0m\u001b[0mlabels\u001b[0m\u001b[0;34m)\u001b[0m\u001b[0;34m\u001b[0m\u001b[0;34m\u001b[0m\u001b[0m\n\u001b[0;32m--> 227\u001b[0;31m     \u001b[0mcheck_number_of_labels\u001b[0m\u001b[0;34m(\u001b[0m\u001b[0mlen\u001b[0m\u001b[0;34m(\u001b[0m\u001b[0mle\u001b[0m\u001b[0;34m.\u001b[0m\u001b[0mclasses_\u001b[0m\u001b[0;34m)\u001b[0m\u001b[0;34m,\u001b[0m \u001b[0mn_samples\u001b[0m\u001b[0;34m)\u001b[0m\u001b[0;34m\u001b[0m\u001b[0;34m\u001b[0m\u001b[0m\n\u001b[0m\u001b[1;32m    228\u001b[0m \u001b[0;34m\u001b[0m\u001b[0m\n\u001b[1;32m    229\u001b[0m     \u001b[0mkwds\u001b[0m\u001b[0;34m[\u001b[0m\u001b[0;34m\"metric\"\u001b[0m\u001b[0;34m]\u001b[0m \u001b[0;34m=\u001b[0m \u001b[0mmetric\u001b[0m\u001b[0;34m\u001b[0m\u001b[0;34m\u001b[0m\u001b[0m\n",
      "\u001b[0;32m~/.local/lib/python3.7/site-packages/sklearn/metrics/cluster/_unsupervised.py\u001b[0m in \u001b[0;36mcheck_number_of_labels\u001b[0;34m(n_labels, n_samples)\u001b[0m\n\u001b[1;32m     33\u001b[0m         raise ValueError(\n\u001b[1;32m     34\u001b[0m             \u001b[0;34m\"Number of labels is %d. Valid values are 2 to n_samples - 1 (inclusive)\"\u001b[0m\u001b[0;34m\u001b[0m\u001b[0;34m\u001b[0m\u001b[0m\n\u001b[0;32m---> 35\u001b[0;31m             \u001b[0;34m%\u001b[0m \u001b[0mn_labels\u001b[0m\u001b[0;34m\u001b[0m\u001b[0;34m\u001b[0m\u001b[0m\n\u001b[0m\u001b[1;32m     36\u001b[0m         )\n\u001b[1;32m     37\u001b[0m \u001b[0;34m\u001b[0m\u001b[0m\n",
      "\u001b[0;31mValueError\u001b[0m: Number of labels is 1. Valid values are 2 to n_samples - 1 (inclusive)"
     ]
    }
   ],
   "source": [
    "e = train(X,100)"
   ]
  },
  {
   "cell_type": "code",
   "execution_count": 192,
   "id": "d208618c",
   "metadata": {},
   "outputs": [
    {
     "data": {
      "text/plain": [
       "(0.0, 0.1)"
      ]
     },
     "execution_count": 192,
     "metadata": {},
     "output_type": "execute_result"
    },
    {
     "data": {
      "image/png": "[encoded data removed]",
      "text/plain": [
       "<Figure size 432x288 with 1 Axes>"
      ]
     },
     "metadata": {
      "needs_background": "light"
     },
     "output_type": "display_data"
    }
   ],
   "source": [
    "plt.plot(e)\n",
    "plt.ylim(0,1e-1)"
   ]
  },
  {
   "cell_type": "code",
   "execution_count": 115,
   "id": "ad76bd31",
   "metadata": {},
   "outputs": [
    {
     "data": {
      "text/html": [
       "<div>\n",
       "<style scoped>\n",
       "    .dataframe tbody tr th:only-of-type {\n",
       "        vertical-align: middle;\n",
       "    }\n",
       "\n",
       "    .dataframe tbody tr th {\n",
       "        vertical-align: top;\n",
       "    }\n",
       "\n",
       "    .dataframe thead th {\n",
       "        text-align: right;\n",
       "    }\n",
       "</style>\n",
       "<table border=\"1\" class=\"dataframe\">\n",
       "  <thead>\n",
       "    <tr style=\"text-align: right;\">\n",
       "      <th></th>\n",
       "      <th>最低</th>\n",
       "      <th>最高</th>\n",
       "      <th>predict</th>\n",
       "    </tr>\n",
       "  </thead>\n",
       "  <tbody>\n",
       "    <tr>\n",
       "      <th>0</th>\n",
       "      <td>20.24</td>\n",
       "      <td>20.66</td>\n",
       "      <td>0</td>\n",
       "    </tr>\n",
       "    <tr>\n",
       "      <th>1</th>\n",
       "      <td>20.00</td>\n",
       "      <td>20.38</td>\n",
       "      <td>0</td>\n",
       "    </tr>\n",
       "    <tr>\n",
       "      <th>2</th>\n",
       "      <td>18.43</td>\n",
       "      <td>19.99</td>\n",
       "      <td>0</td>\n",
       "    </tr>\n",
       "    <tr>\n",
       "      <th>3</th>\n",
       "      <td>17.60</td>\n",
       "      <td>18.99</td>\n",
       "      <td>3</td>\n",
       "    </tr>\n",
       "    <tr>\n",
       "      <th>4</th>\n",
       "      <td>17.68</td>\n",
       "      <td>18.07</td>\n",
       "      <td>3</td>\n",
       "    </tr>\n",
       "    <tr>\n",
       "      <th>...</th>\n",
       "      <td>...</td>\n",
       "      <td>...</td>\n",
       "      <td>...</td>\n",
       "    </tr>\n",
       "    <tr>\n",
       "      <th>275</th>\n",
       "      <td>20.35</td>\n",
       "      <td>20.78</td>\n",
       "      <td>0</td>\n",
       "    </tr>\n",
       "    <tr>\n",
       "      <th>276</th>\n",
       "      <td>20.68</td>\n",
       "      <td>21.00</td>\n",
       "      <td>0</td>\n",
       "    </tr>\n",
       "    <tr>\n",
       "      <th>277</th>\n",
       "      <td>20.60</td>\n",
       "      <td>20.89</td>\n",
       "      <td>0</td>\n",
       "    </tr>\n",
       "    <tr>\n",
       "      <th>278</th>\n",
       "      <td>20.49</td>\n",
       "      <td>20.90</td>\n",
       "      <td>0</td>\n",
       "    </tr>\n",
       "    <tr>\n",
       "      <th>279</th>\n",
       "      <td>17.66</td>\n",
       "      <td>17.66</td>\n",
       "      <td>3</td>\n",
       "    </tr>\n",
       "  </tbody>\n",
       "</table>\n",
       "<p>280 rows × 3 columns</p>\n",
       "</div>"
      ],
      "text/plain": [
       "         最低      最高  predict\n",
       "0     20.24   20.66        0\n",
       "1     20.00   20.38        0\n",
       "2     18.43   19.99        0\n",
       "3     17.60   18.99        3\n",
       "4     17.68   18.07        3\n",
       "..      ...     ...      ...\n",
       "275   20.35   20.78        0\n",
       "276   20.68   21.00        0\n",
       "277   20.60   20.89        0\n",
       "278   20.49   20.90        0\n",
       "279   17.66   17.66        3\n",
       "\n",
       "[280 rows x 3 columns]"
      ]
     },
     "execution_count": 115,
     "metadata": {},
     "output_type": "execute_result"
    }
   ],
   "source": [
    "X"
   ]
  },
  {
   "cell_type": "code",
   "execution_count": 116,
   "id": "ecb337e8",
   "metadata": {},
   "outputs": [
    {
     "ename": "ValueError",
     "evalue": "Found array with 0 sample(s) (shape=(0, 2)) while a minimum of 1 is required by check_pairwise_arrays.",
     "output_type": "error",
     "traceback": [
      "\u001b[0;31m---------------------------------------------------------------------------\u001b[0m",
      "\u001b[0;31mValueError\u001b[0m                                Traceback (most recent call last)",
      "\u001b[0;32m/var/folders/l_/mgw1wg3d2s7dfjn12nnskp240000gn/T/ipykernel_1007/1340735139.py\u001b[0m in \u001b[0;36m<module>\u001b[0;34m\u001b[0m\n\u001b[0;32m----> 1\u001b[0;31m \u001b[0mget_k\u001b[0m\u001b[0;34m(\u001b[0m\u001b[0mX\u001b[0m\u001b[0;34m,\u001b[0m\u001b[0;36m5\u001b[0m\u001b[0;34m)\u001b[0m\u001b[0;34m\u001b[0m\u001b[0;34m\u001b[0m\u001b[0m\n\u001b[0m",
      "\u001b[0;32m/var/folders/l_/mgw1wg3d2s7dfjn12nnskp240000gn/T/ipykernel_1007/3886214070.py\u001b[0m in \u001b[0;36mget_k\u001b[0;34m(X, K)\u001b[0m\n\u001b[1;32m      3\u001b[0m     \u001b[0;32mfor\u001b[0m \u001b[0mi\u001b[0m \u001b[0;32min\u001b[0m \u001b[0mrange\u001b[0m\u001b[0;34m(\u001b[0m\u001b[0mK\u001b[0m\u001b[0;34m+\u001b[0m\u001b[0;36m1\u001b[0m\u001b[0;34m)\u001b[0m\u001b[0;34m:\u001b[0m\u001b[0;34m\u001b[0m\u001b[0;34m\u001b[0m\u001b[0m\n\u001b[1;32m      4\u001b[0m         \u001b[0mkmeans\u001b[0m \u001b[0;34m=\u001b[0m \u001b[0mKMeans\u001b[0m\u001b[0;34m(\u001b[0m\u001b[0mn_clusters\u001b[0m\u001b[0;34m=\u001b[0m\u001b[0mi\u001b[0m\u001b[0;34m,\u001b[0m\u001b[0minit\u001b[0m\u001b[0;34m=\u001b[0m\u001b[0;34m'random'\u001b[0m\u001b[0;34m)\u001b[0m\u001b[0;34m\u001b[0m\u001b[0;34m\u001b[0m\u001b[0m\n\u001b[0;32m----> 5\u001b[0;31m         \u001b[0mkmeans_\u001b[0m \u001b[0;34m=\u001b[0m \u001b[0mkmeans\u001b[0m\u001b[0;34m.\u001b[0m\u001b[0mfit\u001b[0m\u001b[0;34m(\u001b[0m\u001b[0mX\u001b[0m\u001b[0;34m.\u001b[0m\u001b[0miloc\u001b[0m\u001b[0;34m[\u001b[0m\u001b[0;34m:\u001b[0m\u001b[0;34m,\u001b[0m\u001b[0;34m[\u001b[0m\u001b[0;36m0\u001b[0m\u001b[0;34m,\u001b[0m\u001b[0;36m1\u001b[0m\u001b[0;34m]\u001b[0m\u001b[0;34m]\u001b[0m\u001b[0;34m)\u001b[0m\u001b[0;34m\u001b[0m\u001b[0;34m\u001b[0m\u001b[0m\n\u001b[0m\u001b[1;32m      6\u001b[0m         \u001b[0mpredict\u001b[0m \u001b[0;34m=\u001b[0m \u001b[0mkmeans_\u001b[0m\u001b[0;34m.\u001b[0m\u001b[0mpredict\u001b[0m\u001b[0;34m(\u001b[0m\u001b[0mX\u001b[0m\u001b[0;34m.\u001b[0m\u001b[0miloc\u001b[0m\u001b[0;34m[\u001b[0m\u001b[0;34m:\u001b[0m\u001b[0;34m,\u001b[0m\u001b[0;34m[\u001b[0m\u001b[0;36m0\u001b[0m\u001b[0;34m,\u001b[0m\u001b[0;36m1\u001b[0m\u001b[0;34m]\u001b[0m\u001b[0;34m]\u001b[0m\u001b[0;34m)\u001b[0m\u001b[0;34m\u001b[0m\u001b[0;34m\u001b[0m\u001b[0m\n\u001b[1;32m      7\u001b[0m         \u001b[0mcenters\u001b[0m \u001b[0;34m=\u001b[0m \u001b[0mkmeans_\u001b[0m\u001b[0;34m.\u001b[0m\u001b[0mcluster_centers_\u001b[0m\u001b[0;34m\u001b[0m\u001b[0;34m\u001b[0m\u001b[0m\n",
      "\u001b[0;32m~/.local/lib/python3.7/site-packages/sklearn/cluster/_kmeans.py\u001b[0m in \u001b[0;36mfit\u001b[0;34m(self, X, y, sample_weight)\u001b[0m\n\u001b[1;32m   1192\u001b[0m                 \u001b[0mtol\u001b[0m\u001b[0;34m=\u001b[0m\u001b[0mself\u001b[0m\u001b[0;34m.\u001b[0m\u001b[0m_tol\u001b[0m\u001b[0;34m,\u001b[0m\u001b[0;34m\u001b[0m\u001b[0;34m\u001b[0m\u001b[0m\n\u001b[1;32m   1193\u001b[0m                 \u001b[0mx_squared_norms\u001b[0m\u001b[0;34m=\u001b[0m\u001b[0mx_squared_norms\u001b[0m\u001b[0;34m,\u001b[0m\u001b[0;34m\u001b[0m\u001b[0;34m\u001b[0m\u001b[0m\n\u001b[0;32m-> 1194\u001b[0;31m                 \u001b[0mn_threads\u001b[0m\u001b[0;34m=\u001b[0m\u001b[0mself\u001b[0m\u001b[0;34m.\u001b[0m\u001b[0m_n_threads\u001b[0m\u001b[0;34m,\u001b[0m\u001b[0;34m\u001b[0m\u001b[0;34m\u001b[0m\u001b[0m\n\u001b[0m\u001b[1;32m   1195\u001b[0m             )\n\u001b[1;32m   1196\u001b[0m \u001b[0;34m\u001b[0m\u001b[0m\n",
      "\u001b[0;32m~/.local/lib/python3.7/site-packages/sklearn/cluster/_kmeans.py\u001b[0m in \u001b[0;36m_kmeans_single_elkan\u001b[0;34m(X, sample_weight, centers_init, max_iter, verbose, x_squared_norms, tol, n_threads)\u001b[0m\n\u001b[1;32m    450\u001b[0m     \u001b[0mlabels\u001b[0m \u001b[0;34m=\u001b[0m \u001b[0mnp\u001b[0m\u001b[0;34m.\u001b[0m\u001b[0mfull\u001b[0m\u001b[0;34m(\u001b[0m\u001b[0mn_samples\u001b[0m\u001b[0;34m,\u001b[0m \u001b[0;34m-\u001b[0m\u001b[0;36m1\u001b[0m\u001b[0;34m,\u001b[0m \u001b[0mdtype\u001b[0m\u001b[0;34m=\u001b[0m\u001b[0mnp\u001b[0m\u001b[0;34m.\u001b[0m\u001b[0mint32\u001b[0m\u001b[0;34m)\u001b[0m\u001b[0;34m\u001b[0m\u001b[0;34m\u001b[0m\u001b[0m\n\u001b[1;32m    451\u001b[0m     \u001b[0mlabels_old\u001b[0m \u001b[0;34m=\u001b[0m \u001b[0mlabels\u001b[0m\u001b[0;34m.\u001b[0m\u001b[0mcopy\u001b[0m\u001b[0;34m(\u001b[0m\u001b[0;34m)\u001b[0m\u001b[0;34m\u001b[0m\u001b[0;34m\u001b[0m\u001b[0m\n\u001b[0;32m--> 452\u001b[0;31m     \u001b[0mcenter_half_distances\u001b[0m \u001b[0;34m=\u001b[0m \u001b[0meuclidean_distances\u001b[0m\u001b[0;34m(\u001b[0m\u001b[0mcenters\u001b[0m\u001b[0;34m)\u001b[0m \u001b[0;34m/\u001b[0m \u001b[0;36m2\u001b[0m\u001b[0;34m\u001b[0m\u001b[0;34m\u001b[0m\u001b[0m\n\u001b[0m\u001b[1;32m    453\u001b[0m     distance_next_center = np.partition(\n\u001b[1;32m    454\u001b[0m         \u001b[0mnp\u001b[0m\u001b[0;34m.\u001b[0m\u001b[0masarray\u001b[0m\u001b[0;34m(\u001b[0m\u001b[0mcenter_half_distances\u001b[0m\u001b[0;34m)\u001b[0m\u001b[0;34m,\u001b[0m \u001b[0mkth\u001b[0m\u001b[0;34m=\u001b[0m\u001b[0;36m1\u001b[0m\u001b[0;34m,\u001b[0m \u001b[0maxis\u001b[0m\u001b[0;34m=\u001b[0m\u001b[0;36m0\u001b[0m\u001b[0;34m\u001b[0m\u001b[0;34m\u001b[0m\u001b[0m\n",
      "\u001b[0;32m~/.local/lib/python3.7/site-packages/sklearn/metrics/pairwise.py\u001b[0m in \u001b[0;36meuclidean_distances\u001b[0;34m(X, Y, Y_norm_squared, squared, X_norm_squared)\u001b[0m\n\u001b[1;32m    300\u001b[0m            [1.41421356]])\n\u001b[1;32m    301\u001b[0m     \"\"\"\n\u001b[0;32m--> 302\u001b[0;31m     \u001b[0mX\u001b[0m\u001b[0;34m,\u001b[0m \u001b[0mY\u001b[0m \u001b[0;34m=\u001b[0m \u001b[0mcheck_pairwise_arrays\u001b[0m\u001b[0;34m(\u001b[0m\u001b[0mX\u001b[0m\u001b[0;34m,\u001b[0m \u001b[0mY\u001b[0m\u001b[0;34m)\u001b[0m\u001b[0;34m\u001b[0m\u001b[0;34m\u001b[0m\u001b[0m\n\u001b[0m\u001b[1;32m    303\u001b[0m \u001b[0;34m\u001b[0m\u001b[0m\n\u001b[1;32m    304\u001b[0m     \u001b[0;32mif\u001b[0m \u001b[0mX_norm_squared\u001b[0m \u001b[0;32mis\u001b[0m \u001b[0;32mnot\u001b[0m \u001b[0;32mNone\u001b[0m\u001b[0;34m:\u001b[0m\u001b[0;34m\u001b[0m\u001b[0;34m\u001b[0m\u001b[0m\n",
      "\u001b[0;32m~/.local/lib/python3.7/site-packages/sklearn/metrics/pairwise.py\u001b[0m in \u001b[0;36mcheck_pairwise_arrays\u001b[0;34m(X, Y, precomputed, dtype, accept_sparse, force_all_finite, copy)\u001b[0m\n\u001b[1;32m    151\u001b[0m             \u001b[0mcopy\u001b[0m\u001b[0;34m=\u001b[0m\u001b[0mcopy\u001b[0m\u001b[0;34m,\u001b[0m\u001b[0;34m\u001b[0m\u001b[0;34m\u001b[0m\u001b[0m\n\u001b[1;32m    152\u001b[0m             \u001b[0mforce_all_finite\u001b[0m\u001b[0;34m=\u001b[0m\u001b[0mforce_all_finite\u001b[0m\u001b[0;34m,\u001b[0m\u001b[0;34m\u001b[0m\u001b[0;34m\u001b[0m\u001b[0m\n\u001b[0;32m--> 153\u001b[0;31m             \u001b[0mestimator\u001b[0m\u001b[0;34m=\u001b[0m\u001b[0mestimator\u001b[0m\u001b[0;34m,\u001b[0m\u001b[0;34m\u001b[0m\u001b[0;34m\u001b[0m\u001b[0m\n\u001b[0m\u001b[1;32m    154\u001b[0m         )\n\u001b[1;32m    155\u001b[0m     \u001b[0;32melse\u001b[0m\u001b[0;34m:\u001b[0m\u001b[0;34m\u001b[0m\u001b[0;34m\u001b[0m\u001b[0m\n",
      "\u001b[0;32m~/.local/lib/python3.7/site-packages/sklearn/utils/validation.py\u001b[0m in \u001b[0;36mcheck_array\u001b[0;34m(array, accept_sparse, accept_large_sparse, dtype, order, copy, force_all_finite, ensure_2d, allow_nd, ensure_min_samples, ensure_min_features, estimator)\u001b[0m\n\u001b[1;32m    806\u001b[0m                 \u001b[0;34m\"Found array with %d sample(s) (shape=%s) while a\"\u001b[0m\u001b[0;34m\u001b[0m\u001b[0;34m\u001b[0m\u001b[0m\n\u001b[1;32m    807\u001b[0m                 \u001b[0;34m\" minimum of %d is required%s.\"\u001b[0m\u001b[0;34m\u001b[0m\u001b[0;34m\u001b[0m\u001b[0m\n\u001b[0;32m--> 808\u001b[0;31m                 \u001b[0;34m%\u001b[0m \u001b[0;34m(\u001b[0m\u001b[0mn_samples\u001b[0m\u001b[0;34m,\u001b[0m \u001b[0marray\u001b[0m\u001b[0;34m.\u001b[0m\u001b[0mshape\u001b[0m\u001b[0;34m,\u001b[0m \u001b[0mensure_min_samples\u001b[0m\u001b[0;34m,\u001b[0m \u001b[0mcontext\u001b[0m\u001b[0;34m)\u001b[0m\u001b[0;34m\u001b[0m\u001b[0;34m\u001b[0m\u001b[0m\n\u001b[0m\u001b[1;32m    809\u001b[0m             )\n\u001b[1;32m    810\u001b[0m \u001b[0;34m\u001b[0m\u001b[0m\n",
      "\u001b[0;31mValueError\u001b[0m: Found array with 0 sample(s) (shape=(0, 2)) while a minimum of 1 is required by check_pairwise_arrays."
     ]
    }
   ],
   "source": [
    "get_k(X,5)"
   ]
  },
  {
   "cell_type": "code",
   "execution_count": 99,
   "id": "67217a93",
   "metadata": {},
   "outputs": [
    {
     "data": {
      "text/html": [
       "<div>\n",
       "<style scoped>\n",
       "    .dataframe tbody tr th:only-of-type {\n",
       "        vertical-align: middle;\n",
       "    }\n",
       "\n",
       "    .dataframe tbody tr th {\n",
       "        vertical-align: top;\n",
       "    }\n",
       "\n",
       "    .dataframe thead th {\n",
       "        text-align: right;\n",
       "    }\n",
       "</style>\n",
       "<table border=\"1\" class=\"dataframe\">\n",
       "  <thead>\n",
       "    <tr style=\"text-align: right;\">\n",
       "      <th></th>\n",
       "      <th>最低</th>\n",
       "      <th>最高</th>\n",
       "    </tr>\n",
       "  </thead>\n",
       "  <tbody>\n",
       "    <tr>\n",
       "      <th>0</th>\n",
       "      <td>20.24</td>\n",
       "      <td>20.66</td>\n",
       "    </tr>\n",
       "    <tr>\n",
       "      <th>1</th>\n",
       "      <td>20.00</td>\n",
       "      <td>20.38</td>\n",
       "    </tr>\n",
       "    <tr>\n",
       "      <th>2</th>\n",
       "      <td>18.43</td>\n",
       "      <td>19.99</td>\n",
       "    </tr>\n",
       "    <tr>\n",
       "      <th>3</th>\n",
       "      <td>17.60</td>\n",
       "      <td>18.99</td>\n",
       "    </tr>\n",
       "    <tr>\n",
       "      <th>4</th>\n",
       "      <td>17.68</td>\n",
       "      <td>18.07</td>\n",
       "    </tr>\n",
       "    <tr>\n",
       "      <th>...</th>\n",
       "      <td>...</td>\n",
       "      <td>...</td>\n",
       "    </tr>\n",
       "    <tr>\n",
       "      <th>275</th>\n",
       "      <td>20.35</td>\n",
       "      <td>20.78</td>\n",
       "    </tr>\n",
       "    <tr>\n",
       "      <th>276</th>\n",
       "      <td>20.68</td>\n",
       "      <td>21.00</td>\n",
       "    </tr>\n",
       "    <tr>\n",
       "      <th>277</th>\n",
       "      <td>20.60</td>\n",
       "      <td>20.89</td>\n",
       "    </tr>\n",
       "    <tr>\n",
       "      <th>278</th>\n",
       "      <td>20.49</td>\n",
       "      <td>20.90</td>\n",
       "    </tr>\n",
       "    <tr>\n",
       "      <th>279</th>\n",
       "      <td>17.66</td>\n",
       "      <td>17.66</td>\n",
       "    </tr>\n",
       "  </tbody>\n",
       "</table>\n",
       "<p>280 rows × 2 columns</p>\n",
       "</div>"
      ],
      "text/plain": [
       "         最低      最高\n",
       "0     20.24   20.66\n",
       "1     20.00   20.38\n",
       "2     18.43   19.99\n",
       "3     17.60   18.99\n",
       "4     17.68   18.07\n",
       "..      ...     ...\n",
       "275   20.35   20.78\n",
       "276   20.68   21.00\n",
       "277   20.60   20.89\n",
       "278   20.49   20.90\n",
       "279   17.66   17.66\n",
       "\n",
       "[280 rows x 2 columns]"
      ]
     },
     "execution_count": 99,
     "metadata": {},
     "output_type": "execute_result"
    }
   ],
   "source": [
    "X.iloc[:,[0,1]]"
   ]
  },
  {
   "cell_type": "code",
   "execution_count": null,
   "id": "68cd7d0d",
   "metadata": {},
   "outputs": [],
   "source": []
  },
  {
   "cell_type": "code",
   "execution_count": null,
   "id": "6ea9350d",
   "metadata": {},
   "outputs": [],
   "source": []
  },
  {
   "cell_type": "code",
   "execution_count": null,
   "id": "bd21e580",
   "metadata": {},
   "outputs": [],
   "source": []
  },
  {
   "cell_type": "code",
   "execution_count": null,
   "id": "ea7b6e15",
   "metadata": {},
   "outputs": [],
   "source": []
  },
  {
   "cell_type": "code",
   "execution_count": null,
   "id": "1ef3272d",
   "metadata": {},
   "outputs": [],
   "source": []
  },
  {
   "cell_type": "code",
   "execution_count": null,
   "id": "fb1c26b4",
   "metadata": {},
   "outputs": [],
   "source": []
  },
  {
   "cell_type": "code",
   "execution_count": null,
   "id": "effbb782",
   "metadata": {},
   "outputs": [],
   "source": []
  },
  {
   "cell_type": "code",
   "execution_count": null,
   "id": "483e0777",
   "metadata": {},
   "outputs": [],
   "source": []
  },
  {
   "cell_type": "code",
   "execution_count": null,
   "id": "42e6a5ab",
   "metadata": {},
   "outputs": [],
   "source": []
  },
  {
   "cell_type": "code",
   "execution_count": null,
   "id": "0588658a",
   "metadata": {},
   "outputs": [],
   "source": []
  },
  {
   "cell_type": "code",
   "execution_count": 470,
   "id": "be32098d",
   "metadata": {},
   "outputs": [],
   "source": [
    "# 计算距离\n",
    "def distance(center,x):\n",
    "    return np.sqrt(np.sum((np.array(center)-np.array(x))**2))"
   ]
  },
  {
   "cell_type": "code",
   "execution_count": null,
   "id": "93c80cce",
   "metadata": {},
   "outputs": [],
   "source": []
  },
  {
   "cell_type": "code",
   "execution_count": null,
   "id": "5c7fbe3c",
   "metadata": {},
   "outputs": [],
   "source": []
  },
  {
   "cell_type": "code",
   "execution_count": null,
   "id": "696fc780",
   "metadata": {},
   "outputs": [],
   "source": []
  },
  {
   "cell_type": "code",
   "execution_count": null,
   "id": "f2a9219f",
   "metadata": {},
   "outputs": [],
   "source": []
  },
  {
   "cell_type": "code",
   "execution_count": 19,
   "id": "53ccbcaa",
   "metadata": {},
   "outputs": [],
   "source": [
    "center = [1,1,1]\n",
    "x = [0.5,0.5,0.5]"
   ]
  },
  {
   "cell_type": "code",
   "execution_count": 20,
   "id": "96e32e26",
   "metadata": {},
   "outputs": [
    {
     "data": {
      "text/plain": [
       "0.8660254037844386"
      ]
     },
     "execution_count": 20,
     "metadata": {},
     "output_type": "execute_result"
    }
   ],
   "source": [
    "distance(center,x)"
   ]
  },
  {
   "cell_type": "code",
   "execution_count": 337,
   "id": "faa41900",
   "metadata": {},
   "outputs": [],
   "source": [
    "indexs = np.random.choice(data.shape[0],2)"
   ]
  },
  {
   "cell_type": "code",
   "execution_count": 338,
   "id": "00d8fe6a",
   "metadata": {},
   "outputs": [
    {
     "data": {
      "text/plain": [
       "array([258, 107])"
      ]
     },
     "execution_count": 338,
     "metadata": {},
     "output_type": "execute_result"
    }
   ],
   "source": [
    "indexs"
   ]
  },
  {
   "cell_type": "code",
   "execution_count": 303,
   "id": "e82c4ca6",
   "metadata": {},
   "outputs": [
    {
     "data": {
      "text/plain": [
       "Index(['    最低', '    最高', 'label'], dtype='object')"
      ]
     },
     "execution_count": 303,
     "metadata": {},
     "output_type": "execute_result"
    }
   ],
   "source": [
    "data.columns"
   ]
  },
  {
   "cell_type": "code",
   "execution_count": 339,
   "id": "0cd8abd7",
   "metadata": {},
   "outputs": [],
   "source": [
    "centers = data.iloc[indexs,:]"
   ]
  },
  {
   "cell_type": "code",
   "execution_count": 305,
   "id": "8e977148",
   "metadata": {},
   "outputs": [],
   "source": [
    "# centers = centers.iloc[:,[0,1]]"
   ]
  },
  {
   "cell_type": "code",
   "execution_count": 340,
   "id": "a75ecf4a",
   "metadata": {},
   "outputs": [
    {
     "data": {
      "text/html": [
       "<div>\n",
       "<style scoped>\n",
       "    .dataframe tbody tr th:only-of-type {\n",
       "        vertical-align: middle;\n",
       "    }\n",
       "\n",
       "    .dataframe tbody tr th {\n",
       "        vertical-align: top;\n",
       "    }\n",
       "\n",
       "    .dataframe thead th {\n",
       "        text-align: right;\n",
       "    }\n",
       "</style>\n",
       "<table border=\"1\" class=\"dataframe\">\n",
       "  <thead>\n",
       "    <tr style=\"text-align: right;\">\n",
       "      <th></th>\n",
       "      <th>最低</th>\n",
       "      <th>最高</th>\n",
       "      <th>label</th>\n",
       "    </tr>\n",
       "  </thead>\n",
       "  <tbody>\n",
       "    <tr>\n",
       "      <th>258</th>\n",
       "      <td>23.33</td>\n",
       "      <td>23.88</td>\n",
       "      <td>1</td>\n",
       "    </tr>\n",
       "    <tr>\n",
       "      <th>107</th>\n",
       "      <td>16.70</td>\n",
       "      <td>17.16</td>\n",
       "      <td>0</td>\n",
       "    </tr>\n",
       "  </tbody>\n",
       "</table>\n",
       "</div>"
      ],
      "text/plain": [
       "         最低      最高  label\n",
       "258   23.33   23.88      1\n",
       "107   16.70   17.16      0"
      ]
     },
     "execution_count": 340,
     "metadata": {},
     "output_type": "execute_result"
    }
   ],
   "source": [
    "centers"
   ]
  },
  {
   "cell_type": "code",
   "execution_count": 376,
   "id": "e4cbae3c",
   "metadata": {},
   "outputs": [
    {
     "data": {
      "text/plain": [
       "array([[16.7 , 17.16],\n",
       "       [23.33, 23.88]])"
      ]
     },
     "execution_count": 376,
     "metadata": {},
     "output_type": "execute_result"
    }
   ],
   "source": [
    "np.array([centers[centers.iloc[:,-1]==i] for i in range(X.iloc[-1].nunique()) if i in centers.iloc[:,-1].tolist()]).reshape(2,3)[:,:2]"
   ]
  },
  {
   "cell_type": "code",
   "execution_count": 358,
   "id": "8784fd2d",
   "metadata": {},
   "outputs": [
    {
     "name": "stdout",
     "output_type": "stream",
     "text": [
      "[[16.7  17.16  0.  ]]\n",
      "[[23.33 23.88  1.  ]]\n"
     ]
    }
   ],
   "source": [
    "for i in np.array([centers[centers.iloc[:,-1]==i] for i in range(X.iloc[-1].nunique()) if i in centers.iloc[:,-1].tolist()]):\n",
    "    print(i)"
   ]
  },
  {
   "cell_type": "code",
   "execution_count": 332,
   "id": "c6be12b0",
   "metadata": {},
   "outputs": [
    {
     "ename": "TypeError",
     "evalue": "'int' object is not subscriptable",
     "output_type": "error",
     "traceback": [
      "\u001b[0;31m---------------------------------------------------------------------------\u001b[0m",
      "\u001b[0;31mTypeError\u001b[0m                                 Traceback (most recent call last)",
      "\u001b[0;32m/var/folders/l_/mgw1wg3d2s7dfjn12nnskp240000gn/T/ipykernel_7057/3607611423.py\u001b[0m in \u001b[0;36m<module>\u001b[0;34m\u001b[0m\n\u001b[1;32m      1\u001b[0m \u001b[0;32mfor\u001b[0m \u001b[0mi\u001b[0m \u001b[0;32min\u001b[0m \u001b[0mrange\u001b[0m\u001b[0;34m(\u001b[0m\u001b[0;36m2\u001b[0m\u001b[0;34m)\u001b[0m\u001b[0;34m:\u001b[0m\u001b[0;34m\u001b[0m\u001b[0;34m\u001b[0m\u001b[0m\n\u001b[0;32m----> 2\u001b[0;31m     \u001b[0mprint\u001b[0m\u001b[0;34m(\u001b[0m\u001b[0mi\u001b[0m\u001b[0;34m[\u001b[0m\u001b[0;34m:\u001b[0m\u001b[0;36m2\u001b[0m\u001b[0;34m]\u001b[0m\u001b[0;34m)\u001b[0m\u001b[0;34m\u001b[0m\u001b[0;34m\u001b[0m\u001b[0m\n\u001b[0m",
      "\u001b[0;31mTypeError\u001b[0m: 'int' object is not subscriptable"
     ]
    }
   ],
   "source": [
    "for i in range(2):\n",
    "    print(i[:2])"
   ]
  },
  {
   "cell_type": "code",
   "execution_count": 379,
   "id": "46957c57",
   "metadata": {},
   "outputs": [
    {
     "data": {
      "text/plain": [
       "[         最低      最高  label\n",
       " 107    16.7   17.16      0]"
      ]
     },
     "execution_count": 379,
     "metadata": {},
     "output_type": "execute_result"
    }
   ],
   "source": [
    "[centers[centers.iloc[:,-1]==i] for i in range(X.iloc[-1].nunique()) if i in centers.iloc[-1].tolist()]"
   ]
  },
  {
   "cell_type": "code",
   "execution_count": 498,
   "id": "9e19d810",
   "metadata": {},
   "outputs": [],
   "source": [
    "# 计算评估指标\n",
    "def evaluation(centers,X): # centers,X为dataframe\n",
    "    feature = []\n",
    "    for i in range(X.iloc[-1].nunique()):\n",
    "        feature.append(X[X.iloc[:,-1]==i].iloc[:,[0,1]])\n",
    "    centers = [centers[centers.iloc[:,-1]==i] for i in range(X.iloc[-1].nunique()) if i in centers.iloc[:,-1].tolist()]\n",
    "    E_in_list = [np.sum(distance(center[0][:2],np.array(x)))/len(x) for center,x in zip(np.array(centers),feature)]\n",
    "    E_in = np.sum(np.array(E_in_list))\n",
    "    E_out = np.sum(distance(np.array(centers).reshape(-1,3)[:,:2],np.array(centers).mean(axis=0)[0][:2]))/np.array(centers).shape[0]\n",
    "    return E_in/E_out"
   ]
  },
  {
   "cell_type": "code",
   "execution_count": 499,
   "id": "95aa03bd",
   "metadata": {},
   "outputs": [
    {
     "data": {
      "text/plain": [
       "0.12932139718004243"
      ]
     },
     "execution_count": 499,
     "metadata": {},
     "output_type": "execute_result"
    }
   ],
   "source": [
    "evaluation(centers,X)"
   ]
  },
  {
   "cell_type": "code",
   "execution_count": 307,
   "id": "e41f5992",
   "metadata": {},
   "outputs": [],
   "source": [
    "index = data.index.tolist()\n",
    "for i in indexs:\n",
    "    index.remove(i)\n",
    "X = data.iloc[index,:]"
   ]
  },
  {
   "cell_type": "code",
   "execution_count": 308,
   "id": "e3a02389",
   "metadata": {},
   "outputs": [
    {
     "data": {
      "text/html": [
       "<div>\n",
       "<style scoped>\n",
       "    .dataframe tbody tr th:only-of-type {\n",
       "        vertical-align: middle;\n",
       "    }\n",
       "\n",
       "    .dataframe tbody tr th {\n",
       "        vertical-align: top;\n",
       "    }\n",
       "\n",
       "    .dataframe thead th {\n",
       "        text-align: right;\n",
       "    }\n",
       "</style>\n",
       "<table border=\"1\" class=\"dataframe\">\n",
       "  <thead>\n",
       "    <tr style=\"text-align: right;\">\n",
       "      <th></th>\n",
       "      <th>最低</th>\n",
       "      <th>最高</th>\n",
       "      <th>label</th>\n",
       "    </tr>\n",
       "  </thead>\n",
       "  <tbody>\n",
       "    <tr>\n",
       "      <th>0</th>\n",
       "      <td>20.24</td>\n",
       "      <td>20.66</td>\n",
       "      <td>0</td>\n",
       "    </tr>\n",
       "    <tr>\n",
       "      <th>1</th>\n",
       "      <td>20.00</td>\n",
       "      <td>20.38</td>\n",
       "      <td>0</td>\n",
       "    </tr>\n",
       "    <tr>\n",
       "      <th>2</th>\n",
       "      <td>18.43</td>\n",
       "      <td>19.99</td>\n",
       "      <td>0</td>\n",
       "    </tr>\n",
       "    <tr>\n",
       "      <th>3</th>\n",
       "      <td>17.60</td>\n",
       "      <td>18.99</td>\n",
       "      <td>0</td>\n",
       "    </tr>\n",
       "    <tr>\n",
       "      <th>4</th>\n",
       "      <td>17.68</td>\n",
       "      <td>18.07</td>\n",
       "      <td>0</td>\n",
       "    </tr>\n",
       "    <tr>\n",
       "      <th>...</th>\n",
       "      <td>...</td>\n",
       "      <td>...</td>\n",
       "      <td>...</td>\n",
       "    </tr>\n",
       "    <tr>\n",
       "      <th>275</th>\n",
       "      <td>20.35</td>\n",
       "      <td>20.78</td>\n",
       "      <td>1</td>\n",
       "    </tr>\n",
       "    <tr>\n",
       "      <th>276</th>\n",
       "      <td>20.68</td>\n",
       "      <td>21.00</td>\n",
       "      <td>1</td>\n",
       "    </tr>\n",
       "    <tr>\n",
       "      <th>277</th>\n",
       "      <td>20.60</td>\n",
       "      <td>20.89</td>\n",
       "      <td>1</td>\n",
       "    </tr>\n",
       "    <tr>\n",
       "      <th>278</th>\n",
       "      <td>20.49</td>\n",
       "      <td>20.90</td>\n",
       "      <td>1</td>\n",
       "    </tr>\n",
       "    <tr>\n",
       "      <th>279</th>\n",
       "      <td>17.66</td>\n",
       "      <td>17.66</td>\n",
       "      <td>1</td>\n",
       "    </tr>\n",
       "  </tbody>\n",
       "</table>\n",
       "<p>278 rows × 3 columns</p>\n",
       "</div>"
      ],
      "text/plain": [
       "         最低      最高  label\n",
       "0     20.24   20.66      0\n",
       "1     20.00   20.38      0\n",
       "2     18.43   19.99      0\n",
       "3     17.60   18.99      0\n",
       "4     17.68   18.07      0\n",
       "..      ...     ...    ...\n",
       "275   20.35   20.78      1\n",
       "276   20.68   21.00      1\n",
       "277   20.60   20.89      1\n",
       "278   20.49   20.90      1\n",
       "279   17.66   17.66      1\n",
       "\n",
       "[278 rows x 3 columns]"
      ]
     },
     "execution_count": 308,
     "metadata": {},
     "output_type": "execute_result"
    }
   ],
   "source": [
    "X"
   ]
  },
  {
   "cell_type": "code",
   "execution_count": 270,
   "id": "6a001771",
   "metadata": {},
   "outputs": [
    {
     "data": {
      "text/plain": [
       "Int64Index([0, 1], dtype='int64')"
      ]
     },
     "execution_count": 270,
     "metadata": {},
     "output_type": "execute_result"
    }
   ],
   "source": [
    "# X.iloc[:,-1].value_counts().index"
   ]
  },
  {
   "cell_type": "code",
   "execution_count": 281,
   "id": "cb4702ee",
   "metadata": {},
   "outputs": [
    {
     "data": {
      "text/plain": [
       "2"
      ]
     },
     "execution_count": 281,
     "metadata": {},
     "output_type": "execute_result"
    }
   ],
   "source": [
    "# X.iloc[-1].nunique()"
   ]
  },
  {
   "cell_type": "code",
   "execution_count": 282,
   "id": "ff06c9f2",
   "metadata": {},
   "outputs": [],
   "source": [
    "feature = []"
   ]
  },
  {
   "cell_type": "code",
   "execution_count": 283,
   "id": "afeb610a",
   "metadata": {},
   "outputs": [],
   "source": [
    "for i in range(X.iloc[-1].nunique()):\n",
    "    feature.append(X[X.iloc[:,-1]==i].iloc[:,[0,1]])"
   ]
  },
  {
   "cell_type": "code",
   "execution_count": 318,
   "id": "17f5ea23",
   "metadata": {},
   "outputs": [
    {
     "data": {
      "text/plain": [
       "(2, 139, 2)"
      ]
     },
     "execution_count": 318,
     "metadata": {},
     "output_type": "execute_result"
    }
   ],
   "source": [
    "np.array(feature).shape"
   ]
  },
  {
   "cell_type": "code",
   "execution_count": 319,
   "id": "19d5f0b1",
   "metadata": {},
   "outputs": [
    {
     "name": "stdout",
     "output_type": "stream",
     "text": [
      "(139, 2)\n"
     ]
    }
   ],
   "source": [
    "for i in np.array(feature):\n",
    "    print(i.shape)\n",
    "    break"
   ]
  },
  {
   "cell_type": "code",
   "execution_count": 294,
   "id": "723d9898",
   "metadata": {},
   "outputs": [
    {
     "name": "stdout",
     "output_type": "stream",
     "text": [
      "[[18.9  19.98  0.  ]]\n"
     ]
    }
   ],
   "source": [
    "for i in centers:\n",
    "    print(np.array(i)[:2])\n",
    "    break"
   ]
  },
  {
   "cell_type": "code",
   "execution_count": 286,
   "id": "256391b3",
   "metadata": {},
   "outputs": [],
   "source": [
    "centers = [centers[centers.iloc[:,-1]==i] for i in range(X.iloc[-1].nunique())]"
   ]
  },
  {
   "cell_type": "code",
   "execution_count": 287,
   "id": "c15dfa47",
   "metadata": {},
   "outputs": [
    {
     "data": {
      "text/plain": [
       "[        最低      最高  label\n",
       " 13    18.9   19.98      0,\n",
       "          最低      最高  label\n",
       " 235   23.65   24.72      1]"
      ]
     },
     "execution_count": 287,
     "metadata": {},
     "output_type": "execute_result"
    }
   ],
   "source": [
    "centers"
   ]
  },
  {
   "cell_type": "code",
   "execution_count": 297,
   "id": "90ce8d3b",
   "metadata": {},
   "outputs": [
    {
     "data": {
      "text/plain": [
       "array([[21.275, 22.35 ,  0.5  ]])"
      ]
     },
     "execution_count": 297,
     "metadata": {},
     "output_type": "execute_result"
    }
   ],
   "source": [
    "np.array(centers).mean(axis=0)"
   ]
  },
  {
   "cell_type": "code",
   "execution_count": null,
   "id": "8d6e7742",
   "metadata": {},
   "outputs": [],
   "source": []
  },
  {
   "cell_type": "code",
   "execution_count": 472,
   "id": "0b8fa906",
   "metadata": {},
   "outputs": [],
   "source": [
    "# 计算样本到聚类中心的距离并分离样本\n",
    "def Dis(centers,X):\n",
    "    label = []\n",
    "    p_pre = []\n",
    "    for i,x in X.iterrows():\n",
    "        x_l = []\n",
    "        for i,center in centers.iterrows():\n",
    "            x_l.append(distance(center[:2],x[:2]))\n",
    "        label.append(centers.iloc[:,-1].tolist()[x_l.index(min(x_l))])\n",
    "        p_pre.append((x.values,min(x_l),centers.iloc[:,-1].tolist()[x_l.index(min(x_l))]))\n",
    "    return label,p_pre"
   ]
  },
  {
   "cell_type": "code",
   "execution_count": 207,
   "id": "bf33b08d",
   "metadata": {},
   "outputs": [],
   "source": [
    "label,p_pre = Dis(centers,X)"
   ]
  },
  {
   "cell_type": "code",
   "execution_count": 208,
   "id": "7ec96a88",
   "metadata": {},
   "outputs": [
    {
     "data": {
      "text/plain": [
       "0    155\n",
       "1    123\n",
       "dtype: int64"
      ]
     },
     "execution_count": 208,
     "metadata": {},
     "output_type": "execute_result"
    }
   ],
   "source": [
    "pd.Series(label).value_counts()"
   ]
  },
  {
   "cell_type": "code",
   "execution_count": 198,
   "id": "7bb8c71c",
   "metadata": {
    "collapsed": true
   },
   "outputs": [
    {
     "data": {
      "text/plain": [
       "[(array([20.24, 20.66,  0.  ]), 1),\n",
       " (array([20.  , 20.38,  0.  ]), 1),\n",
       " (array([18.43, 19.99,  0.  ]), 1),\n",
       " (array([17.6 , 18.99,  0.  ]), 1),\n",
       " (array([17.68, 18.07,  0.  ]), 1),\n",
       " (array([17.78, 18.24,  0.  ]), 1),\n",
       " (array([17.24, 18.05,  0.  ]), 1),\n",
       " (array([17.18, 18.14,  0.  ]), 1),\n",
       " (array([17.66, 18.15,  0.  ]), 1),\n",
       " (array([17.6 , 18.07,  0.  ]), 1),\n",
       " (array([17.58, 18.05,  0.  ]), 1),\n",
       " (array([17.45, 17.9 ,  0.  ]), 1),\n",
       " (array([17.84, 19.25,  0.  ]), 1),\n",
       " (array([18.9 , 19.98,  0.  ]), 1),\n",
       " (array([19.7 , 20.58,  0.  ]), 1),\n",
       " (array([19.63, 20.3 ,  0.  ]), 1),\n",
       " (array([19.5 , 19.92,  0.  ]), 1),\n",
       " (array([19.57, 20.2 ,  0.  ]), 1),\n",
       " (array([19.61, 20.22,  0.  ]), 1),\n",
       " (array([19.55, 21.2 ,  0.  ]), 1),\n",
       " (array([20.02, 20.62,  0.  ]), 1),\n",
       " (array([18.7 , 20.07,  0.  ]), 1),\n",
       " (array([19.11, 20.05,  0.  ]), 1),\n",
       " (array([19.21, 19.97,  0.  ]), 1),\n",
       " (array([18.95, 19.47,  0.  ]), 1),\n",
       " (array([18.41, 19.26,  0.  ]), 1),\n",
       " (array([18.31, 18.88,  0.  ]), 1),\n",
       " (array([17.55, 18.29,  0.  ]), 1),\n",
       " (array([17.31, 17.93,  0.  ]), 1),\n",
       " (array([17.01, 17.92,  0.  ]), 1),\n",
       " (array([17.8 , 18.78,  0.  ]), 1),\n",
       " (array([17.7, 18.5,  0. ]), 1),\n",
       " (array([17.78, 18.6 ,  0.  ]), 1),\n",
       " (array([18.35, 19.56,  0.  ]), 1),\n",
       " (array([19.1 , 19.55,  0.  ]), 1),\n",
       " (array([18.8 , 19.15,  0.  ]), 1),\n",
       " (array([18.84, 20.77,  0.  ]), 1),\n",
       " (array([19.81, 20.51,  0.  ]), 1),\n",
       " (array([19.27, 20.27,  0.  ]), 1),\n",
       " (array([19.19, 20.99,  0.  ]), 1),\n",
       " (array([18.73, 19.5 ,  0.  ]), 1),\n",
       " (array([18.41, 19.  ,  0.  ]), 1),\n",
       " (array([17.42, 18.05,  0.  ]), 1),\n",
       " (array([17.65, 18.32,  0.  ]), 1),\n",
       " (array([17.34, 17.68,  0.  ]), 1),\n",
       " (array([17.06, 17.68,  0.  ]), 1),\n",
       " (array([17.45, 18.17,  0.  ]), 1),\n",
       " (array([17.71, 18.44,  0.  ]), 1),\n",
       " (array([17.71, 18.2 ,  0.  ]), 1),\n",
       " (array([18.02, 18.89,  0.  ]), 1),\n",
       " (array([19.  , 19.74,  0.  ]), 1),\n",
       " (array([19.2 , 19.71,  0.  ]), 1),\n",
       " (array([19.17, 19.91,  0.  ]), 1),\n",
       " (array([18.89, 19.92,  0.  ]), 1),\n",
       " (array([19. , 19.9,  0. ]), 1),\n",
       " (array([19.1 , 19.55,  0.  ]), 1),\n",
       " (array([19.15, 19.68,  0.  ]), 1),\n",
       " (array([19.19, 19.78,  0.  ]), 1),\n",
       " (array([19.25, 20.06,  0.  ]), 1),\n",
       " (array([19.8 , 20.59,  0.  ]), 1),\n",
       " (array([19.5, 20.2,  0. ]), 1),\n",
       " (array([19.86, 20.45,  0.  ]), 1),\n",
       " (array([19.59, 20.17,  0.  ]), 1),\n",
       " (array([19.37, 19.94,  0.  ]), 1),\n",
       " (array([19.32, 19.74,  0.  ]), 1),\n",
       " (array([19.01, 19.73,  0.  ]), 1),\n",
       " (array([17.99, 19.49,  0.  ]), 1),\n",
       " (array([17.8, 18.1,  0. ]), 1),\n",
       " (array([17.57, 18.  ,  0.  ]), 1),\n",
       " (array([17.36, 17.81,  0.  ]), 1),\n",
       " (array([17.26, 17.65,  0.  ]), 1),\n",
       " (array([17.16, 17.47,  0.  ]), 1),\n",
       " (array([17.32, 18.43,  0.  ]), 1),\n",
       " (array([18.11, 18.63,  0.  ]), 1),\n",
       " (array([18.2 , 18.63,  0.  ]), 1),\n",
       " (array([18.17, 18.54,  0.  ]), 1),\n",
       " (array([17.98, 18.3 ,  0.  ]), 1),\n",
       " (array([17.73, 18.12,  0.  ]), 1),\n",
       " (array([17.7 , 18.24,  0.  ]), 1),\n",
       " (array([17.9 , 18.25,  0.  ]), 1),\n",
       " (array([17.68, 18.35,  0.  ]), 1),\n",
       " (array([17.66, 17.95,  0.  ]), 1),\n",
       " (array([17.63, 17.79,  0.  ]), 1),\n",
       " (array([17.52, 17.67,  0.  ]), 1),\n",
       " (array([17.36, 17.57,  0.  ]), 1),\n",
       " (array([17.35, 17.68,  0.  ]), 1),\n",
       " (array([17.37, 17.77,  0.  ]), 1),\n",
       " (array([17.37, 17.81,  0.  ]), 1),\n",
       " (array([17.41, 17.7 ,  0.  ]), 1),\n",
       " (array([17.8 , 18.56,  0.  ]), 1),\n",
       " (array([18.15, 18.67,  0.  ]), 1),\n",
       " (array([18.16, 18.55,  0.  ]), 1),\n",
       " (array([18.37, 19.06,  0.  ]), 1),\n",
       " (array([18.27, 18.7 ,  0.  ]), 1),\n",
       " (array([18.18, 18.88,  0.  ]), 1),\n",
       " (array([17.52, 18.17,  0.  ]), 1),\n",
       " (array([17.4 , 17.66,  0.  ]), 1),\n",
       " (array([17.46, 17.73,  0.  ]), 1),\n",
       " (array([17.57, 17.75,  0.  ]), 1),\n",
       " (array([17.45, 17.65,  0.  ]), 1),\n",
       " (array([17.48, 17.71,  0.  ]), 1),\n",
       " (array([17.3 , 17.64,  0.  ]), 1),\n",
       " (array([17.21, 17.43,  0.  ]), 1),\n",
       " (array([17.21, 17.35,  0.  ]), 1),\n",
       " (array([17.16, 17.35,  0.  ]), 1),\n",
       " (array([17.09, 17.33,  0.  ]), 1),\n",
       " (array([16.7 , 17.16,  0.  ]), 1),\n",
       " (array([16.72, 16.95,  0.  ]), 1),\n",
       " (array([16.4, 16.9,  0. ]), 1),\n",
       " (array([16.18, 16.66,  0.  ]), 1),\n",
       " (array([16.55, 17.22,  0.  ]), 1),\n",
       " (array([17.  , 17.27,  0.  ]), 1),\n",
       " (array([17.06, 17.28,  0.  ]), 1),\n",
       " (array([17.03, 17.42,  0.  ]), 1),\n",
       " (array([17.14, 17.54,  0.  ]), 1),\n",
       " (array([16.9 , 17.45,  0.  ]), 1),\n",
       " (array([16.82, 17.24,  0.  ]), 1),\n",
       " (array([16.3 , 17.02,  0.  ]), 1),\n",
       " (array([16.12, 16.48,  0.  ]), 1),\n",
       " (array([16.16, 16.54,  0.  ]), 1),\n",
       " (array([16.36, 16.69,  0.  ]), 1),\n",
       " (array([16.42, 17.46,  0.  ]), 1),\n",
       " (array([17.21, 17.56,  0.  ]), 1),\n",
       " (array([16.98, 17.38,  0.  ]), 1),\n",
       " (array([16.81, 17.08,  0.  ]), 1),\n",
       " (array([16.54, 17.1 ,  0.  ]), 1),\n",
       " (array([16.25, 16.54,  0.  ]), 1),\n",
       " (array([15.82, 16.45,  0.  ]), 1),\n",
       " (array([15.89, 16.41,  0.  ]), 1),\n",
       " (array([16.26, 16.97,  0.  ]), 1),\n",
       " (array([16.71, 17.  ,  0.  ]), 1),\n",
       " (array([16.67, 17.03,  0.  ]), 1),\n",
       " (array([17.03, 17.34,  0.  ]), 1),\n",
       " (array([16.51, 17.15,  0.  ]), 1),\n",
       " (array([16.1 , 16.67,  0.  ]), 1),\n",
       " (array([16.21, 16.53,  0.  ]), 1),\n",
       " (array([16.32, 16.55,  0.  ]), 1),\n",
       " (array([16.31, 16.77,  0.  ]), 1),\n",
       " (array([16.28, 16.28,  0.  ]), 1),\n",
       " (array([25.71, 27.9 ,  1.  ]), 0),\n",
       " (array([27.33, 28.59,  1.  ]), 0),\n",
       " (array([26.33, 27.28,  1.  ]), 0),\n",
       " (array([25.05, 26.96,  1.  ]), 0),\n",
       " (array([24.52, 25.38,  1.  ]), 0),\n",
       " (array([25.01, 25.82,  1.  ]), 0),\n",
       " (array([24.6 , 25.25,  1.  ]), 0),\n",
       " (array([24.45, 27.3 ,  1.  ]), 0),\n",
       " (array([27.61, 29.73,  1.  ]), 0),\n",
       " (array([29.16, 30.93,  1.  ]), 0),\n",
       " (array([29.5, 30.8,  1. ]), 0),\n",
       " (array([29.63, 30.67,  1.  ]), 0),\n",
       " (array([29.56, 32.  ,  1.  ]), 0),\n",
       " (array([30.45, 31.79,  1.  ]), 0),\n",
       " (array([31.  , 33.07,  1.  ]), 0),\n",
       " (array([30.11, 31.49,  1.  ]), 0),\n",
       " (array([30.26, 31.15,  1.  ]), 0),\n",
       " (array([29.25, 30.9 ,  1.  ]), 0),\n",
       " (array([28.49, 29.85,  1.  ]), 0),\n",
       " (array([28.34, 29.32,  1.  ]), 0),\n",
       " (array([27.87, 28.76,  1.  ]), 0),\n",
       " (array([27.7, 28.6,  1. ]), 0),\n",
       " (array([27.83, 28.9 ,  1.  ]), 0),\n",
       " (array([27.95, 28.87,  1.  ]), 0),\n",
       " (array([26.8, 27.8,  1. ]), 0),\n",
       " (array([26.58, 27.2 ,  1.  ]), 0),\n",
       " (array([26.3, 27.6,  1. ]), 0),\n",
       " (array([25.51, 26.66,  1.  ]), 0),\n",
       " (array([25.83, 26.46,  1.  ]), 0),\n",
       " (array([25.65, 28.85,  1.  ]), 0),\n",
       " (array([27.94, 29.21,  1.  ]), 0),\n",
       " (array([27.65, 28.5 ,  1.  ]), 0),\n",
       " (array([28.1 , 29.93,  1.  ]), 0),\n",
       " (array([28.71, 29.19,  1.  ]), 0),\n",
       " (array([28.  , 28.97,  1.  ]), 0),\n",
       " (array([27.81, 28.75,  1.  ]), 0),\n",
       " (array([27.34, 28.27,  1.  ]), 0),\n",
       " (array([26.9 , 27.91,  1.  ]), 0),\n",
       " (array([26.3 , 26.86,  1.  ]), 0),\n",
       " (array([26.3 , 26.86,  1.  ]), 0),\n",
       " (array([26.13, 26.68,  1.  ]), 0),\n",
       " (array([25.53, 26.22,  1.  ]), 0),\n",
       " (array([25.93, 26.81,  1.  ]), 0),\n",
       " (array([25.8 , 26.22,  1.  ]), 0),\n",
       " (array([24.95, 25.8 ,  1.  ]), 0),\n",
       " (array([25.01, 25.65,  1.  ]), 0),\n",
       " (array([25. , 25.7,  1. ]), 0),\n",
       " (array([25.26, 25.75,  1.  ]), 0),\n",
       " (array([25.44, 26.29,  1.  ]), 0),\n",
       " (array([25.88, 26.38,  1.  ]), 0),\n",
       " (array([25.15, 25.9 ,  1.  ]), 0),\n",
       " (array([25.25, 25.58,  1.  ]), 0),\n",
       " (array([25.38, 25.76,  1.  ]), 0),\n",
       " (array([25.2 , 25.69,  1.  ]), 0),\n",
       " (array([24.56, 25.3 ,  1.  ]), 0),\n",
       " (array([24.61, 25.36,  1.  ]), 0),\n",
       " (array([24.7 , 25.24,  1.  ]), 0),\n",
       " (array([24.46, 24.85,  1.  ]), 0),\n",
       " (array([24.42, 25.5 ,  1.  ]), 0),\n",
       " (array([24.56, 24.98,  1.  ]), 0),\n",
       " (array([24.53, 25.09,  1.  ]), 0),\n",
       " (array([24.06, 24.74,  1.  ]), 0),\n",
       " (array([22.85, 24.03,  1.  ]), 0),\n",
       " (array([22.44, 23.45,  1.  ]), 0),\n",
       " (array([22.49, 23.3 ,  1.  ]), 0),\n",
       " (array([22.22, 23.16,  1.  ]), 0),\n",
       " (array([21.97, 22.58,  1.  ]), 0),\n",
       " (array([22.25, 22.77,  1.  ]), 0),\n",
       " (array([22.38, 23.2 ,  1.  ]), 0),\n",
       " (array([22.73, 23.26,  1.  ]), 0),\n",
       " (array([22.11, 22.68,  1.  ]), 0),\n",
       " (array([21.51, 22.1 ,  1.  ]), 1),\n",
       " (array([21.61, 22.56,  1.  ]), 0),\n",
       " (array([21.98, 22.39,  1.  ]), 0),\n",
       " (array([22.11, 22.45,  1.  ]), 0),\n",
       " (array([22.  , 22.44,  1.  ]), 0),\n",
       " (array([21.7 , 22.16,  1.  ]), 0),\n",
       " (array([21.7, 22. ,  1. ]), 0),\n",
       " (array([21.41, 22.  ,  1.  ]), 1),\n",
       " (array([21.83, 22.3 ,  1.  ]), 0),\n",
       " (array([21.92, 23.09,  1.  ]), 0),\n",
       " (array([22.45, 23.  ,  1.  ]), 0),\n",
       " (array([22.21, 22.89,  1.  ]), 0),\n",
       " (array([22.44, 22.94,  1.  ]), 0),\n",
       " (array([21.9 , 22.17,  1.  ]), 0),\n",
       " (array([21.88, 22.22,  1.  ]), 0),\n",
       " (array([21.81, 22.08,  1.  ]), 0),\n",
       " (array([21.75, 22.59,  1.  ]), 0),\n",
       " (array([22.06, 22.55,  1.  ]), 0),\n",
       " (array([22.44, 23.05,  1.  ]), 0),\n",
       " (array([22.91, 24.45,  1.  ]), 0),\n",
       " (array([23.46, 24.02,  1.  ]), 0),\n",
       " (array([23.51, 24.15,  1.  ]), 0),\n",
       " (array([23.14, 23.74,  1.  ]), 0),\n",
       " (array([23.65, 24.72,  1.  ]), 0),\n",
       " (array([23.62, 23.99,  1.  ]), 0),\n",
       " (array([23.6 , 23.93,  1.  ]), 0),\n",
       " (array([23.38, 23.9 ,  1.  ]), 0),\n",
       " (array([23.54, 24.28,  1.  ]), 0),\n",
       " (array([23.11, 23.5 ,  1.  ]), 0),\n",
       " (array([23.1 , 23.53,  1.  ]), 0),\n",
       " (array([23.13, 23.55,  1.  ]), 0),\n",
       " (array([22.84, 23.52,  1.  ]), 0),\n",
       " (array([23.28, 23.77,  1.  ]), 0),\n",
       " (array([23.19, 23.74,  1.  ]), 0),\n",
       " (array([23.58, 24.  ,  1.  ]), 0),\n",
       " (array([23.33, 23.86,  1.  ]), 0),\n",
       " (array([23.1, 23.3,  1. ]), 0),\n",
       " (array([22.72, 23.27,  1.  ]), 0),\n",
       " (array([22.52, 22.89,  1.  ]), 0),\n",
       " (array([22.66, 23.29,  1.  ]), 0),\n",
       " (array([22.86, 24.1 ,  1.  ]), 0),\n",
       " (array([23.75, 25.11,  1.  ]), 0),\n",
       " (array([24.41, 25.31,  1.  ]), 0),\n",
       " (array([24.42, 25.15,  1.  ]), 0),\n",
       " (array([24.02, 24.64,  1.  ]), 0),\n",
       " (array([23.87, 24.61,  1.  ]), 0),\n",
       " (array([23.33, 23.88,  1.  ]), 0),\n",
       " (array([23.09, 23.5 ,  1.  ]), 0),\n",
       " (array([23.08, 23.8 ,  1.  ]), 0),\n",
       " (array([23.68, 24.5 ,  1.  ]), 0),\n",
       " (array([23.73, 24.6 ,  1.  ]), 0),\n",
       " (array([23.1 , 24.07,  1.  ]), 0),\n",
       " (array([22.53, 23.18,  1.  ]), 0),\n",
       " (array([21.74, 22.85,  1.  ]), 0),\n",
       " (array([21.47, 22.14,  1.  ]), 1),\n",
       " (array([20.67, 21.87,  1.  ]), 1),\n",
       " (array([20.02, 20.92,  1.  ]), 1),\n",
       " (array([20.37, 20.84,  1.  ]), 1),\n",
       " (array([20.76, 21.38,  1.  ]), 1),\n",
       " (array([20.87, 21.25,  1.  ]), 1),\n",
       " (array([21.  , 21.34,  1.  ]), 1),\n",
       " (array([20.72, 21.26,  1.  ]), 1),\n",
       " (array([20.25, 20.86,  1.  ]), 1),\n",
       " (array([20.35, 20.78,  1.  ]), 1),\n",
       " (array([20.68, 21.  ,  1.  ]), 1),\n",
       " (array([20.6 , 20.89,  1.  ]), 1),\n",
       " (array([20.49, 20.9 ,  1.  ]), 1),\n",
       " (array([17.66, 17.66,  1.  ]), 1)]"
      ]
     },
     "execution_count": 198,
     "metadata": {},
     "output_type": "execute_result"
    }
   ],
   "source": [
    "p_pre"
   ]
  },
  {
   "cell_type": "code",
   "execution_count": 266,
   "id": "3389a270",
   "metadata": {},
   "outputs": [],
   "source": [
    "d = pd.DataFrame(p_pre)"
   ]
  },
  {
   "cell_type": "code",
   "execution_count": 267,
   "id": "f855cc3f",
   "metadata": {},
   "outputs": [
    {
     "data": {
      "text/html": [
       "<div>\n",
       "<style scoped>\n",
       "    .dataframe tbody tr th:only-of-type {\n",
       "        vertical-align: middle;\n",
       "    }\n",
       "\n",
       "    .dataframe tbody tr th {\n",
       "        vertical-align: top;\n",
       "    }\n",
       "\n",
       "    .dataframe thead th {\n",
       "        text-align: right;\n",
       "    }\n",
       "</style>\n",
       "<table border=\"1\" class=\"dataframe\">\n",
       "  <thead>\n",
       "    <tr style=\"text-align: right;\">\n",
       "      <th></th>\n",
       "      <th>0</th>\n",
       "      <th>1</th>\n",
       "      <th>2</th>\n",
       "    </tr>\n",
       "  </thead>\n",
       "  <tbody>\n",
       "    <tr>\n",
       "      <th>0</th>\n",
       "      <td>[20.24, 20.66, 0.0]</td>\n",
       "      <td>1.502664</td>\n",
       "      <td>0</td>\n",
       "    </tr>\n",
       "    <tr>\n",
       "      <th>1</th>\n",
       "      <td>[20.0, 20.38, 0.0]</td>\n",
       "      <td>1.170470</td>\n",
       "      <td>0</td>\n",
       "    </tr>\n",
       "    <tr>\n",
       "      <th>2</th>\n",
       "      <td>[18.43, 19.99, 0.0]</td>\n",
       "      <td>0.470106</td>\n",
       "      <td>0</td>\n",
       "    </tr>\n",
       "    <tr>\n",
       "      <th>3</th>\n",
       "      <td>[17.6, 18.99, 0.0]</td>\n",
       "      <td>1.634044</td>\n",
       "      <td>0</td>\n",
       "    </tr>\n",
       "    <tr>\n",
       "      <th>4</th>\n",
       "      <td>[17.68, 18.07, 0.0]</td>\n",
       "      <td>2.266385</td>\n",
       "      <td>0</td>\n",
       "    </tr>\n",
       "    <tr>\n",
       "      <th>...</th>\n",
       "      <td>...</td>\n",
       "      <td>...</td>\n",
       "      <td>...</td>\n",
       "    </tr>\n",
       "    <tr>\n",
       "      <th>273</th>\n",
       "      <td>[20.35, 20.78, 1.0]</td>\n",
       "      <td>1.656050</td>\n",
       "      <td>0</td>\n",
       "    </tr>\n",
       "    <tr>\n",
       "      <th>274</th>\n",
       "      <td>[20.68, 21.0, 1.0]</td>\n",
       "      <td>2.051536</td>\n",
       "      <td>0</td>\n",
       "    </tr>\n",
       "    <tr>\n",
       "      <th>275</th>\n",
       "      <td>[20.6, 20.89, 1.0]</td>\n",
       "      <td>1.928238</td>\n",
       "      <td>0</td>\n",
       "    </tr>\n",
       "    <tr>\n",
       "      <th>276</th>\n",
       "      <td>[20.49, 20.9, 1.0]</td>\n",
       "      <td>1.836981</td>\n",
       "      <td>0</td>\n",
       "    </tr>\n",
       "    <tr>\n",
       "      <th>277</th>\n",
       "      <td>[17.66, 17.66, 1.0]</td>\n",
       "      <td>2.630589</td>\n",
       "      <td>0</td>\n",
       "    </tr>\n",
       "  </tbody>\n",
       "</table>\n",
       "<p>278 rows × 3 columns</p>\n",
       "</div>"
      ],
      "text/plain": [
       "                       0         1  2\n",
       "0    [20.24, 20.66, 0.0]  1.502664  0\n",
       "1     [20.0, 20.38, 0.0]  1.170470  0\n",
       "2    [18.43, 19.99, 0.0]  0.470106  0\n",
       "3     [17.6, 18.99, 0.0]  1.634044  0\n",
       "4    [17.68, 18.07, 0.0]  2.266385  0\n",
       "..                   ...       ... ..\n",
       "273  [20.35, 20.78, 1.0]  1.656050  0\n",
       "274   [20.68, 21.0, 1.0]  2.051536  0\n",
       "275   [20.6, 20.89, 1.0]  1.928238  0\n",
       "276   [20.49, 20.9, 1.0]  1.836981  0\n",
       "277  [17.66, 17.66, 1.0]  2.630589  0\n",
       "\n",
       "[278 rows x 3 columns]"
      ]
     },
     "execution_count": 267,
     "metadata": {},
     "output_type": "execute_result"
    }
   ],
   "source": [
    "d"
   ]
  },
  {
   "cell_type": "code",
   "execution_count": 509,
   "id": "66d5e955",
   "metadata": {},
   "outputs": [],
   "source": [
    "# 按概率选择\n",
    "def random_pick(some_list, probabilities): \n",
    "    x = np.random.uniform(0,1) \n",
    "    cumulative_probability = 0.0 \n",
    "    for item, item_probability in zip(some_list, probabilities): \n",
    "        cumulative_probability += item_probability \n",
    "        if x < cumulative_probability:\n",
    "            break \n",
    "    return item"
   ]
  },
  {
   "cell_type": "code",
   "execution_count": 510,
   "id": "6f5dc68c",
   "metadata": {},
   "outputs": [],
   "source": [
    "# 选择新的聚类点\n",
    "def choosecenter(p_pre):\n",
    "    # 按概率选择\n",
    "    def random_pick(some_list, probabilities): \n",
    "        x = np.random.uniform(0,1) \n",
    "        cumulative_probability = 0.0 \n",
    "        for items, item_probability in zip(some_list, probabilities): \n",
    "            cumulative_probability += item_probability \n",
    "            if x < cumulative_probability:\n",
    "                break \n",
    "        return items\n",
    "    data = pd.DataFrame(p_pre)\n",
    "    P_l = []\n",
    "    newcenter = []\n",
    "    for i in range(data[2].nunique()):\n",
    "        P_l.append((data[data[2]==i][1]/data[data[2]==i][1].sum()))\n",
    "    for i in P_l:\n",
    "        newcenter.append((random_pick(i.index.tolist(),i.values.tolist()),data.iloc[random_pick(i.index.tolist(),i.values.tolist()),0]))\n",
    "    return newcenter"
   ]
  },
  {
   "cell_type": "code",
   "execution_count": 454,
   "id": "1d9d7b65",
   "metadata": {},
   "outputs": [],
   "source": [
    "a = choosecenter(p_pre)"
   ]
  },
  {
   "cell_type": "code",
   "execution_count": 455,
   "id": "eea0cbc6",
   "metadata": {},
   "outputs": [
    {
     "data": {
      "text/plain": [
       "[(99, array([17.14, 17.54,  0.  ])), (202, array([22.85, 24.03,  1.  ]))]"
      ]
     },
     "execution_count": 455,
     "metadata": {},
     "output_type": "execute_result"
    }
   ],
   "source": [
    "a"
   ]
  },
  {
   "cell_type": "code",
   "execution_count": 414,
   "id": "cc63ed01",
   "metadata": {},
   "outputs": [
    {
     "ename": "ValueError",
     "evalue": "Shape of passed values is (2, 1), indices imply (2, 3)",
     "output_type": "error",
     "traceback": [
      "\u001b[0;31m---------------------------------------------------------------------------\u001b[0m",
      "\u001b[0;31mValueError\u001b[0m                                Traceback (most recent call last)",
      "\u001b[0;32m/var/folders/l_/mgw1wg3d2s7dfjn12nnskp240000gn/T/ipykernel_7057/2791680263.py\u001b[0m in \u001b[0;36m<module>\u001b[0;34m\u001b[0m\n\u001b[0;32m----> 1\u001b[0;31m \u001b[0mpd\u001b[0m\u001b[0;34m.\u001b[0m\u001b[0mDataFrame\u001b[0m\u001b[0;34m(\u001b[0m\u001b[0mnp\u001b[0m\u001b[0;34m.\u001b[0m\u001b[0marray\u001b[0m\u001b[0;34m(\u001b[0m\u001b[0mpd\u001b[0m\u001b[0;34m.\u001b[0m\u001b[0mDataFrame\u001b[0m\u001b[0;34m(\u001b[0m\u001b[0ma\u001b[0m\u001b[0;34m)\u001b[0m\u001b[0;34m[\u001b[0m\u001b[0;36m1\u001b[0m\u001b[0;34m]\u001b[0m\u001b[0;34m)\u001b[0m\u001b[0;34m,\u001b[0m\u001b[0mcolumns\u001b[0m\u001b[0;34m=\u001b[0m\u001b[0;34m[\u001b[0m\u001b[0;34m'最低'\u001b[0m\u001b[0;34m,\u001b[0m\u001b[0;34m'最高'\u001b[0m\u001b[0;34m,\u001b[0m\u001b[0;34m'label'\u001b[0m\u001b[0;34m]\u001b[0m\u001b[0;34m)\u001b[0m\u001b[0;34m\u001b[0m\u001b[0;34m\u001b[0m\u001b[0m\n\u001b[0m",
      "\u001b[0;32m~/opt/anaconda3/lib/python3.7/site-packages/pandas/core/frame.py\u001b[0m in \u001b[0;36m__init__\u001b[0;34m(self, data, index, columns, dtype, copy)\u001b[0m\n\u001b[1;32m    676\u001b[0m                     \u001b[0mdtype\u001b[0m\u001b[0;34m=\u001b[0m\u001b[0mdtype\u001b[0m\u001b[0;34m,\u001b[0m\u001b[0;34m\u001b[0m\u001b[0;34m\u001b[0m\u001b[0m\n\u001b[1;32m    677\u001b[0m                     \u001b[0mcopy\u001b[0m\u001b[0;34m=\u001b[0m\u001b[0mcopy\u001b[0m\u001b[0;34m,\u001b[0m\u001b[0;34m\u001b[0m\u001b[0;34m\u001b[0m\u001b[0m\n\u001b[0;32m--> 678\u001b[0;31m                     \u001b[0mtyp\u001b[0m\u001b[0;34m=\u001b[0m\u001b[0mmanager\u001b[0m\u001b[0;34m,\u001b[0m\u001b[0;34m\u001b[0m\u001b[0;34m\u001b[0m\u001b[0m\n\u001b[0m\u001b[1;32m    679\u001b[0m                 )\n\u001b[1;32m    680\u001b[0m \u001b[0;34m\u001b[0m\u001b[0m\n",
      "\u001b[0;32m~/opt/anaconda3/lib/python3.7/site-packages/pandas/core/internals/construction.py\u001b[0m in \u001b[0;36mndarray_to_mgr\u001b[0;34m(values, index, columns, dtype, copy, typ)\u001b[0m\n\u001b[1;32m    322\u001b[0m     )\n\u001b[1;32m    323\u001b[0m \u001b[0;34m\u001b[0m\u001b[0m\n\u001b[0;32m--> 324\u001b[0;31m     \u001b[0m_check_values_indices_shape_match\u001b[0m\u001b[0;34m(\u001b[0m\u001b[0mvalues\u001b[0m\u001b[0;34m,\u001b[0m \u001b[0mindex\u001b[0m\u001b[0;34m,\u001b[0m \u001b[0mcolumns\u001b[0m\u001b[0;34m)\u001b[0m\u001b[0;34m\u001b[0m\u001b[0;34m\u001b[0m\u001b[0m\n\u001b[0m\u001b[1;32m    325\u001b[0m \u001b[0;34m\u001b[0m\u001b[0m\n\u001b[1;32m    326\u001b[0m     \u001b[0;32mif\u001b[0m \u001b[0mtyp\u001b[0m \u001b[0;34m==\u001b[0m \u001b[0;34m\"array\"\u001b[0m\u001b[0;34m:\u001b[0m\u001b[0;34m\u001b[0m\u001b[0;34m\u001b[0m\u001b[0m\n",
      "\u001b[0;32m~/opt/anaconda3/lib/python3.7/site-packages/pandas/core/internals/construction.py\u001b[0m in \u001b[0;36m_check_values_indices_shape_match\u001b[0;34m(values, index, columns)\u001b[0m\n\u001b[1;32m    391\u001b[0m         \u001b[0mpassed\u001b[0m \u001b[0;34m=\u001b[0m \u001b[0mvalues\u001b[0m\u001b[0;34m.\u001b[0m\u001b[0mshape\u001b[0m\u001b[0;34m\u001b[0m\u001b[0;34m\u001b[0m\u001b[0m\n\u001b[1;32m    392\u001b[0m         \u001b[0mimplied\u001b[0m \u001b[0;34m=\u001b[0m \u001b[0;34m(\u001b[0m\u001b[0mlen\u001b[0m\u001b[0;34m(\u001b[0m\u001b[0mindex\u001b[0m\u001b[0;34m)\u001b[0m\u001b[0;34m,\u001b[0m \u001b[0mlen\u001b[0m\u001b[0;34m(\u001b[0m\u001b[0mcolumns\u001b[0m\u001b[0;34m)\u001b[0m\u001b[0;34m)\u001b[0m\u001b[0;34m\u001b[0m\u001b[0;34m\u001b[0m\u001b[0m\n\u001b[0;32m--> 393\u001b[0;31m         \u001b[0;32mraise\u001b[0m \u001b[0mValueError\u001b[0m\u001b[0;34m(\u001b[0m\u001b[0;34mf\"Shape of passed values is {passed}, indices imply {implied}\"\u001b[0m\u001b[0;34m)\u001b[0m\u001b[0;34m\u001b[0m\u001b[0;34m\u001b[0m\u001b[0m\n\u001b[0m\u001b[1;32m    394\u001b[0m \u001b[0;34m\u001b[0m\u001b[0m\n\u001b[1;32m    395\u001b[0m \u001b[0;34m\u001b[0m\u001b[0m\n",
      "\u001b[0;31mValueError\u001b[0m: Shape of passed values is (2, 1), indices imply (2, 3)"
     ]
    }
   ],
   "source": [
    "pd.DataFrame(np.array(pd.DataFrame(a)[1]),columns=['最低','最高','label'])"
   ]
  },
  {
   "cell_type": "code",
   "execution_count": 428,
   "id": "5d01f407",
   "metadata": {},
   "outputs": [
    {
     "data": {
      "text/plain": [
       "[43, 208]"
      ]
     },
     "execution_count": 428,
     "metadata": {},
     "output_type": "execute_result"
    }
   ],
   "source": [
    "pd.DataFrame(a)[0].tolist()"
   ]
  },
  {
   "cell_type": "code",
   "execution_count": 430,
   "id": "eb844516",
   "metadata": {},
   "outputs": [],
   "source": [
    "centers = pd.DataFrame(columns=['最低','最高','label'])"
   ]
  },
  {
   "cell_type": "code",
   "execution_count": 431,
   "id": "af450815",
   "metadata": {},
   "outputs": [
    {
     "data": {
      "text/html": [
       "<div>\n",
       "<style scoped>\n",
       "    .dataframe tbody tr th:only-of-type {\n",
       "        vertical-align: middle;\n",
       "    }\n",
       "\n",
       "    .dataframe tbody tr th {\n",
       "        vertical-align: top;\n",
       "    }\n",
       "\n",
       "    .dataframe thead th {\n",
       "        text-align: right;\n",
       "    }\n",
       "</style>\n",
       "<table border=\"1\" class=\"dataframe\">\n",
       "  <thead>\n",
       "    <tr style=\"text-align: right;\">\n",
       "      <th></th>\n",
       "      <th>最低</th>\n",
       "      <th>最高</th>\n",
       "      <th>label</th>\n",
       "    </tr>\n",
       "  </thead>\n",
       "  <tbody>\n",
       "  </tbody>\n",
       "</table>\n",
       "</div>"
      ],
      "text/plain": [
       "Empty DataFrame\n",
       "Columns: [最低, 最高, label]\n",
       "Index: []"
      ]
     },
     "execution_count": 431,
     "metadata": {},
     "output_type": "execute_result"
    }
   ],
   "source": [
    "centers"
   ]
  },
  {
   "cell_type": "code",
   "execution_count": 434,
   "id": "fed3d655",
   "metadata": {},
   "outputs": [],
   "source": [
    "for i,j in zip(pd.DataFrame(a)[0].tolist(),pd.DataFrame(a)[1].values):\n",
    "    centers.loc[i] = j"
   ]
  },
  {
   "cell_type": "code",
   "execution_count": 435,
   "id": "2940131d",
   "metadata": {},
   "outputs": [
    {
     "data": {
      "text/html": [
       "<div>\n",
       "<style scoped>\n",
       "    .dataframe tbody tr th:only-of-type {\n",
       "        vertical-align: middle;\n",
       "    }\n",
       "\n",
       "    .dataframe tbody tr th {\n",
       "        vertical-align: top;\n",
       "    }\n",
       "\n",
       "    .dataframe thead th {\n",
       "        text-align: right;\n",
       "    }\n",
       "</style>\n",
       "<table border=\"1\" class=\"dataframe\">\n",
       "  <thead>\n",
       "    <tr style=\"text-align: right;\">\n",
       "      <th></th>\n",
       "      <th>最低</th>\n",
       "      <th>最高</th>\n",
       "      <th>label</th>\n",
       "    </tr>\n",
       "  </thead>\n",
       "  <tbody>\n",
       "    <tr>\n",
       "      <th>43</th>\n",
       "      <td>16.25</td>\n",
       "      <td>16.54</td>\n",
       "      <td>0.0</td>\n",
       "    </tr>\n",
       "    <tr>\n",
       "      <th>208</th>\n",
       "      <td>25.71</td>\n",
       "      <td>27.90</td>\n",
       "      <td>1.0</td>\n",
       "    </tr>\n",
       "  </tbody>\n",
       "</table>\n",
       "</div>"
      ],
      "text/plain": [
       "        最低     最高  label\n",
       "43   16.25  16.54    0.0\n",
       "208  25.71  27.90    1.0"
      ]
     },
     "execution_count": 435,
     "metadata": {},
     "output_type": "execute_result"
    }
   ],
   "source": [
    "centers"
   ]
  },
  {
   "cell_type": "code",
   "execution_count": 433,
   "id": "662a5d90",
   "metadata": {},
   "outputs": [
    {
     "data": {
      "text/plain": [
       "array([16.25, 16.54,  0.  ])"
      ]
     },
     "execution_count": 433,
     "metadata": {},
     "output_type": "execute_result"
    }
   ],
   "source": [
    "pd.DataFrame(a)[1].values[0]"
   ]
  },
  {
   "cell_type": "code",
   "execution_count": 513,
   "id": "fcd006af",
   "metadata": {},
   "outputs": [],
   "source": [
    "def train(data,K):\n",
    "    global random_pick\n",
    "    indexs = np.random.choice(data.shape[0],2)\n",
    "    centers = data.iloc[indexs,:]\n",
    "    evaluations = []\n",
    "    center_total = []\n",
    "    for k in range(K):\n",
    "        index = data.index.tolist()\n",
    "        for i in indexs:\n",
    "            index.remove(i)\n",
    "        X = data.iloc[index,:]\n",
    "        evaluation(centers,X)\n",
    "        label,p_pre = Dis(centers,X)\n",
    "        result  = choosecenter(p_pre)\n",
    "        centers = pd.DataFrame(columns=['最低','最高','label'])\n",
    "        for i,j in zip(pd.DataFrame(result)[0].tolist(),pd.DataFrame(result)[1].values):\n",
    "            centers.loc[i] = j\n",
    "        indexs = centers.index.tolist()\n",
    "#         evaluations.append(evaluation(centers,X))\n",
    "#         center_total.append(centers)\n",
    "    return evaluation(centers,X),centers"
   ]
  },
  {
   "cell_type": "code",
   "execution_count": 514,
   "id": "14dbd3c9",
   "metadata": {},
   "outputs": [
    {
     "ename": "UnboundLocalError",
     "evalue": "local variable 'items' referenced before assignment",
     "output_type": "error",
     "traceback": [
      "\u001b[0;31m---------------------------------------------------------------------------\u001b[0m",
      "\u001b[0;31mUnboundLocalError\u001b[0m                         Traceback (most recent call last)",
      "\u001b[0;32m/var/folders/l_/mgw1wg3d2s7dfjn12nnskp240000gn/T/ipykernel_7057/474981520.py\u001b[0m in \u001b[0;36m<module>\u001b[0;34m\u001b[0m\n\u001b[0;32m----> 1\u001b[0;31m \u001b[0ma\u001b[0m\u001b[0;34m,\u001b[0m\u001b[0mb\u001b[0m \u001b[0;34m=\u001b[0m \u001b[0mtrain\u001b[0m\u001b[0;34m(\u001b[0m\u001b[0mdata\u001b[0m\u001b[0;34m,\u001b[0m\u001b[0;36m10\u001b[0m\u001b[0;34m)\u001b[0m\u001b[0;34m\u001b[0m\u001b[0;34m\u001b[0m\u001b[0m\n\u001b[0m",
      "\u001b[0;32m/var/folders/l_/mgw1wg3d2s7dfjn12nnskp240000gn/T/ipykernel_7057/374919709.py\u001b[0m in \u001b[0;36mtrain\u001b[0;34m(data, K)\u001b[0m\n\u001b[1;32m     12\u001b[0m         \u001b[0mevaluation\u001b[0m\u001b[0;34m(\u001b[0m\u001b[0mcenters\u001b[0m\u001b[0;34m,\u001b[0m\u001b[0mX\u001b[0m\u001b[0;34m)\u001b[0m\u001b[0;34m\u001b[0m\u001b[0;34m\u001b[0m\u001b[0m\n\u001b[1;32m     13\u001b[0m         \u001b[0mlabel\u001b[0m\u001b[0;34m,\u001b[0m\u001b[0mp_pre\u001b[0m \u001b[0;34m=\u001b[0m \u001b[0mDis\u001b[0m\u001b[0;34m(\u001b[0m\u001b[0mcenters\u001b[0m\u001b[0;34m,\u001b[0m\u001b[0mX\u001b[0m\u001b[0;34m)\u001b[0m\u001b[0;34m\u001b[0m\u001b[0;34m\u001b[0m\u001b[0m\n\u001b[0;32m---> 14\u001b[0;31m         \u001b[0mresult\u001b[0m  \u001b[0;34m=\u001b[0m \u001b[0mchoosecenter\u001b[0m\u001b[0;34m(\u001b[0m\u001b[0mp_pre\u001b[0m\u001b[0;34m)\u001b[0m\u001b[0;34m\u001b[0m\u001b[0;34m\u001b[0m\u001b[0m\n\u001b[0m\u001b[1;32m     15\u001b[0m         \u001b[0mcenters\u001b[0m \u001b[0;34m=\u001b[0m \u001b[0mpd\u001b[0m\u001b[0;34m.\u001b[0m\u001b[0mDataFrame\u001b[0m\u001b[0;34m(\u001b[0m\u001b[0mcolumns\u001b[0m\u001b[0;34m=\u001b[0m\u001b[0;34m[\u001b[0m\u001b[0;34m'最低'\u001b[0m\u001b[0;34m,\u001b[0m\u001b[0;34m'最高'\u001b[0m\u001b[0;34m,\u001b[0m\u001b[0;34m'label'\u001b[0m\u001b[0;34m]\u001b[0m\u001b[0;34m)\u001b[0m\u001b[0;34m\u001b[0m\u001b[0;34m\u001b[0m\u001b[0m\n\u001b[1;32m     16\u001b[0m         \u001b[0;32mfor\u001b[0m \u001b[0mi\u001b[0m\u001b[0;34m,\u001b[0m\u001b[0mj\u001b[0m \u001b[0;32min\u001b[0m \u001b[0mzip\u001b[0m\u001b[0;34m(\u001b[0m\u001b[0mpd\u001b[0m\u001b[0;34m.\u001b[0m\u001b[0mDataFrame\u001b[0m\u001b[0;34m(\u001b[0m\u001b[0mresult\u001b[0m\u001b[0;34m)\u001b[0m\u001b[0;34m[\u001b[0m\u001b[0;36m0\u001b[0m\u001b[0;34m]\u001b[0m\u001b[0;34m.\u001b[0m\u001b[0mtolist\u001b[0m\u001b[0;34m(\u001b[0m\u001b[0;34m)\u001b[0m\u001b[0;34m,\u001b[0m\u001b[0mpd\u001b[0m\u001b[0;34m.\u001b[0m\u001b[0mDataFrame\u001b[0m\u001b[0;34m(\u001b[0m\u001b[0mresult\u001b[0m\u001b[0;34m)\u001b[0m\u001b[0;34m[\u001b[0m\u001b[0;36m1\u001b[0m\u001b[0;34m]\u001b[0m\u001b[0;34m.\u001b[0m\u001b[0mvalues\u001b[0m\u001b[0;34m)\u001b[0m\u001b[0;34m:\u001b[0m\u001b[0;34m\u001b[0m\u001b[0;34m\u001b[0m\u001b[0m\n",
      "\u001b[0;32m/var/folders/l_/mgw1wg3d2s7dfjn12nnskp240000gn/T/ipykernel_7057/1808097060.py\u001b[0m in \u001b[0;36mchoosecenter\u001b[0;34m(p_pre)\u001b[0m\n\u001b[1;32m     16\u001b[0m         \u001b[0mP_l\u001b[0m\u001b[0;34m.\u001b[0m\u001b[0mappend\u001b[0m\u001b[0;34m(\u001b[0m\u001b[0;34m(\u001b[0m\u001b[0mdata\u001b[0m\u001b[0;34m[\u001b[0m\u001b[0mdata\u001b[0m\u001b[0;34m[\u001b[0m\u001b[0;36m2\u001b[0m\u001b[0;34m]\u001b[0m\u001b[0;34m==\u001b[0m\u001b[0mi\u001b[0m\u001b[0;34m]\u001b[0m\u001b[0;34m[\u001b[0m\u001b[0;36m1\u001b[0m\u001b[0;34m]\u001b[0m\u001b[0;34m/\u001b[0m\u001b[0mdata\u001b[0m\u001b[0;34m[\u001b[0m\u001b[0mdata\u001b[0m\u001b[0;34m[\u001b[0m\u001b[0;36m2\u001b[0m\u001b[0;34m]\u001b[0m\u001b[0;34m==\u001b[0m\u001b[0mi\u001b[0m\u001b[0;34m]\u001b[0m\u001b[0;34m[\u001b[0m\u001b[0;36m1\u001b[0m\u001b[0;34m]\u001b[0m\u001b[0;34m.\u001b[0m\u001b[0msum\u001b[0m\u001b[0;34m(\u001b[0m\u001b[0;34m)\u001b[0m\u001b[0;34m)\u001b[0m\u001b[0;34m)\u001b[0m\u001b[0;34m\u001b[0m\u001b[0;34m\u001b[0m\u001b[0m\n\u001b[1;32m     17\u001b[0m     \u001b[0;32mfor\u001b[0m \u001b[0mi\u001b[0m \u001b[0;32min\u001b[0m \u001b[0mP_l\u001b[0m\u001b[0;34m:\u001b[0m\u001b[0;34m\u001b[0m\u001b[0;34m\u001b[0m\u001b[0m\n\u001b[0;32m---> 18\u001b[0;31m         \u001b[0mnewcenter\u001b[0m\u001b[0;34m.\u001b[0m\u001b[0mappend\u001b[0m\u001b[0;34m(\u001b[0m\u001b[0;34m(\u001b[0m\u001b[0mrandom_pick\u001b[0m\u001b[0;34m(\u001b[0m\u001b[0mi\u001b[0m\u001b[0;34m.\u001b[0m\u001b[0mindex\u001b[0m\u001b[0;34m.\u001b[0m\u001b[0mtolist\u001b[0m\u001b[0;34m(\u001b[0m\u001b[0;34m)\u001b[0m\u001b[0;34m,\u001b[0m\u001b[0mi\u001b[0m\u001b[0;34m.\u001b[0m\u001b[0mvalues\u001b[0m\u001b[0;34m.\u001b[0m\u001b[0mtolist\u001b[0m\u001b[0;34m(\u001b[0m\u001b[0;34m)\u001b[0m\u001b[0;34m)\u001b[0m\u001b[0;34m,\u001b[0m\u001b[0mdata\u001b[0m\u001b[0;34m.\u001b[0m\u001b[0miloc\u001b[0m\u001b[0;34m[\u001b[0m\u001b[0mrandom_pick\u001b[0m\u001b[0;34m(\u001b[0m\u001b[0mi\u001b[0m\u001b[0;34m.\u001b[0m\u001b[0mindex\u001b[0m\u001b[0;34m.\u001b[0m\u001b[0mtolist\u001b[0m\u001b[0;34m(\u001b[0m\u001b[0;34m)\u001b[0m\u001b[0;34m,\u001b[0m\u001b[0mi\u001b[0m\u001b[0;34m.\u001b[0m\u001b[0mvalues\u001b[0m\u001b[0;34m.\u001b[0m\u001b[0mtolist\u001b[0m\u001b[0;34m(\u001b[0m\u001b[0;34m)\u001b[0m\u001b[0;34m)\u001b[0m\u001b[0;34m,\u001b[0m\u001b[0;36m0\u001b[0m\u001b[0;34m]\u001b[0m\u001b[0;34m)\u001b[0m\u001b[0;34m)\u001b[0m\u001b[0;34m\u001b[0m\u001b[0;34m\u001b[0m\u001b[0m\n\u001b[0m\u001b[1;32m     19\u001b[0m     \u001b[0;32mreturn\u001b[0m \u001b[0mnewcenter\u001b[0m\u001b[0;34m\u001b[0m\u001b[0;34m\u001b[0m\u001b[0m\n",
      "\u001b[0;32m/var/folders/l_/mgw1wg3d2s7dfjn12nnskp240000gn/T/ipykernel_7057/1808097060.py\u001b[0m in \u001b[0;36mrandom_pick\u001b[0;34m(some_list, probabilities)\u001b[0m\n\u001b[1;32m      9\u001b[0m             \u001b[0;32mif\u001b[0m \u001b[0mx\u001b[0m \u001b[0;34m<\u001b[0m \u001b[0mcumulative_probability\u001b[0m\u001b[0;34m:\u001b[0m\u001b[0;34m\u001b[0m\u001b[0;34m\u001b[0m\u001b[0m\n\u001b[1;32m     10\u001b[0m                 \u001b[0;32mbreak\u001b[0m\u001b[0;34m\u001b[0m\u001b[0;34m\u001b[0m\u001b[0m\n\u001b[0;32m---> 11\u001b[0;31m         \u001b[0;32mreturn\u001b[0m \u001b[0mitems\u001b[0m\u001b[0;34m\u001b[0m\u001b[0;34m\u001b[0m\u001b[0m\n\u001b[0m\u001b[1;32m     12\u001b[0m     \u001b[0mdata\u001b[0m \u001b[0;34m=\u001b[0m \u001b[0mpd\u001b[0m\u001b[0;34m.\u001b[0m\u001b[0mDataFrame\u001b[0m\u001b[0;34m(\u001b[0m\u001b[0mp_pre\u001b[0m\u001b[0;34m)\u001b[0m\u001b[0;34m\u001b[0m\u001b[0;34m\u001b[0m\u001b[0m\n\u001b[1;32m     13\u001b[0m     \u001b[0mP_l\u001b[0m \u001b[0;34m=\u001b[0m \u001b[0;34m[\u001b[0m\u001b[0;34m]\u001b[0m\u001b[0;34m\u001b[0m\u001b[0;34m\u001b[0m\u001b[0m\n",
      "\u001b[0;31mUnboundLocalError\u001b[0m: local variable 'items' referenced before assignment"
     ]
    }
   ],
   "source": [
    "a,b = train(data,10)"
   ]
  },
  {
   "cell_type": "code",
   "execution_count": 458,
   "id": "dfb8aa21",
   "metadata": {},
   "outputs": [
    {
     "data": {
      "text/plain": [
       "0.14526017918455242"
      ]
     },
     "execution_count": 458,
     "metadata": {},
     "output_type": "execute_result"
    }
   ],
   "source": [
    "a"
   ]
  },
  {
   "cell_type": "code",
   "execution_count": null,
   "id": "ee4a05f4",
   "metadata": {},
   "outputs": [],
   "source": []
  }
 ],
 "metadata": {
  "kernelspec": {
   "display_name": "Python 3 (ipykernel)",
   "language": "python",
   "name": "python3"
  },
  "language_info": {
   "codemirror_mode": {
    "name": "ipython",
    "version": 3
   },
   "file_extension": ".py",
   "mimetype": "text/x-python",
   "name": "python",
   "nbconvert_exporter": "python",
   "pygments_lexer": "ipython3",
   "version": "3.7.11"
  }
 },
 "nbformat": 4,
 "nbformat_minor": 5
}
