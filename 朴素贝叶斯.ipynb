{
 "cells": [
  {
   "cell_type": "code",
   "execution_count": 122,
   "id": "09f5fdc3",
   "metadata": {},
   "outputs": [],
   "source": [
    "import pandas as pd\n",
    "import numpy as np\n",
    "from functools import reduce"
   ]
  },
  {
   "cell_type": "code",
   "execution_count": 80,
   "id": "92a1e5f0",
   "metadata": {},
   "outputs": [],
   "source": [
    "data = {'x1':[1,1,1,1,1,2,2,2,2,2,3,3,3,3,3],'x2':['S','M','M','S','S','S','M','M','L','L','L','M','M','L','L'],\n",
    "       'Y':[-1,-1,1,1,-1,-1,-1,1,1,1,1,1,1,1,-1]}"
   ]
  },
  {
   "cell_type": "code",
   "execution_count": 81,
   "id": "c89b0070",
   "metadata": {},
   "outputs": [],
   "source": [
    "data = pd.DataFrame(data)"
   ]
  },
  {
   "cell_type": "code",
   "execution_count": 82,
   "id": "d2ea227e",
   "metadata": {},
   "outputs": [
    {
     "data": {
      "text/html": [
       "<div>\n",
       "<style scoped>\n",
       "    .dataframe tbody tr th:only-of-type {\n",
       "        vertical-align: middle;\n",
       "    }\n",
       "\n",
       "    .dataframe tbody tr th {\n",
       "        vertical-align: top;\n",
       "    }\n",
       "\n",
       "    .dataframe thead th {\n",
       "        text-align: right;\n",
       "    }\n",
       "</style>\n",
       "<table border=\"1\" class=\"dataframe\">\n",
       "  <thead>\n",
       "    <tr style=\"text-align: right;\">\n",
       "      <th></th>\n",
       "      <th>x1</th>\n",
       "      <th>x2</th>\n",
       "      <th>Y</th>\n",
       "    </tr>\n",
       "  </thead>\n",
       "  <tbody>\n",
       "    <tr>\n",
       "      <th>0</th>\n",
       "      <td>1</td>\n",
       "      <td>S</td>\n",
       "      <td>-1</td>\n",
       "    </tr>\n",
       "    <tr>\n",
       "      <th>1</th>\n",
       "      <td>1</td>\n",
       "      <td>M</td>\n",
       "      <td>-1</td>\n",
       "    </tr>\n",
       "    <tr>\n",
       "      <th>2</th>\n",
       "      <td>1</td>\n",
       "      <td>M</td>\n",
       "      <td>1</td>\n",
       "    </tr>\n",
       "    <tr>\n",
       "      <th>3</th>\n",
       "      <td>1</td>\n",
       "      <td>S</td>\n",
       "      <td>1</td>\n",
       "    </tr>\n",
       "    <tr>\n",
       "      <th>4</th>\n",
       "      <td>1</td>\n",
       "      <td>S</td>\n",
       "      <td>-1</td>\n",
       "    </tr>\n",
       "    <tr>\n",
       "      <th>5</th>\n",
       "      <td>2</td>\n",
       "      <td>S</td>\n",
       "      <td>-1</td>\n",
       "    </tr>\n",
       "    <tr>\n",
       "      <th>6</th>\n",
       "      <td>2</td>\n",
       "      <td>M</td>\n",
       "      <td>-1</td>\n",
       "    </tr>\n",
       "    <tr>\n",
       "      <th>7</th>\n",
       "      <td>2</td>\n",
       "      <td>M</td>\n",
       "      <td>1</td>\n",
       "    </tr>\n",
       "    <tr>\n",
       "      <th>8</th>\n",
       "      <td>2</td>\n",
       "      <td>L</td>\n",
       "      <td>1</td>\n",
       "    </tr>\n",
       "    <tr>\n",
       "      <th>9</th>\n",
       "      <td>2</td>\n",
       "      <td>L</td>\n",
       "      <td>1</td>\n",
       "    </tr>\n",
       "    <tr>\n",
       "      <th>10</th>\n",
       "      <td>3</td>\n",
       "      <td>L</td>\n",
       "      <td>1</td>\n",
       "    </tr>\n",
       "    <tr>\n",
       "      <th>11</th>\n",
       "      <td>3</td>\n",
       "      <td>M</td>\n",
       "      <td>1</td>\n",
       "    </tr>\n",
       "    <tr>\n",
       "      <th>12</th>\n",
       "      <td>3</td>\n",
       "      <td>M</td>\n",
       "      <td>1</td>\n",
       "    </tr>\n",
       "    <tr>\n",
       "      <th>13</th>\n",
       "      <td>3</td>\n",
       "      <td>L</td>\n",
       "      <td>1</td>\n",
       "    </tr>\n",
       "    <tr>\n",
       "      <th>14</th>\n",
       "      <td>3</td>\n",
       "      <td>L</td>\n",
       "      <td>-1</td>\n",
       "    </tr>\n",
       "  </tbody>\n",
       "</table>\n",
       "</div>"
      ],
      "text/plain": [
       "    x1 x2  Y\n",
       "0    1  S -1\n",
       "1    1  M -1\n",
       "2    1  M  1\n",
       "3    1  S  1\n",
       "4    1  S -1\n",
       "5    2  S -1\n",
       "6    2  M -1\n",
       "7    2  M  1\n",
       "8    2  L  1\n",
       "9    2  L  1\n",
       "10   3  L  1\n",
       "11   3  M  1\n",
       "12   3  M  1\n",
       "13   3  L  1\n",
       "14   3  L -1"
      ]
     },
     "execution_count": 82,
     "metadata": {},
     "output_type": "execute_result"
    }
   ],
   "source": [
    "data"
   ]
  },
  {
   "cell_type": "code",
   "execution_count": 5,
   "id": "83d62b3b",
   "metadata": {},
   "outputs": [],
   "source": [
    "p1 = pd.DataFrame(data[data['Y']==1].groupby('x1')['Y'].count()).T"
   ]
  },
  {
   "cell_type": "code",
   "execution_count": 9,
   "id": "cdbb9ca7",
   "metadata": {},
   "outputs": [],
   "source": [
    "p1.loc['p'] = p1.loc['Y']/sum(p1.loc['Y'])"
   ]
  },
  {
   "cell_type": "code",
   "execution_count": 11,
   "id": "58a608bb",
   "metadata": {},
   "outputs": [],
   "source": [
    "p2 = pd.DataFrame(data[data['Y']==-1].groupby('x1')['Y'].count()).T"
   ]
  },
  {
   "cell_type": "code",
   "execution_count": 12,
   "id": "bf14a6e1",
   "metadata": {},
   "outputs": [],
   "source": [
    "p2.loc['p'] = p2.loc['Y']/sum(p2.loc['Y'])"
   ]
  },
  {
   "cell_type": "code",
   "execution_count": 14,
   "id": "e8c7d984",
   "metadata": {},
   "outputs": [],
   "source": [
    "p3 = pd.DataFrame(data[data['Y']==1].groupby('x2')['Y'].count()).T"
   ]
  },
  {
   "cell_type": "code",
   "execution_count": 15,
   "id": "65edb4de",
   "metadata": {},
   "outputs": [],
   "source": [
    "p3.loc['p'] = p3.loc['Y']/sum(p3.loc['Y'])"
   ]
  },
  {
   "cell_type": "code",
   "execution_count": 17,
   "id": "883e2b5e",
   "metadata": {},
   "outputs": [],
   "source": [
    "p4 = pd.DataFrame(data[data['Y']==-1].groupby('x2')['Y'].count()).T"
   ]
  },
  {
   "cell_type": "code",
   "execution_count": 18,
   "id": "c6ee6405",
   "metadata": {},
   "outputs": [],
   "source": [
    "p4.loc['p'] = p4.loc['Y']/sum(p4.loc['Y'])"
   ]
  },
  {
   "cell_type": "code",
   "execution_count": 19,
   "id": "914b1adc",
   "metadata": {},
   "outputs": [
    {
     "data": {
      "text/html": [
       "<div>\n",
       "<style scoped>\n",
       "    .dataframe tbody tr th:only-of-type {\n",
       "        vertical-align: middle;\n",
       "    }\n",
       "\n",
       "    .dataframe tbody tr th {\n",
       "        vertical-align: top;\n",
       "    }\n",
       "\n",
       "    .dataframe thead th {\n",
       "        text-align: right;\n",
       "    }\n",
       "</style>\n",
       "<table border=\"1\" class=\"dataframe\">\n",
       "  <thead>\n",
       "    <tr style=\"text-align: right;\">\n",
       "      <th>x2</th>\n",
       "      <th>L</th>\n",
       "      <th>M</th>\n",
       "      <th>S</th>\n",
       "    </tr>\n",
       "  </thead>\n",
       "  <tbody>\n",
       "    <tr>\n",
       "      <th>Y</th>\n",
       "      <td>1.000000</td>\n",
       "      <td>2.000000</td>\n",
       "      <td>3.0</td>\n",
       "    </tr>\n",
       "    <tr>\n",
       "      <th>p</th>\n",
       "      <td>0.166667</td>\n",
       "      <td>0.333333</td>\n",
       "      <td>0.5</td>\n",
       "    </tr>\n",
       "  </tbody>\n",
       "</table>\n",
       "</div>"
      ],
      "text/plain": [
       "x2         L         M    S\n",
       "Y   1.000000  2.000000  3.0\n",
       "p   0.166667  0.333333  0.5"
      ]
     },
     "execution_count": 19,
     "metadata": {},
     "output_type": "execute_result"
    }
   ],
   "source": [
    "p4"
   ]
  },
  {
   "cell_type": "code",
   "execution_count": 30,
   "id": "8cbd6ac9",
   "metadata": {},
   "outputs": [],
   "source": [
    "p1 = data[data['Y']==1]['x1'].value_counts()/data[data['Y']==1]['x1'].value_counts().sum()"
   ]
  },
  {
   "cell_type": "code",
   "execution_count": 31,
   "id": "83b4e7ca",
   "metadata": {},
   "outputs": [],
   "source": [
    "p2 = data[data['Y']==1]['x2'].value_counts()/data[data['Y']==1]['x2'].value_counts().sum()"
   ]
  },
  {
   "cell_type": "code",
   "execution_count": 37,
   "id": "cde100a1",
   "metadata": {},
   "outputs": [
    {
     "data": {
      "text/html": [
       "<div>\n",
       "<style scoped>\n",
       "    .dataframe tbody tr th:only-of-type {\n",
       "        vertical-align: middle;\n",
       "    }\n",
       "\n",
       "    .dataframe tbody tr th {\n",
       "        vertical-align: top;\n",
       "    }\n",
       "\n",
       "    .dataframe thead th {\n",
       "        text-align: right;\n",
       "    }\n",
       "</style>\n",
       "<table border=\"1\" class=\"dataframe\">\n",
       "  <thead>\n",
       "    <tr style=\"text-align: right;\">\n",
       "      <th></th>\n",
       "      <th></th>\n",
       "      <th>0</th>\n",
       "    </tr>\n",
       "  </thead>\n",
       "  <tbody>\n",
       "    <tr>\n",
       "      <th rowspan=\"3\" valign=\"top\">x1</th>\n",
       "      <th>1</th>\n",
       "      <td>0.222222</td>\n",
       "    </tr>\n",
       "    <tr>\n",
       "      <th>2</th>\n",
       "      <td>0.333333</td>\n",
       "    </tr>\n",
       "    <tr>\n",
       "      <th>3</th>\n",
       "      <td>0.444444</td>\n",
       "    </tr>\n",
       "    <tr>\n",
       "      <th rowspan=\"3\" valign=\"top\">x2</th>\n",
       "      <th>L</th>\n",
       "      <td>0.444444</td>\n",
       "    </tr>\n",
       "    <tr>\n",
       "      <th>M</th>\n",
       "      <td>0.444444</td>\n",
       "    </tr>\n",
       "    <tr>\n",
       "      <th>S</th>\n",
       "      <td>0.111111</td>\n",
       "    </tr>\n",
       "  </tbody>\n",
       "</table>\n",
       "</div>"
      ],
      "text/plain": [
       "             0\n",
       "x1 1  0.222222\n",
       "   2  0.333333\n",
       "   3  0.444444\n",
       "x2 L  0.444444\n",
       "   M  0.444444\n",
       "   S  0.111111"
      ]
     },
     "execution_count": 37,
     "metadata": {},
     "output_type": "execute_result"
    }
   ],
   "source": [
    "pd.DataFrame(pd.concat([p1,p2],axis=1).T.stack())"
   ]
  },
  {
   "cell_type": "code",
   "execution_count": 38,
   "id": "0515c762",
   "metadata": {},
   "outputs": [],
   "source": [
    "p3 = data[data['Y']==-1]['x1'].value_counts()/data[data['Y']==-1]['x1'].value_counts().sum()"
   ]
  },
  {
   "cell_type": "code",
   "execution_count": 39,
   "id": "ac43db8d",
   "metadata": {},
   "outputs": [],
   "source": [
    "p4 = data[data['Y']==-1]['x2'].value_counts()/data[data['Y']==-1]['x2'].value_counts().sum()"
   ]
  },
  {
   "cell_type": "code",
   "execution_count": 40,
   "id": "18e420b6",
   "metadata": {},
   "outputs": [
    {
     "data": {
      "text/html": [
       "<div>\n",
       "<style scoped>\n",
       "    .dataframe tbody tr th:only-of-type {\n",
       "        vertical-align: middle;\n",
       "    }\n",
       "\n",
       "    .dataframe tbody tr th {\n",
       "        vertical-align: top;\n",
       "    }\n",
       "\n",
       "    .dataframe thead th {\n",
       "        text-align: right;\n",
       "    }\n",
       "</style>\n",
       "<table border=\"1\" class=\"dataframe\">\n",
       "  <thead>\n",
       "    <tr style=\"text-align: right;\">\n",
       "      <th></th>\n",
       "      <th></th>\n",
       "      <th>0</th>\n",
       "    </tr>\n",
       "  </thead>\n",
       "  <tbody>\n",
       "    <tr>\n",
       "      <th rowspan=\"3\" valign=\"top\">x1</th>\n",
       "      <th>1</th>\n",
       "      <td>0.500000</td>\n",
       "    </tr>\n",
       "    <tr>\n",
       "      <th>2</th>\n",
       "      <td>0.333333</td>\n",
       "    </tr>\n",
       "    <tr>\n",
       "      <th>3</th>\n",
       "      <td>0.166667</td>\n",
       "    </tr>\n",
       "    <tr>\n",
       "      <th rowspan=\"3\" valign=\"top\">x2</th>\n",
       "      <th>L</th>\n",
       "      <td>0.166667</td>\n",
       "    </tr>\n",
       "    <tr>\n",
       "      <th>M</th>\n",
       "      <td>0.333333</td>\n",
       "    </tr>\n",
       "    <tr>\n",
       "      <th>S</th>\n",
       "      <td>0.500000</td>\n",
       "    </tr>\n",
       "  </tbody>\n",
       "</table>\n",
       "</div>"
      ],
      "text/plain": [
       "             0\n",
       "x1 1  0.500000\n",
       "   2  0.333333\n",
       "   3  0.166667\n",
       "x2 L  0.166667\n",
       "   M  0.333333\n",
       "   S  0.500000"
      ]
     },
     "execution_count": 40,
     "metadata": {},
     "output_type": "execute_result"
    }
   ],
   "source": [
    "pd.DataFrame(pd.concat([p3,p4],axis=1).T.stack())"
   ]
  },
  {
   "cell_type": "code",
   "execution_count": 68,
   "id": "1abe8b35",
   "metadata": {},
   "outputs": [],
   "source": [
    "def frency(X:list,Y:list):\n",
    "    fren = {}\n",
    "    for y in Y:\n",
    "        d = {}\n",
    "        for x in X:\n",
    "            p = data[data['Y']==y][x].value_counts()/data[data['Y']==y][x].value_counts().sum()\n",
    "            d.update(p)\n",
    "            f = {y:d}\n",
    "        fren.update(f)\n",
    "    return fren"
   ]
  },
  {
   "cell_type": "code",
   "execution_count": 69,
   "id": "1c691864",
   "metadata": {},
   "outputs": [],
   "source": [
    "X = ['x1','x2'];Y = [1,-1]"
   ]
  },
  {
   "cell_type": "code",
   "execution_count": 70,
   "id": "3b822754",
   "metadata": {},
   "outputs": [],
   "source": [
    "fr = frency(X,Y)"
   ]
  },
  {
   "cell_type": "code",
   "execution_count": 71,
   "id": "02e06ef2",
   "metadata": {},
   "outputs": [
    {
     "data": {
      "text/plain": [
       "{1: {3: 0.4444444444444444,\n",
       "  2: 0.3333333333333333,\n",
       "  1: 0.2222222222222222,\n",
       "  'L': 0.4444444444444444,\n",
       "  'M': 0.4444444444444444,\n",
       "  'S': 0.1111111111111111},\n",
       " -1: {1: 0.5,\n",
       "  2: 0.3333333333333333,\n",
       "  3: 0.16666666666666666,\n",
       "  'S': 0.5,\n",
       "  'M': 0.3333333333333333,\n",
       "  'L': 0.16666666666666666}}"
      ]
     },
     "execution_count": 71,
     "metadata": {},
     "output_type": "execute_result"
    }
   ],
   "source": [
    "fr"
   ]
  },
  {
   "cell_type": "code",
   "execution_count": 96,
   "id": "04508657",
   "metadata": {},
   "outputs": [],
   "source": [
    "def predict(fr,Y,feature1,feature2):\n",
    "    com = []\n",
    "    for i in Y:\n",
    "        Py = (data['Y']==i).sum()/data.shape[0]\n",
    "        Pz = Py*fr[i][feature1]*fr[i][feature2]\n",
    "        com.append(Pz)\n",
    "    return Y[com.index(max(com))]"
   ]
  },
  {
   "cell_type": "code",
   "execution_count": 97,
   "id": "c9400b01",
   "metadata": {},
   "outputs": [
    {
     "data": {
      "text/plain": [
       "-1"
      ]
     },
     "execution_count": 97,
     "metadata": {},
     "output_type": "execute_result"
    }
   ],
   "source": [
    "predict(fr,Y,2,'S')"
   ]
  },
  {
   "cell_type": "code",
   "execution_count": 161,
   "id": "d1eb2216",
   "metadata": {},
   "outputs": [],
   "source": [
    "class Bayes:\n",
    "    def __init__(self,data,X,Y):\n",
    "        \"\"\"\n",
    "        :data 数据集\n",
    "        :X 特征\n",
    "        :Y 标签值\n",
    "        \"\"\"\n",
    "        self.data = data\n",
    "        self.X = X\n",
    "        self.Y = Y\n",
    "        \n",
    "    def frency(self):\n",
    "        fren = {}\n",
    "        for y in self.Y:\n",
    "            d = {}\n",
    "            for x in self.X:\n",
    "                p = self.data[self.data['Y']==y][x].value_counts()/self.data[self.data['Y']==y][x].value_counts().sum()\n",
    "                d.update(p)\n",
    "                f = {y:d}\n",
    "            fren.update(f)\n",
    "        return fren\n",
    "    \n",
    "    def predict(self,features:list):\n",
    "        \"\"\"\n",
    "        :features 需预测特征的值\n",
    "        \"\"\"\n",
    "        fr = self.frency()\n",
    "        com = []\n",
    "        for i in self.Y:\n",
    "            featurefr = [(self.data['Y']==i).sum()/self.data.shape[0]]+[fr[i][f] for f in features]\n",
    "            pz = reduce(lambda x,y:x*y,featurefr)\n",
    "            com.append(pz)\n",
    "        return self.Y[com.index(max(com))]"
   ]
  },
  {
   "cell_type": "code",
   "execution_count": 162,
   "id": "3bb12d40",
   "metadata": {},
   "outputs": [],
   "source": [
    "bayes = bayes(data,['x1','x2'],[1,-1])"
   ]
  },
  {
   "cell_type": "code",
   "execution_count": 164,
   "id": "d5279b5d",
   "metadata": {},
   "outputs": [
    {
     "data": {
      "text/plain": [
       "1"
      ]
     },
     "execution_count": 164,
     "metadata": {},
     "output_type": "execute_result"
    }
   ],
   "source": [
    "bayes.predict([2,'L'])"
   ]
  },
  {
   "cell_type": "code",
   "execution_count": null,
   "id": "2d7e91ab",
   "metadata": {},
   "outputs": [],
   "source": []
  }
 ],
 "metadata": {
  "kernelspec": {
   "display_name": "Python 3 (ipykernel)",
   "language": "python",
   "name": "python3"
  },
  "language_info": {
   "codemirror_mode": {
    "name": "ipython",
    "version": 3
   },
   "file_extension": ".py",
   "mimetype": "text/x-python",
   "name": "python",
   "nbconvert_exporter": "python",
   "pygments_lexer": "ipython3",
   "version": "3.7.11"
  }
 },
 "nbformat": 4,
 "nbformat_minor": 5
}
