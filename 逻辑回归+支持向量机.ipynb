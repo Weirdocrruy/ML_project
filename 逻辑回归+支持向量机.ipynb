{
 "cells": [
  {
   "cell_type": "code",
   "execution_count": 1478,
   "id": "0f6ecf72",
   "metadata": {},
   "outputs": [],
   "source": [
    "import pandas as pd\n",
    "import numpy as np\n",
    "from sklearn.model_selection import train_test_split\n",
    "from sklearn.linear_model import LogisticRegression as LR\n",
    "from sklearn.svm import SVC\n",
    "from sklearn.preprocessing import PolynomialFeatures\n",
    "from sklearn.ensemble import StackingClassifier\n",
    "from sklearn.preprocessing import StandardScaler\n",
    "import torch\n",
    "import torch.nn as nn\n",
    "from torch.utils.data import TensorDataset\n",
    "from torch.utils.data import DataLoader\n",
    "from torch import optim\n",
    "import torch.nn.functional as F\n",
    "from sklearn.metrics import roc_curve\n",
    "from sklearn.metrics import roc_auc_score as AUC\n",
    "import matplotlib.pyplot as plt\n",
    "%matplotlib inline"
   ]
  },
  {
   "cell_type": "code",
   "execution_count": 1403,
   "id": "27c983d9",
   "metadata": {},
   "outputs": [],
   "source": [
    "data = pd.read_csv('/Users/yangzhou/R语言/数据/data.csv',index_col=0)"
   ]
  },
  {
   "cell_type": "code",
   "execution_count": 1404,
   "id": "adb7c465",
   "metadata": {},
   "outputs": [],
   "source": [
    "Xtrain,Xtest,Ytrain,Ytest = train_test_split(data.iloc[:,[0,1,2,3,4,5]],data['label'],test_size=0.3,random_state=120)"
   ]
  },
  {
   "cell_type": "code",
   "execution_count": 1405,
   "id": "5315ea50",
   "metadata": {},
   "outputs": [],
   "source": [
    "lr = LR(random_state=120).fit(Xtrain,Ytrain)"
   ]
  },
  {
   "cell_type": "code",
   "execution_count": 1406,
   "id": "21bb41bd",
   "metadata": {},
   "outputs": [
    {
     "data": {
      "text/plain": [
       "array([1, 1, 0, 0, 1, 0, 0, 0, 0, 0, 0, 1, 1, 0, 1, 1, 1, 1, 1, 0, 0, 0,\n",
       "       0, 1, 0, 1, 1, 1, 0, 0, 0, 1, 0, 0, 0, 1, 1, 0, 0, 0, 1, 0, 0, 1,\n",
       "       0, 1, 0, 1, 1, 0, 1, 0, 0, 0, 0, 1, 0, 0, 0, 1, 0, 0, 1, 1, 0, 0,\n",
       "       1, 0, 0, 0, 1, 1, 0, 1, 0, 1, 1, 0, 0, 0, 1, 1, 1, 0, 1, 1, 0, 0,\n",
       "       0, 1, 0, 1, 0, 0, 0, 0, 1, 1, 1, 1, 1, 0, 0, 0, 0, 0, 1, 0, 1, 0,\n",
       "       0, 1, 0, 0, 0, 1, 0, 0, 0, 1, 1, 1, 0, 0, 0, 1, 0, 1, 1, 1, 1, 1,\n",
       "       0, 0, 1, 0, 1, 1, 0, 0, 1, 0, 0, 1, 0, 1, 0, 1, 0, 0, 1, 0, 0, 0,\n",
       "       0, 0, 1, 0, 0, 0, 0, 1, 1, 0, 0, 0, 1, 0, 1, 0, 0, 1, 0, 1, 0, 1,\n",
       "       0, 1, 0, 0, 1, 0, 0, 0, 1, 1, 1, 0, 1, 1, 0, 1, 0, 0, 0, 0, 0, 0,\n",
       "       0, 1, 0, 0, 0, 0, 1, 0, 0, 0, 0, 0, 0, 0, 0, 0, 1, 0, 0, 1, 0, 1,\n",
       "       0, 0, 0, 1, 0, 1, 1, 1, 0, 0, 1, 1, 1, 1, 0, 0, 0, 1, 1, 0, 0, 0,\n",
       "       1, 1, 1, 1, 1, 0, 0, 1, 0, 0, 1, 1, 1, 1, 1, 0, 1, 1, 0, 0, 1, 1,\n",
       "       0, 0, 0, 1, 0, 1, 1, 0, 1, 1, 0, 0, 1, 1, 1, 1, 1, 0, 1, 0, 0, 1,\n",
       "       0, 0, 0, 0, 0, 1, 0, 1, 1, 0, 0, 1, 1, 0, 0, 0, 1, 1, 0, 0, 0, 0,\n",
       "       1, 0, 1, 1, 0, 0, 1, 0, 0, 1, 0, 0, 0, 0, 0, 0, 1, 0, 1, 0, 1, 1,\n",
       "       1, 0, 0, 0, 1, 0, 0, 0, 0, 0, 0, 0, 1, 0, 0, 0, 1, 0, 0, 0, 1, 0,\n",
       "       1, 1, 0, 1, 0, 0, 1, 1, 0, 0, 1, 0, 1, 1, 0, 0, 0, 1, 0, 1, 0, 0,\n",
       "       0, 0, 0, 0, 1, 0, 0, 0, 0, 0, 1, 1, 0, 1, 0, 0, 0, 0, 0, 0, 0, 0,\n",
       "       1, 0, 0, 1, 1, 1, 0, 0, 1, 0, 0, 0, 1, 0, 0, 1, 1, 1, 1, 0, 0, 0,\n",
       "       1, 0])"
      ]
     },
     "execution_count": 1406,
     "metadata": {},
     "output_type": "execute_result"
    }
   ],
   "source": [
    "lr.predict(Xtest)"
   ]
  },
  {
   "cell_type": "code",
   "execution_count": 1407,
   "id": "d1a17289",
   "metadata": {},
   "outputs": [
    {
     "data": {
      "text/plain": [
       "0.7316326530612245"
      ]
     },
     "execution_count": 1407,
     "metadata": {},
     "output_type": "execute_result"
    }
   ],
   "source": [
    "lr.score(Xtrain,Ytrain)"
   ]
  },
  {
   "cell_type": "code",
   "execution_count": 1408,
   "id": "cafbb942",
   "metadata": {},
   "outputs": [
    {
     "data": {
      "text/plain": [
       "0.7309523809523809"
      ]
     },
     "execution_count": 1408,
     "metadata": {},
     "output_type": "execute_result"
    }
   ],
   "source": [
    "lr.score(Xtest,Ytest)"
   ]
  },
  {
   "cell_type": "code",
   "execution_count": 1409,
   "id": "0ac0f2b1",
   "metadata": {},
   "outputs": [
    {
     "data": {
      "text/plain": [
       "0.7551020408163265"
      ]
     },
     "execution_count": 1409,
     "metadata": {},
     "output_type": "execute_result"
    }
   ],
   "source": [
    "svc = SVC().fit(Xtrain,Ytrain)\n",
    "svc.score(Xtrain,Ytrain)"
   ]
  },
  {
   "cell_type": "code",
   "execution_count": 1410,
   "id": "709da597",
   "metadata": {},
   "outputs": [
    {
     "data": {
      "text/plain": [
       "0.7547619047619047"
      ]
     },
     "execution_count": 1410,
     "metadata": {},
     "output_type": "execute_result"
    }
   ],
   "source": [
    "svc.score(Xtest,Ytest)"
   ]
  },
  {
   "cell_type": "code",
   "execution_count": 1411,
   "id": "8cf90a25",
   "metadata": {},
   "outputs": [],
   "source": [
    "data.iloc[:,[*range(6)]] = StandardScaler().fit_transform(data.iloc[:,[*range(6)]])"
   ]
  },
  {
   "cell_type": "code",
   "execution_count": 1412,
   "id": "af5f7c12",
   "metadata": {},
   "outputs": [
    {
     "data": {
      "text/html": [
       "<div>\n",
       "<style scoped>\n",
       "    .dataframe tbody tr th:only-of-type {\n",
       "        vertical-align: middle;\n",
       "    }\n",
       "\n",
       "    .dataframe tbody tr th {\n",
       "        vertical-align: top;\n",
       "    }\n",
       "\n",
       "    .dataframe thead th {\n",
       "        text-align: right;\n",
       "    }\n",
       "</style>\n",
       "<table border=\"1\" class=\"dataframe\">\n",
       "  <thead>\n",
       "    <tr style=\"text-align: right;\">\n",
       "      <th></th>\n",
       "      <th>1</th>\n",
       "      <th>2</th>\n",
       "      <th>3</th>\n",
       "      <th>4</th>\n",
       "      <th>5</th>\n",
       "      <th>6</th>\n",
       "      <th>label</th>\n",
       "    </tr>\n",
       "  </thead>\n",
       "  <tbody>\n",
       "    <tr>\n",
       "      <th>127</th>\n",
       "      <td>1.417109</td>\n",
       "      <td>1.338501</td>\n",
       "      <td>1.295564</td>\n",
       "      <td>1.150110</td>\n",
       "      <td>-0.509197</td>\n",
       "      <td>-0.364786</td>\n",
       "      <td>1</td>\n",
       "    </tr>\n",
       "    <tr>\n",
       "      <th>25</th>\n",
       "      <td>-0.280808</td>\n",
       "      <td>-0.364983</td>\n",
       "      <td>-0.418385</td>\n",
       "      <td>-0.482230</td>\n",
       "      <td>1.551746</td>\n",
       "      <td>1.393881</td>\n",
       "      <td>0</td>\n",
       "    </tr>\n",
       "    <tr>\n",
       "      <th>137</th>\n",
       "      <td>-1.347403</td>\n",
       "      <td>-1.346444</td>\n",
       "      <td>-1.353102</td>\n",
       "      <td>-1.368357</td>\n",
       "      <td>-0.632896</td>\n",
       "      <td>-0.697121</td>\n",
       "      <td>0</td>\n",
       "    </tr>\n",
       "    <tr>\n",
       "      <th>112</th>\n",
       "      <td>1.074244</td>\n",
       "      <td>1.003189</td>\n",
       "      <td>1.083707</td>\n",
       "      <td>1.077561</td>\n",
       "      <td>-0.876081</td>\n",
       "      <td>-0.846032</td>\n",
       "      <td>1</td>\n",
       "    </tr>\n",
       "    <tr>\n",
       "      <th>121</th>\n",
       "      <td>1.112244</td>\n",
       "      <td>0.979530</td>\n",
       "      <td>1.139172</td>\n",
       "      <td>1.090516</td>\n",
       "      <td>-0.839694</td>\n",
       "      <td>-0.800176</td>\n",
       "      <td>1</td>\n",
       "    </tr>\n",
       "    <tr>\n",
       "      <th>...</th>\n",
       "      <td>...</td>\n",
       "      <td>...</td>\n",
       "      <td>...</td>\n",
       "      <td>...</td>\n",
       "      <td>...</td>\n",
       "      <td>...</td>\n",
       "      <td>...</td>\n",
       "    </tr>\n",
       "    <tr>\n",
       "      <th>11</th>\n",
       "      <td>1.625246</td>\n",
       "      <td>1.509013</td>\n",
       "      <td>1.214640</td>\n",
       "      <td>1.060288</td>\n",
       "      <td>3.955993</td>\n",
       "      <td>5.421997</td>\n",
       "      <td>1</td>\n",
       "    </tr>\n",
       "    <tr>\n",
       "      <th>78</th>\n",
       "      <td>-0.145216</td>\n",
       "      <td>-0.230368</td>\n",
       "      <td>-0.225623</td>\n",
       "      <td>-0.293949</td>\n",
       "      <td>1.334012</td>\n",
       "      <td>1.276816</td>\n",
       "      <td>0</td>\n",
       "    </tr>\n",
       "    <tr>\n",
       "      <th>136</th>\n",
       "      <td>-1.224766</td>\n",
       "      <td>-1.250174</td>\n",
       "      <td>-1.243991</td>\n",
       "      <td>-1.262126</td>\n",
       "      <td>0.640191</td>\n",
       "      <td>0.268829</td>\n",
       "      <td>0</td>\n",
       "    </tr>\n",
       "    <tr>\n",
       "      <th>98</th>\n",
       "      <td>-0.893992</td>\n",
       "      <td>-0.944233</td>\n",
       "      <td>-0.921205</td>\n",
       "      <td>-0.918384</td>\n",
       "      <td>-0.854323</td>\n",
       "      <td>-0.852126</td>\n",
       "      <td>1</td>\n",
       "    </tr>\n",
       "    <tr>\n",
       "      <th>69</th>\n",
       "      <td>-1.432903</td>\n",
       "      <td>-1.447609</td>\n",
       "      <td>-1.434935</td>\n",
       "      <td>-1.452997</td>\n",
       "      <td>-0.649818</td>\n",
       "      <td>-0.714713</td>\n",
       "      <td>0</td>\n",
       "    </tr>\n",
       "  </tbody>\n",
       "</table>\n",
       "<p>1400 rows × 7 columns</p>\n",
       "</div>"
      ],
      "text/plain": [
       "            1         2         3         4         5         6  label\n",
       "127  1.417109  1.338501  1.295564  1.150110 -0.509197 -0.364786      1\n",
       "25  -0.280808 -0.364983 -0.418385 -0.482230  1.551746  1.393881      0\n",
       "137 -1.347403 -1.346444 -1.353102 -1.368357 -0.632896 -0.697121      0\n",
       "112  1.074244  1.003189  1.083707  1.077561 -0.876081 -0.846032      1\n",
       "121  1.112244  0.979530  1.139172  1.090516 -0.839694 -0.800176      1\n",
       "..        ...       ...       ...       ...       ...       ...    ...\n",
       "11   1.625246  1.509013  1.214640  1.060288  3.955993  5.421997      1\n",
       "78  -0.145216 -0.230368 -0.225623 -0.293949  1.334012  1.276816      0\n",
       "136 -1.224766 -1.250174 -1.243991 -1.262126  0.640191  0.268829      0\n",
       "98  -0.893992 -0.944233 -0.921205 -0.918384 -0.854323 -0.852126      1\n",
       "69  -1.432903 -1.447609 -1.434935 -1.452997 -0.649818 -0.714713      0\n",
       "\n",
       "[1400 rows x 7 columns]"
      ]
     },
     "execution_count": 1412,
     "metadata": {},
     "output_type": "execute_result"
    }
   ],
   "source": [
    "data"
   ]
  },
  {
   "cell_type": "code",
   "execution_count": 1413,
   "id": "c64fca14",
   "metadata": {},
   "outputs": [],
   "source": [
    "Xtrain,Xtest,Ytrain,Ytest = train_test_split(data.iloc[:,[0,1,2,3,4,5]],data['label'],test_size=0.3,random_state=120)"
   ]
  },
  {
   "cell_type": "code",
   "execution_count": 1414,
   "id": "0e177050",
   "metadata": {},
   "outputs": [],
   "source": [
    "for i in [Xtrain,Xtest,Ytrain,Ytest]:\n",
    "    i.index = range(i.shape[0])"
   ]
  },
  {
   "cell_type": "code",
   "execution_count": 1415,
   "id": "7ae25935",
   "metadata": {},
   "outputs": [],
   "source": [
    "lr = LR(random_state=120).fit(Xtrain,Ytrain)"
   ]
  },
  {
   "cell_type": "code",
   "execution_count": 1416,
   "id": "747fb021",
   "metadata": {},
   "outputs": [
    {
     "data": {
      "text/plain": [
       "array([1, 1, 1, 0, 0, 1, 0, 0, 0, 0, 0, 1, 1, 0, 1, 1, 1, 1, 1, 1, 0, 0,\n",
       "       0, 1, 0, 1, 1, 1, 0, 0, 1, 1, 0, 0, 0, 1, 1, 0, 0, 0, 1, 0, 0, 1,\n",
       "       0, 1, 0, 1, 1, 1, 1, 1, 0, 0, 0, 1, 1, 0, 0, 1, 0, 1, 1, 1, 0, 0,\n",
       "       1, 0, 1, 0, 1, 1, 0, 1, 1, 1, 1, 0, 0, 1, 1, 1, 1, 1, 1, 1, 1, 1,\n",
       "       0, 1, 1, 0, 0, 1, 0, 0, 1, 1, 1, 0, 1, 0, 0, 0, 0, 0, 1, 0, 1, 0,\n",
       "       0, 1, 1, 1, 0, 1, 0, 0, 1, 1, 1, 1, 0, 0, 1, 1, 0, 1, 1, 1, 1, 1,\n",
       "       0, 0, 1, 1, 1, 1, 0, 0, 1, 0, 0, 1, 0, 1, 0, 1, 0, 0, 0, 0, 0, 0,\n",
       "       0, 0, 1, 1, 1, 1, 0, 0, 1, 1, 0, 0, 1, 0, 1, 1, 0, 1, 0, 1, 0, 1,\n",
       "       0, 1, 0, 0, 1, 0, 0, 0, 1, 1, 1, 0, 1, 1, 0, 1, 1, 0, 0, 0, 1, 0,\n",
       "       1, 1, 0, 1, 0, 1, 1, 1, 0, 1, 0, 0, 0, 0, 0, 0, 0, 1, 0, 1, 0, 1,\n",
       "       0, 1, 1, 1, 0, 1, 1, 1, 1, 0, 1, 1, 1, 1, 0, 0, 0, 1, 1, 0, 0, 1,\n",
       "       1, 1, 1, 1, 1, 1, 0, 1, 0, 0, 1, 1, 1, 0, 1, 0, 1, 1, 0, 1, 1, 1,\n",
       "       0, 0, 0, 1, 0, 1, 1, 0, 1, 1, 1, 1, 1, 1, 1, 1, 1, 1, 1, 0, 0, 1,\n",
       "       0, 1, 1, 1, 1, 1, 0, 1, 1, 0, 0, 0, 1, 0, 1, 0, 1, 1, 1, 1, 0, 0,\n",
       "       1, 0, 1, 1, 0, 1, 1, 0, 0, 1, 1, 0, 0, 0, 1, 1, 1, 0, 1, 0, 1, 1,\n",
       "       1, 0, 0, 0, 1, 0, 0, 0, 0, 1, 0, 0, 0, 0, 1, 0, 1, 0, 0, 0, 1, 0,\n",
       "       1, 1, 1, 1, 0, 0, 1, 1, 1, 0, 1, 0, 1, 1, 1, 0, 0, 1, 0, 1, 1, 0,\n",
       "       0, 0, 0, 0, 1, 0, 0, 0, 1, 1, 1, 1, 0, 1, 1, 0, 1, 0, 0, 0, 1, 1,\n",
       "       1, 1, 0, 1, 1, 1, 0, 0, 1, 0, 0, 1, 1, 0, 0, 1, 1, 1, 1, 0, 1, 0,\n",
       "       1, 1])"
      ]
     },
     "execution_count": 1416,
     "metadata": {},
     "output_type": "execute_result"
    }
   ],
   "source": [
    "lr.predict(Xtest)"
   ]
  },
  {
   "cell_type": "code",
   "execution_count": 1417,
   "id": "4bf4c1ba",
   "metadata": {},
   "outputs": [
    {
     "data": {
      "text/plain": [
       "0.8744897959183674"
      ]
     },
     "execution_count": 1417,
     "metadata": {},
     "output_type": "execute_result"
    }
   ],
   "source": [
    "lr.score(Xtrain,Ytrain)"
   ]
  },
  {
   "cell_type": "code",
   "execution_count": 1418,
   "id": "8817dd54",
   "metadata": {},
   "outputs": [
    {
     "data": {
      "text/plain": [
       "0.8523809523809524"
      ]
     },
     "execution_count": 1418,
     "metadata": {},
     "output_type": "execute_result"
    }
   ],
   "source": [
    "lr.score(Xtest,Ytest)"
   ]
  },
  {
   "cell_type": "code",
   "execution_count": 1419,
   "id": "4ffab69d",
   "metadata": {},
   "outputs": [
    {
     "data": {
      "text/plain": [
       "0.8877551020408163"
      ]
     },
     "execution_count": 1419,
     "metadata": {},
     "output_type": "execute_result"
    }
   ],
   "source": [
    "svc = SVC().fit(Xtrain,Ytrain)\n",
    "svc.score(Xtrain,Ytrain)"
   ]
  },
  {
   "cell_type": "code",
   "execution_count": 1420,
   "id": "476b41b4",
   "metadata": {},
   "outputs": [
    {
     "data": {
      "text/plain": [
       "0.8666666666666667"
      ]
     },
     "execution_count": 1420,
     "metadata": {},
     "output_type": "execute_result"
    }
   ],
   "source": [
    "svc.score(Xtest,Ytest)"
   ]
  },
  {
   "cell_type": "code",
   "execution_count": 1421,
   "id": "8ebafd27",
   "metadata": {},
   "outputs": [],
   "source": [
    "# 单变量特征衍生\n",
    "poly = PolynomialFeatures(degree=3).fit(Xtrain)\n",
    "Xtrain_ = poly.transform(Xtrain)\n",
    "Xtest_ = poly.transform(Xtest)"
   ]
  },
  {
   "cell_type": "code",
   "execution_count": 1422,
   "id": "975e9405",
   "metadata": {},
   "outputs": [
    {
     "data": {
      "text/plain": [
       "(980, 84)"
      ]
     },
     "execution_count": 1422,
     "metadata": {},
     "output_type": "execute_result"
    }
   ],
   "source": [
    "Xtrain_.shape"
   ]
  },
  {
   "cell_type": "code",
   "execution_count": 1423,
   "id": "0ce568a6",
   "metadata": {},
   "outputs": [],
   "source": [
    "Xtrain_ = torch.tensor(Xtrain_,dtype=torch.float32)\n",
    "Ytrain_ = torch.tensor(np.array(Ytrain).reshape(-1,1),dtype=torch.float32)\n",
    "dataset = TensorDataset(Xtrain_,Ytrain_)"
   ]
  },
  {
   "cell_type": "code",
   "execution_count": 1424,
   "id": "409ad8b5",
   "metadata": {},
   "outputs": [
    {
     "name": "stdout",
     "output_type": "stream",
     "text": [
      "(tensor([ 1.0000, -1.2161, -1.2233, -1.2331, -1.2621, -0.4925, -0.5834,  1.4790,\n",
      "         1.4876,  1.4996,  1.5349,  0.5990,  0.7095,  1.4963,  1.5084,  1.5439,\n",
      "         0.6025,  0.7137,  1.5205,  1.5563,  0.6073,  0.7194,  1.5930,  0.6216,\n",
      "         0.7364,  0.2426,  0.2873,  0.3404, -1.7986, -1.8092, -1.8237, -1.8666,\n",
      "        -0.7284, -0.8629, -1.8197, -1.8344, -1.8776, -0.7327, -0.8679, -1.8491,\n",
      "        -1.8927, -0.7386, -0.8749, -1.9372, -0.7560, -0.8955, -0.2950, -0.3495,\n",
      "        -0.4140, -1.8304, -1.8451, -1.8886, -0.7370, -0.8730, -1.8599, -1.9037,\n",
      "        -0.7429, -0.8800, -1.9486, -0.7604, -0.9008, -0.2967, -0.3515, -0.4164,\n",
      "        -1.8749, -1.9190, -0.7489, -0.8871, -1.9642, -0.7665, -0.9080, -0.2991,\n",
      "        -0.3543, -0.4197, -2.0105, -0.7846, -0.9294, -0.3061, -0.3627, -0.4296,\n",
      "        -0.1195, -0.1415, -0.1676, -0.1986]), tensor([0.]))\n"
     ]
    }
   ],
   "source": [
    "for i in dataset:\n",
    "    print(i)\n",
    "    break"
   ]
  },
  {
   "cell_type": "code",
   "execution_count": 1425,
   "id": "5986ee33",
   "metadata": {},
   "outputs": [],
   "source": [
    "data = DataLoader(dataset\n",
    "          ,batch_size = 98\n",
    "          ,shuffle = True # 划分小批量之前随机打乱数据\n",
    "          ,drop_last = False # 是否舍弃最后一个batch\n",
    "          )"
   ]
  },
  {
   "cell_type": "code",
   "execution_count": 1426,
   "id": "97fe7c0d",
   "metadata": {},
   "outputs": [
    {
     "data": {
      "text/plain": [
       "<torch.utils.data.dataloader.DataLoader at 0x7f9b21fe9450>"
      ]
     },
     "execution_count": 1426,
     "metadata": {},
     "output_type": "execute_result"
    }
   ],
   "source": [
    "data"
   ]
  },
  {
   "cell_type": "code",
   "execution_count": 1427,
   "id": "07b7174d",
   "metadata": {},
   "outputs": [
    {
     "name": "stdout",
     "output_type": "stream",
     "text": [
      "<class 'torch.Tensor'>\n"
     ]
    }
   ],
   "source": [
    "for i in data:\n",
    "    print(type(i[1][0]))\n",
    "    break"
   ]
  },
  {
   "cell_type": "code",
   "execution_count": 1428,
   "id": "1d556267",
   "metadata": {},
   "outputs": [],
   "source": [
    "class Getfeature(nn.Module):\n",
    "    def __init__(self,input_size,hidden_size,output_size,output):\n",
    "        super(Getfeature,self).__init__()\n",
    "        self.linear1 = nn.Linear(input_size,hidden_size)\n",
    "        self.linear2 = nn.Linear(hidden_size,hidden_size)\n",
    "        self.bn = nn.BatchNorm1d(hidden_size)\n",
    "        self.linear3 = nn.Linear(hidden_size,output_size)\n",
    "        self.output = nn.Linear(output_size,output)\n",
    "    def forward(self,X):\n",
    "        x = self.linear1(X)\n",
    "        x = torch.tanh(self.linear2(x))\n",
    "        x = self.bn(x)\n",
    "        x = self.linear3(x)\n",
    "        x = torch.sigmoid(self.output(x))\n",
    "        return x"
   ]
  },
  {
   "cell_type": "code",
   "execution_count": 1429,
   "id": "13972168",
   "metadata": {},
   "outputs": [],
   "source": [
    "gf = Getfeature(84,100,15,1)"
   ]
  },
  {
   "cell_type": "code",
   "execution_count": 1430,
   "id": "b2e68ad7",
   "metadata": {},
   "outputs": [],
   "source": [
    "X = data.dataset[:2][0]"
   ]
  },
  {
   "cell_type": "code",
   "execution_count": 1431,
   "id": "8cc61a2a",
   "metadata": {},
   "outputs": [
    {
     "data": {
      "text/plain": [
       "tensor([[ 1.0000e+00, -1.2161e+00, -1.2233e+00, -1.2331e+00, -1.2621e+00,\n",
       "         -4.9251e-01, -5.8343e-01,  1.4790e+00,  1.4876e+00,  1.4996e+00,\n",
       "          1.5349e+00,  5.9896e-01,  7.0953e-01,  1.4963e+00,  1.5084e+00,\n",
       "          1.5439e+00,  6.0246e-01,  7.1369e-01,  1.5205e+00,  1.5563e+00,\n",
       "          6.0730e-01,  7.1942e-01,  1.5930e+00,  6.2161e-01,  7.3637e-01,\n",
       "          2.4257e-01,  2.8735e-01,  3.4040e-01, -1.7986e+00, -1.8092e+00,\n",
       "         -1.8237e+00, -1.8666e+00, -7.2841e-01, -8.6288e-01, -1.8197e+00,\n",
       "         -1.8344e+00, -1.8776e+00, -7.3267e-01, -8.6794e-01, -1.8491e+00,\n",
       "         -1.8927e+00, -7.3856e-01, -8.7491e-01, -1.9372e+00, -7.5596e-01,\n",
       "         -8.9552e-01, -2.9499e-01, -3.4945e-01, -4.1397e-01, -1.8304e+00,\n",
       "         -1.8451e+00, -1.8886e+00, -7.3697e-01, -8.7302e-01, -1.8599e+00,\n",
       "         -1.9037e+00, -7.4289e-01, -8.8003e-01, -1.9486e+00, -7.6039e-01,\n",
       "         -9.0076e-01, -2.9672e-01, -3.5150e-01, -4.1639e-01, -1.8749e+00,\n",
       "         -1.9190e+00, -7.4886e-01, -8.8710e-01, -1.9642e+00, -7.6649e-01,\n",
       "         -9.0800e-01, -2.9910e-01, -3.5432e-01, -4.1974e-01, -2.0105e+00,\n",
       "         -7.8455e-01, -9.2939e-01, -3.0615e-01, -3.6267e-01, -4.2962e-01,\n",
       "         -1.1947e-01, -1.4152e-01, -1.6765e-01, -1.9860e-01],\n",
       "        [ 1.0000e+00,  1.5225e+00,  1.3532e+00,  9.9278e-01,  1.0059e+00,\n",
       "         -1.6572e-01,  4.5029e-02,  2.3179e+00,  2.0602e+00,  1.5115e+00,\n",
       "          1.5314e+00, -2.5231e-01,  6.8556e-02,  1.8311e+00,  1.3434e+00,\n",
       "          1.3611e+00, -2.2425e-01,  6.0933e-02,  9.8561e-01,  9.9862e-01,\n",
       "         -1.6452e-01,  4.4704e-02,  1.0118e+00, -1.6670e-01,  4.5294e-02,\n",
       "          2.7464e-02, -7.4623e-03,  2.0276e-03,  3.5290e+00,  3.1366e+00,\n",
       "          2.3012e+00,  2.3315e+00, -3.8413e-01,  1.0437e-01,  2.7878e+00,\n",
       "          2.0453e+00,  2.0723e+00, -3.4142e-01,  9.2769e-02,  1.5006e+00,\n",
       "          1.5204e+00, -2.5048e-01,  6.8061e-02,  1.5404e+00, -2.5379e-01,\n",
       "          6.8959e-02,  4.1812e-02, -1.1361e-02,  3.0870e-03,  2.4778e+00,\n",
       "          1.8179e+00,  1.8419e+00, -3.0345e-01,  8.2454e-02,  1.3337e+00,\n",
       "          1.3513e+00, -2.2263e-01,  6.0493e-02,  1.3691e+00, -2.2557e-01,\n",
       "          6.1291e-02,  3.7163e-02, -1.0098e-02,  2.7438e-03,  9.7850e-01,\n",
       "          9.9141e-01, -1.6334e-01,  4.4382e-02,  1.0045e+00, -1.6549e-01,\n",
       "          4.4967e-02,  2.7265e-02, -7.4085e-03,  2.0130e-03,  1.0177e+00,\n",
       "         -1.6767e-01,  4.5560e-02,  2.7625e-02, -7.5062e-03,  2.0396e-03,\n",
       "         -4.5513e-03,  1.2367e-03, -3.3602e-04,  9.1303e-05]])"
      ]
     },
     "execution_count": 1431,
     "metadata": {},
     "output_type": "execute_result"
    }
   ],
   "source": [
    "X"
   ]
  },
  {
   "cell_type": "code",
   "execution_count": 1432,
   "id": "dbb7b88b",
   "metadata": {},
   "outputs": [
    {
     "data": {
      "text/plain": [
       "tensor([[0.5011],\n",
       "        [0.4147]], grad_fn=<SigmoidBackward0>)"
      ]
     },
     "execution_count": 1432,
     "metadata": {},
     "output_type": "execute_result"
    }
   ],
   "source": [
    "gf.train()\n",
    "gf.forward(X)"
   ]
  },
  {
   "cell_type": "code",
   "execution_count": 1433,
   "id": "5ad28c33",
   "metadata": {},
   "outputs": [],
   "source": [
    "# 定义训练函数\n",
    "def fit(gf,data,lr=0.15,epochs=50,gamma=0):\n",
    "    criterion = nn.BCEWithLogitsLoss()\n",
    "    opt = optim.SGD(gf.parameters(),lr = lr,momentum=gamma)\n",
    "    for epoch in range(epochs):\n",
    "        correct = 0 \n",
    "        samples = 0 \n",
    "        losses = 0\n",
    "        for batch_idx,(x,y) in enumerate(data):  \n",
    "            sigma = gf.forward(x) \n",
    "            loss = criterion(sigma,y)\n",
    "            loss.backward()\n",
    "            opt.step()\n",
    "            opt.zero_grad()\n",
    "\n",
    "            yhat = torch.tensor([1 if i[0]>0.45 else 0 for i in sigma])\n",
    "            losses += loss\n",
    "            correct += torch.sum((yhat==y.reshape(-1)))\n",
    "            samples += x.shape[0]\n",
    "        \n",
    "#     print(yhat,y,correct,samples,correct/samples,loss)\n",
    "        print('Epoch{},Loss:{:.6f},Accurcay:{:.3f}'.format((epoch+1),losses,correct/samples))"
   ]
  },
  {
   "cell_type": "code",
   "execution_count": 1434,
   "id": "81ef277d",
   "metadata": {},
   "outputs": [
    {
     "name": "stdout",
     "output_type": "stream",
     "text": [
      "Epoch1,Loss:6.598053,Accurcay:0.738\n",
      "Epoch2,Loss:6.280297,Accurcay:0.729\n",
      "Epoch3,Loss:6.147192,Accurcay:0.741\n",
      "Epoch4,Loss:6.044327,Accurcay:0.749\n",
      "Epoch5,Loss:5.970423,Accurcay:0.809\n",
      "Epoch6,Loss:5.894012,Accurcay:0.848\n",
      "Epoch7,Loss:5.815838,Accurcay:0.856\n",
      "Epoch8,Loss:5.779888,Accurcay:0.865\n",
      "Epoch9,Loss:5.738256,Accurcay:0.867\n",
      "Epoch10,Loss:5.715981,Accurcay:0.862\n",
      "Epoch11,Loss:5.667129,Accurcay:0.873\n",
      "Epoch12,Loss:5.665441,Accurcay:0.868\n",
      "Epoch13,Loss:5.630765,Accurcay:0.872\n",
      "Epoch14,Loss:5.657976,Accurcay:0.865\n",
      "Epoch15,Loss:5.641186,Accurcay:0.881\n",
      "Epoch16,Loss:5.638784,Accurcay:0.869\n",
      "Epoch17,Loss:5.633310,Accurcay:0.867\n",
      "Epoch18,Loss:5.598786,Accurcay:0.886\n",
      "Epoch19,Loss:5.608121,Accurcay:0.876\n",
      "Epoch20,Loss:5.604112,Accurcay:0.890\n",
      "Epoch21,Loss:5.580288,Accurcay:0.886\n",
      "Epoch22,Loss:5.624419,Accurcay:0.884\n",
      "Epoch23,Loss:5.584126,Accurcay:0.878\n",
      "Epoch24,Loss:5.604734,Accurcay:0.878\n",
      "Epoch25,Loss:5.582887,Accurcay:0.878\n",
      "Epoch26,Loss:5.578236,Accurcay:0.885\n",
      "Epoch27,Loss:5.555634,Accurcay:0.895\n",
      "Epoch28,Loss:5.598147,Accurcay:0.879\n",
      "Epoch29,Loss:5.569513,Accurcay:0.886\n",
      "Epoch30,Loss:5.569553,Accurcay:0.887\n",
      "Epoch31,Loss:5.576674,Accurcay:0.890\n",
      "Epoch32,Loss:5.577436,Accurcay:0.886\n",
      "Epoch33,Loss:5.585525,Accurcay:0.887\n",
      "Epoch34,Loss:5.555494,Accurcay:0.884\n",
      "Epoch35,Loss:5.584013,Accurcay:0.881\n",
      "Epoch36,Loss:5.563364,Accurcay:0.890\n",
      "Epoch37,Loss:5.568133,Accurcay:0.886\n",
      "Epoch38,Loss:5.555518,Accurcay:0.891\n",
      "Epoch39,Loss:5.512204,Accurcay:0.900\n",
      "Epoch40,Loss:5.555156,Accurcay:0.890\n",
      "Epoch41,Loss:5.554713,Accurcay:0.889\n",
      "Epoch42,Loss:5.587371,Accurcay:0.883\n",
      "Epoch43,Loss:5.578338,Accurcay:0.884\n",
      "Epoch44,Loss:5.570166,Accurcay:0.881\n",
      "Epoch45,Loss:5.551286,Accurcay:0.884\n",
      "Epoch46,Loss:5.536046,Accurcay:0.891\n",
      "Epoch47,Loss:5.533092,Accurcay:0.891\n",
      "Epoch48,Loss:5.535456,Accurcay:0.892\n",
      "Epoch49,Loss:5.538884,Accurcay:0.887\n",
      "Epoch50,Loss:5.574701,Accurcay:0.878\n"
     ]
    }
   ],
   "source": [
    "fit(gf,data)"
   ]
  },
  {
   "cell_type": "code",
   "execution_count": 1435,
   "id": "eb3ff2b3",
   "metadata": {},
   "outputs": [
    {
     "data": {
      "text/plain": [
       "[Getfeature(\n",
       "   (linear1): Linear(in_features=84, out_features=100, bias=True)\n",
       "   (linear2): Linear(in_features=100, out_features=100, bias=True)\n",
       "   (bn): BatchNorm1d(100, eps=1e-05, momentum=0.1, affine=True, track_running_stats=True)\n",
       "   (linear3): Linear(in_features=100, out_features=15, bias=True)\n",
       "   (output): Linear(in_features=15, out_features=1, bias=True)\n",
       " ),\n",
       " Linear(in_features=84, out_features=100, bias=True),\n",
       " Linear(in_features=100, out_features=100, bias=True),\n",
       " BatchNorm1d(100, eps=1e-05, momentum=0.1, affine=True, track_running_stats=True),\n",
       " Linear(in_features=100, out_features=15, bias=True),\n",
       " Linear(in_features=15, out_features=1, bias=True)]"
      ]
     },
     "execution_count": 1435,
     "metadata": {},
     "output_type": "execute_result"
    }
   ],
   "source": [
    "gf.eval()\n",
    "list(gf.modules())"
   ]
  },
  {
   "cell_type": "code",
   "execution_count": 1436,
   "id": "76bfdaff",
   "metadata": {},
   "outputs": [],
   "source": [
    "dat = torch.tensor(Xtest_,dtype = torch.float32)"
   ]
  },
  {
   "cell_type": "code",
   "execution_count": 1437,
   "id": "a507d23d",
   "metadata": {},
   "outputs": [],
   "source": [
    "# for i in list(gf.modules()):\n",
    "#     print(list(i.parameters()))\n",
    "#     break\n",
    "\n",
    "# list(list(gf.modules())[1].parameters())[0].shape\n",
    "\n",
    "# list(list(gf.modules())[1].parameters())[1].shape\n",
    "\n",
    "# weight1 = list(list(gf.modules())[1].parameters())[0].T\n",
    "# bias1 = list(list(gf.modules())[1].parameters())[1]\n",
    "\n",
    "# torch.tensor(Xtest_).shape\n",
    "\n",
    "# dat = torch.tensor(Xtest_,dtype = torch.float32)\n",
    "\n",
    "# dat1 = torch.mm(dat,weight1)+bias1\n",
    "\n",
    "# dat1.shape\n",
    "\n",
    "# weight2 = list(list(gf.modules())[2].parameters())[0].T\n",
    "# bias2 = list(list(gf.modules())[2].parameters())[1]\n",
    "\n",
    "# dat2 = torch.mm(dat1,weight2)+bias2\n",
    "\n",
    "# dat2.shape\n",
    "\n",
    "# list(list(gf.modules())[3].parameters())[0].shape"
   ]
  },
  {
   "cell_type": "code",
   "execution_count": 1438,
   "id": "27df0054",
   "metadata": {},
   "outputs": [],
   "source": [
    "dat1 = list(gf.modules())[1](dat)"
   ]
  },
  {
   "cell_type": "code",
   "execution_count": 1439,
   "id": "45a55a81",
   "metadata": {},
   "outputs": [],
   "source": [
    "dat2 = list(gf.modules())[2](dat1)"
   ]
  },
  {
   "cell_type": "code",
   "execution_count": 1440,
   "id": "26dde85f",
   "metadata": {},
   "outputs": [],
   "source": [
    "dat3 = list(gf.modules())[3](dat2)"
   ]
  },
  {
   "cell_type": "code",
   "execution_count": 1441,
   "id": "37f06792",
   "metadata": {},
   "outputs": [],
   "source": [
    "dat4 = list(gf.modules())[4](dat3)"
   ]
  },
  {
   "cell_type": "code",
   "execution_count": 1442,
   "id": "7be6ebc5",
   "metadata": {},
   "outputs": [
    {
     "data": {
      "text/plain": [
       "torch.Size([420, 15])"
      ]
     },
     "execution_count": 1442,
     "metadata": {},
     "output_type": "execute_result"
    }
   ],
   "source": [
    "dat4.shape"
   ]
  },
  {
   "cell_type": "code",
   "execution_count": 1468,
   "id": "5ad651ec",
   "metadata": {},
   "outputs": [
    {
     "data": {
      "text/plain": [
       "array([[  0.33678725,   1.2147797 ,  -1.8703812 , ...,  -0.1339539 ,\n",
       "          0.63768244,   2.3393173 ],\n",
       "       [  1.709277  ,  10.241258  , -17.654549  , ...,  -5.387746  ,\n",
       "          7.779695  ,  22.941868  ],\n",
       "       [  0.28931928,   0.49153712,  -0.9538698 , ...,   0.3229857 ,\n",
       "         -0.0859854 ,   1.3165612 ],\n",
       "       ...,\n",
       "       [ -0.45946926,  -2.4572227 ,   4.953645  , ...,   0.10296358,\n",
       "         -1.4048275 ,  -5.490488  ],\n",
       "       [  0.2566309 ,  -0.24687657,   0.6112071 , ...,  -0.10662124,\n",
       "         -0.1264737 ,  -0.16592996],\n",
       "       [ -0.5538189 ,   1.6360751 ,  -2.6526732 , ...,   0.38995802,\n",
       "          0.0685605 ,   2.4589372 ]], dtype=float32)"
      ]
     },
     "execution_count": 1468,
     "metadata": {},
     "output_type": "execute_result"
    }
   ],
   "source": [
    "pd.DataFrame(np.array(dat4.data)"
   ]
  },
  {
   "cell_type": "code",
   "execution_count": 1444,
   "id": "f5a3b520",
   "metadata": {},
   "outputs": [],
   "source": [
    "dats = Xtrain_"
   ]
  },
  {
   "cell_type": "code",
   "execution_count": 1445,
   "id": "59b8ba35",
   "metadata": {},
   "outputs": [],
   "source": [
    "dats1 = list(gf.modules())[1](dats)\n",
    "dats2 = list(gf.modules())[2](dats1)\n",
    "dats3 = list(gf.modules())[3](dats2)\n",
    "dats4 = list(gf.modules())[4](dats3)"
   ]
  },
  {
   "cell_type": "code",
   "execution_count": 1446,
   "id": "c5a172f4",
   "metadata": {},
   "outputs": [
    {
     "data": {
      "text/plain": [
       "torch.Size([980, 15])"
      ]
     },
     "execution_count": 1446,
     "metadata": {},
     "output_type": "execute_result"
    }
   ],
   "source": [
    "dats4.data.shape"
   ]
  },
  {
   "cell_type": "code",
   "execution_count": 1447,
   "id": "bee2a6e5",
   "metadata": {},
   "outputs": [],
   "source": [
    "datas_train = pd.concat([pd.DataFrame(np.array(dats4.data)),Ytrain],axis=1)"
   ]
  },
  {
   "cell_type": "code",
   "execution_count": 1448,
   "id": "6f91aa49",
   "metadata": {},
   "outputs": [
    {
     "data": {
      "text/html": [
       "<div>\n",
       "<style scoped>\n",
       "    .dataframe tbody tr th:only-of-type {\n",
       "        vertical-align: middle;\n",
       "    }\n",
       "\n",
       "    .dataframe tbody tr th {\n",
       "        vertical-align: top;\n",
       "    }\n",
       "\n",
       "    .dataframe thead th {\n",
       "        text-align: right;\n",
       "    }\n",
       "</style>\n",
       "<table border=\"1\" class=\"dataframe\">\n",
       "  <thead>\n",
       "    <tr style=\"text-align: right;\">\n",
       "      <th></th>\n",
       "      <th>0</th>\n",
       "      <th>1</th>\n",
       "      <th>2</th>\n",
       "      <th>3</th>\n",
       "      <th>4</th>\n",
       "      <th>5</th>\n",
       "      <th>6</th>\n",
       "      <th>7</th>\n",
       "      <th>8</th>\n",
       "      <th>9</th>\n",
       "      <th>10</th>\n",
       "      <th>11</th>\n",
       "      <th>12</th>\n",
       "      <th>13</th>\n",
       "      <th>14</th>\n",
       "      <th>label</th>\n",
       "    </tr>\n",
       "  </thead>\n",
       "  <tbody>\n",
       "    <tr>\n",
       "      <th>0</th>\n",
       "      <td>-0.749492</td>\n",
       "      <td>-1.630283</td>\n",
       "      <td>3.728924</td>\n",
       "      <td>0.707327</td>\n",
       "      <td>-2.523062</td>\n",
       "      <td>-0.710867</td>\n",
       "      <td>-1.049910</td>\n",
       "      <td>1.671355</td>\n",
       "      <td>-0.973223</td>\n",
       "      <td>2.373166</td>\n",
       "      <td>3.466010</td>\n",
       "      <td>-2.492012</td>\n",
       "      <td>0.179460</td>\n",
       "      <td>-1.182197</td>\n",
       "      <td>-4.548065</td>\n",
       "      <td>0</td>\n",
       "    </tr>\n",
       "    <tr>\n",
       "      <th>1</th>\n",
       "      <td>0.336100</td>\n",
       "      <td>0.429284</td>\n",
       "      <td>-0.855268</td>\n",
       "      <td>-0.483233</td>\n",
       "      <td>0.135230</td>\n",
       "      <td>0.714248</td>\n",
       "      <td>0.274540</td>\n",
       "      <td>-0.266729</td>\n",
       "      <td>0.809731</td>\n",
       "      <td>-1.593975</td>\n",
       "      <td>-0.861590</td>\n",
       "      <td>1.120774</td>\n",
       "      <td>-0.731529</td>\n",
       "      <td>0.691872</td>\n",
       "      <td>1.684818</td>\n",
       "      <td>1</td>\n",
       "    </tr>\n",
       "    <tr>\n",
       "      <th>2</th>\n",
       "      <td>-0.397218</td>\n",
       "      <td>2.075490</td>\n",
       "      <td>-3.666024</td>\n",
       "      <td>-0.252531</td>\n",
       "      <td>1.951885</td>\n",
       "      <td>-0.164355</td>\n",
       "      <td>1.212798</td>\n",
       "      <td>-2.299607</td>\n",
       "      <td>0.844968</td>\n",
       "      <td>-1.763271</td>\n",
       "      <td>-3.098124</td>\n",
       "      <td>3.061130</td>\n",
       "      <td>0.429305</td>\n",
       "      <td>0.270849</td>\n",
       "      <td>3.697443</td>\n",
       "      <td>1</td>\n",
       "    </tr>\n",
       "    <tr>\n",
       "      <th>3</th>\n",
       "      <td>0.483714</td>\n",
       "      <td>-6.588811</td>\n",
       "      <td>7.505974</td>\n",
       "      <td>-1.786843</td>\n",
       "      <td>-4.630233</td>\n",
       "      <td>-1.998383</td>\n",
       "      <td>-2.104033</td>\n",
       "      <td>4.063018</td>\n",
       "      <td>-2.267924</td>\n",
       "      <td>6.744471</td>\n",
       "      <td>6.615174</td>\n",
       "      <td>-5.589340</td>\n",
       "      <td>0.352250</td>\n",
       "      <td>-2.195503</td>\n",
       "      <td>-10.965594</td>\n",
       "      <td>0</td>\n",
       "    </tr>\n",
       "    <tr>\n",
       "      <th>4</th>\n",
       "      <td>0.350289</td>\n",
       "      <td>-1.150948</td>\n",
       "      <td>2.224948</td>\n",
       "      <td>0.432694</td>\n",
       "      <td>-0.756265</td>\n",
       "      <td>-0.399705</td>\n",
       "      <td>-0.456598</td>\n",
       "      <td>1.399052</td>\n",
       "      <td>-0.784067</td>\n",
       "      <td>1.139703</td>\n",
       "      <td>2.059972</td>\n",
       "      <td>-1.806142</td>\n",
       "      <td>0.141906</td>\n",
       "      <td>-0.937728</td>\n",
       "      <td>-2.197423</td>\n",
       "      <td>0</td>\n",
       "    </tr>\n",
       "    <tr>\n",
       "      <th>...</th>\n",
       "      <td>...</td>\n",
       "      <td>...</td>\n",
       "      <td>...</td>\n",
       "      <td>...</td>\n",
       "      <td>...</td>\n",
       "      <td>...</td>\n",
       "      <td>...</td>\n",
       "      <td>...</td>\n",
       "      <td>...</td>\n",
       "      <td>...</td>\n",
       "      <td>...</td>\n",
       "      <td>...</td>\n",
       "      <td>...</td>\n",
       "      <td>...</td>\n",
       "      <td>...</td>\n",
       "      <td>...</td>\n",
       "    </tr>\n",
       "    <tr>\n",
       "      <th>975</th>\n",
       "      <td>-1.116891</td>\n",
       "      <td>-4.060925</td>\n",
       "      <td>8.475224</td>\n",
       "      <td>1.331701</td>\n",
       "      <td>-5.324910</td>\n",
       "      <td>-1.190439</td>\n",
       "      <td>-2.344411</td>\n",
       "      <td>4.321236</td>\n",
       "      <td>-2.150110</td>\n",
       "      <td>5.078105</td>\n",
       "      <td>7.742535</td>\n",
       "      <td>-5.959800</td>\n",
       "      <td>0.127378</td>\n",
       "      <td>-2.223734</td>\n",
       "      <td>-9.913884</td>\n",
       "      <td>0</td>\n",
       "    </tr>\n",
       "    <tr>\n",
       "      <th>976</th>\n",
       "      <td>0.273700</td>\n",
       "      <td>-0.602456</td>\n",
       "      <td>1.313533</td>\n",
       "      <td>0.381458</td>\n",
       "      <td>-0.521507</td>\n",
       "      <td>0.204693</td>\n",
       "      <td>-0.308919</td>\n",
       "      <td>0.841713</td>\n",
       "      <td>-0.240764</td>\n",
       "      <td>0.133659</td>\n",
       "      <td>1.026918</td>\n",
       "      <td>-0.864384</td>\n",
       "      <td>-0.143895</td>\n",
       "      <td>-0.219856</td>\n",
       "      <td>-0.857039</td>\n",
       "      <td>0</td>\n",
       "    </tr>\n",
       "    <tr>\n",
       "      <th>977</th>\n",
       "      <td>0.247830</td>\n",
       "      <td>0.410682</td>\n",
       "      <td>-0.731119</td>\n",
       "      <td>0.054817</td>\n",
       "      <td>0.568186</td>\n",
       "      <td>0.064612</td>\n",
       "      <td>0.263497</td>\n",
       "      <td>-0.424404</td>\n",
       "      <td>0.076330</td>\n",
       "      <td>-0.406075</td>\n",
       "      <td>-0.648685</td>\n",
       "      <td>0.380968</td>\n",
       "      <td>0.300625</td>\n",
       "      <td>-0.172093</td>\n",
       "      <td>0.970995</td>\n",
       "      <td>1</td>\n",
       "    </tr>\n",
       "    <tr>\n",
       "      <th>978</th>\n",
       "      <td>-1.200336</td>\n",
       "      <td>-1.485246</td>\n",
       "      <td>3.945506</td>\n",
       "      <td>0.813248</td>\n",
       "      <td>-2.727261</td>\n",
       "      <td>-0.983967</td>\n",
       "      <td>-1.117261</td>\n",
       "      <td>1.434597</td>\n",
       "      <td>-1.067081</td>\n",
       "      <td>2.654791</td>\n",
       "      <td>3.775422</td>\n",
       "      <td>-2.372539</td>\n",
       "      <td>0.209811</td>\n",
       "      <td>-1.297749</td>\n",
       "      <td>-5.114480</td>\n",
       "      <td>0</td>\n",
       "    </tr>\n",
       "    <tr>\n",
       "      <th>979</th>\n",
       "      <td>10.323687</td>\n",
       "      <td>61.053368</td>\n",
       "      <td>-121.320740</td>\n",
       "      <td>-20.900528</td>\n",
       "      <td>55.377041</td>\n",
       "      <td>20.590126</td>\n",
       "      <td>29.112627</td>\n",
       "      <td>-63.750587</td>\n",
       "      <td>37.231472</td>\n",
       "      <td>-85.693939</td>\n",
       "      <td>-111.820839</td>\n",
       "      <td>93.341454</td>\n",
       "      <td>-19.170172</td>\n",
       "      <td>39.413063</td>\n",
       "      <td>146.842697</td>\n",
       "      <td>1</td>\n",
       "    </tr>\n",
       "  </tbody>\n",
       "</table>\n",
       "<p>980 rows × 16 columns</p>\n",
       "</div>"
      ],
      "text/plain": [
       "             0          1           2          3          4          5  \\\n",
       "0    -0.749492  -1.630283    3.728924   0.707327  -2.523062  -0.710867   \n",
       "1     0.336100   0.429284   -0.855268  -0.483233   0.135230   0.714248   \n",
       "2    -0.397218   2.075490   -3.666024  -0.252531   1.951885  -0.164355   \n",
       "3     0.483714  -6.588811    7.505974  -1.786843  -4.630233  -1.998383   \n",
       "4     0.350289  -1.150948    2.224948   0.432694  -0.756265  -0.399705   \n",
       "..         ...        ...         ...        ...        ...        ...   \n",
       "975  -1.116891  -4.060925    8.475224   1.331701  -5.324910  -1.190439   \n",
       "976   0.273700  -0.602456    1.313533   0.381458  -0.521507   0.204693   \n",
       "977   0.247830   0.410682   -0.731119   0.054817   0.568186   0.064612   \n",
       "978  -1.200336  -1.485246    3.945506   0.813248  -2.727261  -0.983967   \n",
       "979  10.323687  61.053368 -121.320740 -20.900528  55.377041  20.590126   \n",
       "\n",
       "             6          7          8          9          10         11  \\\n",
       "0    -1.049910   1.671355  -0.973223   2.373166    3.466010  -2.492012   \n",
       "1     0.274540  -0.266729   0.809731  -1.593975   -0.861590   1.120774   \n",
       "2     1.212798  -2.299607   0.844968  -1.763271   -3.098124   3.061130   \n",
       "3    -2.104033   4.063018  -2.267924   6.744471    6.615174  -5.589340   \n",
       "4    -0.456598   1.399052  -0.784067   1.139703    2.059972  -1.806142   \n",
       "..         ...        ...        ...        ...         ...        ...   \n",
       "975  -2.344411   4.321236  -2.150110   5.078105    7.742535  -5.959800   \n",
       "976  -0.308919   0.841713  -0.240764   0.133659    1.026918  -0.864384   \n",
       "977   0.263497  -0.424404   0.076330  -0.406075   -0.648685   0.380968   \n",
       "978  -1.117261   1.434597  -1.067081   2.654791    3.775422  -2.372539   \n",
       "979  29.112627 -63.750587  37.231472 -85.693939 -111.820839  93.341454   \n",
       "\n",
       "            12         13          14  label  \n",
       "0     0.179460  -1.182197   -4.548065      0  \n",
       "1    -0.731529   0.691872    1.684818      1  \n",
       "2     0.429305   0.270849    3.697443      1  \n",
       "3     0.352250  -2.195503  -10.965594      0  \n",
       "4     0.141906  -0.937728   -2.197423      0  \n",
       "..         ...        ...         ...    ...  \n",
       "975   0.127378  -2.223734   -9.913884      0  \n",
       "976  -0.143895  -0.219856   -0.857039      0  \n",
       "977   0.300625  -0.172093    0.970995      1  \n",
       "978   0.209811  -1.297749   -5.114480      0  \n",
       "979 -19.170172  39.413063  146.842697      1  \n",
       "\n",
       "[980 rows x 16 columns]"
      ]
     },
     "execution_count": 1448,
     "metadata": {},
     "output_type": "execute_result"
    }
   ],
   "source": [
    "datas_train"
   ]
  },
  {
   "cell_type": "code",
   "execution_count": 1449,
   "id": "cbf9051c",
   "metadata": {},
   "outputs": [],
   "source": [
    "datas_test = pd.concat([pd.DataFrame(np.array(dat4.data)),Ytest],axis=1)"
   ]
  },
  {
   "cell_type": "code",
   "execution_count": 1493,
   "id": "39a49396",
   "metadata": {},
   "outputs": [],
   "source": [
    "datas_test.head(10).to_csv('/Users/yangzhou/Desktop/train.csv')"
   ]
  },
  {
   "cell_type": "code",
   "execution_count": 1451,
   "id": "83016ed6",
   "metadata": {},
   "outputs": [],
   "source": [
    "lr1 = LR(solver='sag',max_iter=10000).fit(datas_train[[*range(15)]],datas_train['label'])"
   ]
  },
  {
   "cell_type": "code",
   "execution_count": 1452,
   "id": "3263c7f2",
   "metadata": {},
   "outputs": [
    {
     "data": {
      "text/plain": [
       "0.8938775510204081"
      ]
     },
     "execution_count": 1452,
     "metadata": {},
     "output_type": "execute_result"
    }
   ],
   "source": [
    "lr1.score(datas_train[[*range(15)]],Ytrain)"
   ]
  },
  {
   "cell_type": "code",
   "execution_count": 1453,
   "id": "5234245b",
   "metadata": {},
   "outputs": [
    {
     "data": {
      "text/plain": [
       "0.888095238095238"
      ]
     },
     "execution_count": 1453,
     "metadata": {},
     "output_type": "execute_result"
    }
   ],
   "source": [
    "lr1.score(datas_test[[*range(15)]],Ytest)"
   ]
  },
  {
   "cell_type": "code",
   "execution_count": 1454,
   "id": "748601d8",
   "metadata": {},
   "outputs": [
    {
     "data": {
      "text/plain": [
       "0.9"
      ]
     },
     "execution_count": 1454,
     "metadata": {},
     "output_type": "execute_result"
    }
   ],
   "source": [
    "svc1 = SVC().fit(datas_train[[*range(15)]],Ytrain)\n",
    "svc1.score(datas_train[[*range(15)]],Ytrain)"
   ]
  },
  {
   "cell_type": "code",
   "execution_count": 1455,
   "id": "a30e8943",
   "metadata": {},
   "outputs": [
    {
     "data": {
      "text/plain": [
       "0.8738095238095238"
      ]
     },
     "execution_count": 1455,
     "metadata": {},
     "output_type": "execute_result"
    }
   ],
   "source": [
    "svc1.score(datas_test[[*range(15)]],Ytest)"
   ]
  },
  {
   "cell_type": "code",
   "execution_count": 1456,
   "id": "89f846a3",
   "metadata": {},
   "outputs": [],
   "source": [
    "estimators1 = [('logistic', LR(solver='sag',max_iter=10000))]"
   ]
  },
  {
   "cell_type": "code",
   "execution_count": 1457,
   "id": "27172d52",
   "metadata": {},
   "outputs": [],
   "source": [
    "clf1 = StackingClassifier(estimators=estimators1,final_estimator=SVC())"
   ]
  },
  {
   "cell_type": "code",
   "execution_count": 1458,
   "id": "9fef6103",
   "metadata": {},
   "outputs": [
    {
     "data": {
      "text/plain": [
       "StackingClassifier(estimators=[('logistic',\n",
       "                                LogisticRegression(max_iter=10000,\n",
       "                                                   solver='sag'))],\n",
       "                   final_estimator=SVC())"
      ]
     },
     "execution_count": 1458,
     "metadata": {},
     "output_type": "execute_result"
    }
   ],
   "source": [
    "clf1.fit(datas_train[[*range(15)]],Ytrain)"
   ]
  },
  {
   "cell_type": "code",
   "execution_count": 1459,
   "id": "66fe613a",
   "metadata": {},
   "outputs": [
    {
     "data": {
      "text/plain": [
       "0.8948979591836734"
      ]
     },
     "execution_count": 1459,
     "metadata": {},
     "output_type": "execute_result"
    }
   ],
   "source": [
    "clf1.score(datas_train[[*range(15)]],Ytrain)"
   ]
  },
  {
   "cell_type": "code",
   "execution_count": 1460,
   "id": "cd52163f",
   "metadata": {},
   "outputs": [
    {
     "data": {
      "text/plain": [
       "0.8904761904761904"
      ]
     },
     "execution_count": 1460,
     "metadata": {},
     "output_type": "execute_result"
    }
   ],
   "source": [
    "clf1.score(datas_test[[*range(15)]],Ytest)"
   ]
  },
  {
   "cell_type": "code",
   "execution_count": 1461,
   "id": "b149aa06",
   "metadata": {},
   "outputs": [
    {
     "data": {
      "text/plain": [
       "array([0, 1, 1, 0, 0, 1, 1, 0, 0, 0, 1, 1, 0, 1, 1, 1, 0, 0, 0, 1, 0, 1,\n",
       "       0, 1, 1, 1, 1, 0, 1, 0, 0, 0, 0, 1, 0, 1, 1, 0, 0, 0, 0, 0, 0, 0,\n",
       "       0, 0, 1, 1, 1, 0, 0, 1, 0, 1, 0, 1, 1, 1, 1, 1, 1, 0, 1, 1, 1, 0,\n",
       "       0, 1, 0, 1, 0, 0, 0, 1, 1, 1, 1, 0, 1, 1, 0, 1, 1, 0, 0, 0, 0, 1,\n",
       "       0, 0, 1, 0, 0, 0, 0, 0, 0, 1, 0, 1, 1, 1, 0, 1, 1, 1, 1, 0, 0, 1,\n",
       "       1, 0, 0, 1, 1, 1, 0, 1, 1, 0, 0, 0, 0, 0, 0, 1, 1, 1, 1, 1, 1, 0,\n",
       "       1, 0, 0, 0, 0, 0, 0, 0, 1, 0, 1, 1, 1, 1, 0, 0, 1, 0, 1, 0, 1, 0,\n",
       "       1, 1, 1, 0, 0, 0, 0, 1, 1, 0, 1, 0, 0, 1, 1, 1, 1, 1, 1, 0, 1, 0,\n",
       "       1, 1, 1, 0, 0, 1, 0, 0, 1, 0, 1, 0, 0, 1, 0, 1, 1, 1, 0, 1, 1, 1,\n",
       "       1, 1, 0, 0, 0, 0, 0, 0, 1, 0, 0, 0, 1, 0, 0, 0, 0, 0, 1, 0, 0, 0,\n",
       "       1, 0, 1, 0, 1, 0, 1, 0, 1, 1, 1, 0, 1, 0, 0, 0, 0, 0, 0, 0, 1, 1,\n",
       "       0, 0, 1, 0, 1, 1, 0, 0, 0, 0, 1, 1, 0, 0, 1, 1, 0, 0, 1, 0, 1, 0,\n",
       "       0, 1, 1, 1, 1, 0, 1, 0, 0, 0, 1, 0, 0, 0, 0, 0, 1, 0, 1, 1, 1, 1,\n",
       "       1, 0, 1, 0, 1, 0, 0, 0, 0, 0, 1, 1, 1, 0, 0, 1, 1, 0, 0, 0, 1, 1,\n",
       "       1, 1, 1, 1, 0, 0, 1, 0, 1, 0, 0, 1, 1, 0, 0, 1, 1, 0, 0, 1, 0, 1,\n",
       "       1, 0, 1, 1, 1, 0, 0, 0, 1, 0, 1, 0, 1, 1, 0, 0, 1, 0, 0, 0, 1, 1,\n",
       "       1, 0, 1, 0, 1, 1, 0, 1, 0, 0, 0, 0, 1, 1, 1, 1, 0, 1, 1, 1, 0, 0,\n",
       "       1, 1, 0, 1, 0, 1, 1, 1, 0, 1, 0, 0, 0, 0, 1, 0, 0, 0, 0, 1, 0, 1,\n",
       "       1, 1, 0, 1, 1, 1, 0, 1, 0, 0, 0, 1, 1, 1, 1, 0, 1, 1, 0, 0, 0, 1,\n",
       "       0, 0, 1, 0, 1, 1, 1, 0, 0, 0, 1, 1, 1, 0, 0, 1, 1, 0, 1, 0, 0, 1,\n",
       "       0, 0, 1, 1, 1, 0, 0, 0, 0, 1, 0, 1, 1, 0, 1, 0, 1, 1, 0, 0, 0, 1,\n",
       "       0, 0, 0, 1, 1, 1, 1, 0, 0, 1, 0, 1, 0, 0, 0, 0, 1, 0, 1, 0, 1, 1,\n",
       "       1, 1, 0, 1, 1, 1, 1, 1, 0, 1, 1, 0, 0, 0, 0, 0, 0, 0, 1, 1, 1, 0,\n",
       "       0, 1, 0, 0, 0, 0, 0, 1, 1, 1, 0, 1, 0, 1, 1, 1, 0, 1, 0, 0, 0, 0,\n",
       "       0, 1, 0, 1, 1, 1, 0, 0, 0, 0, 0, 1, 1, 0, 1, 1, 0, 1, 1, 1, 1, 0,\n",
       "       0, 1, 0, 0, 1, 0, 0, 1, 0, 0, 1, 0, 1, 0, 1, 1, 1, 0, 0, 0, 0, 0,\n",
       "       0, 0, 1, 0, 0, 0, 0, 0, 1, 0, 0, 0, 0, 0, 0, 0, 1, 0, 1, 0, 1, 0,\n",
       "       1, 1, 0, 0, 1, 1, 1, 1, 0, 1, 0, 0, 0, 0, 1, 1, 0, 1, 0, 1, 0, 1,\n",
       "       0, 1, 0, 1, 1, 1, 1, 0, 1, 0, 0, 0, 0, 1, 0, 0, 0, 0, 0, 1, 1, 1,\n",
       "       0, 0, 0, 1, 1, 0, 1, 1, 1, 1, 0, 1, 0, 0, 1, 1, 1, 1, 1, 1, 0, 1,\n",
       "       0, 1, 0, 1, 0, 0, 0, 1, 1, 1, 1, 1, 0, 0, 1, 0, 0, 0, 0, 0, 1, 0,\n",
       "       0, 1, 1, 1, 1, 0, 0, 0, 0, 1, 0, 0, 0, 1, 0, 0, 1, 1, 0, 1, 1, 1,\n",
       "       0, 1, 1, 0, 0, 0, 1, 0, 0, 1, 1, 0, 0, 1, 0, 0, 1, 0, 0, 0, 0, 1,\n",
       "       0, 1, 0, 0, 0, 1, 0, 1, 0, 0, 1, 0, 0, 1, 1, 0, 1, 1, 1, 0, 0, 1,\n",
       "       0, 0, 0, 1, 1, 0, 0, 0, 0, 0, 0, 0, 0, 0, 1, 0, 0, 0, 1, 0, 1, 1,\n",
       "       0, 1, 1, 0, 1, 1, 0, 0, 1, 1, 0, 1, 1, 1, 0, 1, 0, 1, 0, 0, 0, 0,\n",
       "       1, 1, 1, 1, 1, 0, 1, 1, 0, 1, 1, 1, 1, 0, 1, 0, 0, 1, 0, 0, 1, 1,\n",
       "       1, 0, 0, 0, 0, 1, 1, 1, 0, 1, 1, 0, 1, 0, 1, 1, 1, 1, 1, 1, 1, 1,\n",
       "       0, 1, 1, 0, 0, 0, 0, 0, 1, 0, 1, 0, 0, 0, 0, 0, 0, 0, 0, 0, 1, 0,\n",
       "       0, 1, 0, 0, 1, 0, 0, 0, 1, 0, 0, 1, 1, 1, 1, 0, 0, 1, 1, 0, 0, 0,\n",
       "       0, 0, 0, 1, 0, 0, 1, 0, 1, 1, 1, 0, 1, 0, 0, 1, 0, 0, 1, 1, 1, 0,\n",
       "       0, 1, 0, 1, 0, 1, 1, 1, 1, 0, 0, 1, 0, 1, 0, 0, 0, 0, 1, 1, 1, 0,\n",
       "       0, 0, 0, 0, 0, 1, 0, 0, 1, 1, 1, 0, 0, 1, 1, 1, 1, 0, 0, 1, 0, 0,\n",
       "       0, 0, 0, 0, 0, 1, 0, 1, 1, 0, 1, 0, 0, 1, 1, 1, 0, 0, 1, 0, 0, 1,\n",
       "       0, 1, 0, 0, 0, 0, 0, 0, 0, 1, 0, 1])"
      ]
     },
     "execution_count": 1461,
     "metadata": {},
     "output_type": "execute_result"
    }
   ],
   "source": [
    "clf1.predict(datas_train[[*range(15)]])"
   ]
  },
  {
   "cell_type": "code",
   "execution_count": 1462,
   "id": "12f11ff7",
   "metadata": {},
   "outputs": [
    {
     "data": {
      "text/plain": [
       "877"
      ]
     },
     "execution_count": 1462,
     "metadata": {},
     "output_type": "execute_result"
    }
   ],
   "source": [
    "(clf1.predict(datas_train[[*range(15)]])==Ytrain).sum()"
   ]
  },
  {
   "cell_type": "code",
   "execution_count": 1463,
   "id": "364d1d2b",
   "metadata": {},
   "outputs": [],
   "source": [
    "estimators2 = [('SVC', SVC())]"
   ]
  },
  {
   "cell_type": "code",
   "execution_count": 1464,
   "id": "72aecc4e",
   "metadata": {},
   "outputs": [
    {
     "data": {
      "text/plain": [
       "StackingClassifier(estimators=[('SVC', SVC())],\n",
       "                   final_estimator=LogisticRegression(solver='saga'))"
      ]
     },
     "execution_count": 1464,
     "metadata": {},
     "output_type": "execute_result"
    }
   ],
   "source": [
    "clf2 = StackingClassifier(estimators=estimators2,final_estimator= LR(solver='saga'))\n",
    "clf2.fit(datas_train[[*range(15)]],Ytrain)"
   ]
  },
  {
   "cell_type": "code",
   "execution_count": 1465,
   "id": "db2f6d5c",
   "metadata": {},
   "outputs": [
    {
     "data": {
      "text/plain": [
       "0.8989795918367347"
      ]
     },
     "execution_count": 1465,
     "metadata": {},
     "output_type": "execute_result"
    }
   ],
   "source": [
    "clf2.score(datas_train[[*range(15)]],Ytrain)"
   ]
  },
  {
   "cell_type": "code",
   "execution_count": 1466,
   "id": "db42b97f",
   "metadata": {},
   "outputs": [
    {
     "data": {
      "text/plain": [
       "0.8904761904761904"
      ]
     },
     "execution_count": 1466,
     "metadata": {},
     "output_type": "execute_result"
    }
   ],
   "source": [
    "clf2.score(datas_test[[*range(15)]],Ytest)"
   ]
  },
  {
   "cell_type": "code",
   "execution_count": 1467,
   "id": "12cf5de2",
   "metadata": {},
   "outputs": [
    {
     "data": {
      "text/plain": [
       "881"
      ]
     },
     "execution_count": 1467,
     "metadata": {},
     "output_type": "execute_result"
    }
   ],
   "source": [
    "(clf2.predict(datas_train[[*range(15)]])==Ytrain).sum()"
   ]
  },
  {
   "cell_type": "code",
   "execution_count": 1492,
   "id": "8e3db454",
   "metadata": {},
   "outputs": [
    {
     "data": {
      "text/plain": [
       "<matplotlib.legend.Legend at 0x7f9b080b4450>"
      ]
     },
     "execution_count": 1492,
     "metadata": {},
     "output_type": "execute_result"
    },
    {
     "data": {
      "image/png": "[encoded data removed]",
      "text/plain": [
       "<Figure size 432x288 with 1 Axes>"
      ]
     },
     "metadata": {
      "needs_background": "light"
     },
     "output_type": "display_data"
    }
   ],
   "source": [
    "fpr,tpr, thresholds = roc_curve(Ytrain,clf2.decision_function(datas_train[[*range(15)]]))\n",
    "area = AUC(Ytrain,clf2.decision_function(datas_train[[*range(15)]]))\n",
    "maxindex = (tpr-fpr).tolist().index(max(tpr-fpr))\n",
    "plt.plot(fpr, tpr, color='blue',label='AUC:%0.3f' % area)\n",
    "plt.scatter(fpr[maxindex],tpr[maxindex],c='black',s=30)\n",
    "# plt.annotate((fpr[maxindex],tpr[maxindex]),(fpr[maxindex],tpr[maxindex]),(fpr[maxindex],tpr[maxindex]))\n",
    "plt.plot(fpr,tpr)\n",
    "plt.plot([0, 1], [0, 1], color='orange', linestyle='--')\n",
    "plt.xlabel('1-Specificity')\n",
    "plt.ylabel('Sensitivity')\n",
    "plt.legend(loc=\"center\")"
   ]
  },
  {
   "cell_type": "code",
   "execution_count": null,
   "id": "a8dbf94b",
   "metadata": {},
   "outputs": [],
   "source": []
  }
 ],
 "metadata": {
  "kernelspec": {
   "display_name": "Python 3 (ipykernel)",
   "language": "python",
   "name": "python3"
  },
  "language_info": {
   "codemirror_mode": {
    "name": "ipython",
    "version": 3
   },
   "file_extension": ".py",
   "mimetype": "text/x-python",
   "name": "python",
   "nbconvert_exporter": "python",
   "pygments_lexer": "ipython3",
   "version": "3.7.11"
  }
 },
 "nbformat": 4,
 "nbformat_minor": 5
}
